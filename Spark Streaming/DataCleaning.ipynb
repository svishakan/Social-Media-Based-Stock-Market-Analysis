{
 "cells": [
  {
   "cell_type": "code",
   "execution_count": 1,
   "metadata": {},
   "outputs": [],
   "source": [
    "import os\n",
    "import random\n",
    "import sqlite3\n",
    "import datetime\n",
    "\n",
    "import numpy as np\n",
    "import pandas as pd"
   ]
  },
  {
   "cell_type": "code",
   "execution_count": 2,
   "metadata": {},
   "outputs": [],
   "source": [
    "pd.set_option('display.max_rows', 500)\n",
    "pd.set_option('display.max_columns', 500)\n",
    "pd.set_option('display.width', 1000)"
   ]
  },
  {
   "cell_type": "code",
   "execution_count": 64,
   "metadata": {},
   "outputs": [],
   "source": [
    "con_pharma = sqlite3.connect(os.path.join(os.getcwd(), \"../Database/fypdb.sqlite\"))"
   ]
  },
  {
   "cell_type": "code",
   "execution_count": 4,
   "metadata": {},
   "outputs": [],
   "source": [
    "tweet_df = pd.read_sql_query(f\"SELECT * from ev_game_tweets_count WHERE category = 'EVs'\", con_pharma)"
   ]
  },
  {
   "cell_type": "code",
   "execution_count": 5,
   "metadata": {},
   "outputs": [
    {
     "data": {
      "text/plain": [
       "723"
      ]
     },
     "execution_count": 5,
     "metadata": {},
     "output_type": "execute_result"
    }
   ],
   "source": [
    "len(tweet_df['tweetDate'].unique())"
   ]
  },
  {
   "cell_type": "code",
   "execution_count": 6,
   "metadata": {},
   "outputs": [
    {
     "data": {
      "text/plain": [
       "1       88791\n",
       "2       13758\n",
       "3        3681\n",
       "4        1750\n",
       "10       1593\n",
       "5        1101\n",
       "9        1066\n",
       "8         882\n",
       "6         830\n",
       "7         798\n",
       "20        198\n",
       "18        156\n",
       "12        138\n",
       "11        137\n",
       "14        112\n",
       "13        109\n",
       "16        106\n",
       "15         71\n",
       "21         67\n",
       "17         61\n",
       "30         58\n",
       "27         47\n",
       "19         42\n",
       "24         41\n",
       "28         39\n",
       "26         33\n",
       "23         32\n",
       "40         31\n",
       "22         29\n",
       "25         28\n",
       "31         27\n",
       "32         22\n",
       "36         20\n",
       "37         19\n",
       "50         19\n",
       "29         18\n",
       "33         15\n",
       "38         14\n",
       "60         14\n",
       "35         14\n",
       "39         13\n",
       "45         12\n",
       "34         12\n",
       "43         11\n",
       "47         11\n",
       "46         11\n",
       "51         11\n",
       "41         10\n",
       "48          9\n",
       "42          9\n",
       "72          9\n",
       "54          9\n",
       "44          8\n",
       "68          8\n",
       "70          7\n",
       "58          7\n",
       "56          7\n",
       "53          7\n",
       "77          5\n",
       "71          5\n",
       "140         5\n",
       "63          5\n",
       "64          5\n",
       "52          5\n",
       "59          5\n",
       "107         4\n",
       "79          4\n",
       "55          4\n",
       "75          4\n",
       "86          4\n",
       "57          4\n",
       "87          4\n",
       "61          4\n",
       "78          4\n",
       "98          4\n",
       "62          4\n",
       "67          3\n",
       "66          3\n",
       "65          3\n",
       "49          3\n",
       "153         3\n",
       "84          3\n",
       "100         3\n",
       "136         3\n",
       "81          3\n",
       "80          3\n",
       "76          2\n",
       "112         2\n",
       "146         2\n",
       "74          2\n",
       "113         2\n",
       "144         2\n",
       "115         2\n",
       "73          2\n",
       "192         2\n",
       "101         2\n",
       "150         2\n",
       "103         2\n",
       "214         2\n",
       "134         2\n",
       "111         2\n",
       "95          2\n",
       "125         2\n",
       "133         2\n",
       "174         2\n",
       "152         2\n",
       "121         2\n",
       "1400        1\n",
       "184         1\n",
       "141         1\n",
       "189         1\n",
       "131         1\n",
       "132         1\n",
       "196         1\n",
       "182         1\n",
       "246         1\n",
       "260         1\n",
       "397         1\n",
       "380         1\n",
       "251         1\n",
       "119         1\n",
       "190         1\n",
       "129         1\n",
       "183         1\n",
       "138         1\n",
       "198         1\n",
       "123         1\n",
       "390         1\n",
       "1862        1\n",
       "126         1\n",
       "102         1\n",
       "628         1\n",
       "362         1\n",
       "318         1\n",
       "91          1\n",
       "110         1\n",
       "172         1\n",
       "93          1\n",
       "349         1\n",
       "171         1\n",
       "94          1\n",
       "234         1\n",
       "142         1\n",
       "161         1\n",
       "105         1\n",
       "290         1\n",
       "674         1\n",
       "232         1\n",
       "99          1\n",
       "168         1\n",
       "104         1\n",
       "154         1\n",
       "90          1\n",
       "793         1\n",
       "89          1\n",
       "528         1\n",
       "306         1\n",
       "145         1\n",
       "209         1\n",
       "114         1\n",
       "82          1\n",
       "210         1\n",
       "241         1\n",
       "3922        1\n",
       "149         1\n",
       "341         1\n",
       "240         1\n",
       "342         1\n",
       "176         1\n",
       "88          1\n",
       "216         1\n",
       "344         1\n",
       "337         1\n",
       "Name: count, dtype: int64"
      ]
     },
     "execution_count": 6,
     "metadata": {},
     "output_type": "execute_result"
    }
   ],
   "source": [
    "tweet_df['count'].value_counts()"
   ]
  },
  {
   "cell_type": "code",
   "execution_count": 7,
   "metadata": {},
   "outputs": [
    {
     "data": {
      "text/html": [
       "<div>\n",
       "<style scoped>\n",
       "    .dataframe tbody tr th:only-of-type {\n",
       "        vertical-align: middle;\n",
       "    }\n",
       "\n",
       "    .dataframe tbody tr th {\n",
       "        vertical-align: top;\n",
       "    }\n",
       "\n",
       "    .dataframe thead th {\n",
       "        text-align: right;\n",
       "    }\n",
       "</style>\n",
       "<table border=\"1\" class=\"dataframe\">\n",
       "  <thead>\n",
       "    <tr style=\"text-align: right;\">\n",
       "      <th></th>\n",
       "      <th>count</th>\n",
       "    </tr>\n",
       "  </thead>\n",
       "  <tbody>\n",
       "    <tr>\n",
       "      <th>count</th>\n",
       "      <td>116355.000000</td>\n",
       "    </tr>\n",
       "    <tr>\n",
       "      <th>mean</th>\n",
       "      <td>2.249340</td>\n",
       "    </tr>\n",
       "    <tr>\n",
       "      <th>std</th>\n",
       "      <td>15.534523</td>\n",
       "    </tr>\n",
       "    <tr>\n",
       "      <th>min</th>\n",
       "      <td>1.000000</td>\n",
       "    </tr>\n",
       "    <tr>\n",
       "      <th>25%</th>\n",
       "      <td>1.000000</td>\n",
       "    </tr>\n",
       "    <tr>\n",
       "      <th>50%</th>\n",
       "      <td>1.000000</td>\n",
       "    </tr>\n",
       "    <tr>\n",
       "      <th>75%</th>\n",
       "      <td>1.000000</td>\n",
       "    </tr>\n",
       "    <tr>\n",
       "      <th>max</th>\n",
       "      <td>3922.000000</td>\n",
       "    </tr>\n",
       "  </tbody>\n",
       "</table>\n",
       "</div>"
      ],
      "text/plain": [
       "               count\n",
       "count  116355.000000\n",
       "mean        2.249340\n",
       "std        15.534523\n",
       "min         1.000000\n",
       "25%         1.000000\n",
       "50%         1.000000\n",
       "75%         1.000000\n",
       "max      3922.000000"
      ]
     },
     "execution_count": 7,
     "metadata": {},
     "output_type": "execute_result"
    }
   ],
   "source": [
    "tweet_df.describe()"
   ]
  },
  {
   "cell_type": "code",
   "execution_count": 8,
   "metadata": {},
   "outputs": [
    {
     "data": {
      "text/plain": [
       "<AxesSubplot:>"
      ]
     },
     "execution_count": 8,
     "metadata": {},
     "output_type": "execute_result"
    },
    {
     "data": {
      "image/png": "[encoded data removed]",
      "text/plain": [
       "<Figure size 432x288 with 1 Axes>"
      ]
     },
     "metadata": {
      "needs_background": "light"
     },
     "output_type": "display_data"
    }
   ],
   "source": [
    "tweet_df.boxplot()"
   ]
  },
  {
   "cell_type": "code",
   "execution_count": 65,
   "metadata": {},
   "outputs": [],
   "source": [
    "tweet_df = pd.read_sql_query(f\"SELECT * from ev_game_tweets_count WHERE count > 1 AND category = 'EVs'\", con_pharma)"
   ]
  },
  {
   "cell_type": "code",
   "execution_count": 66,
   "metadata": {
    "scrolled": true
   },
   "outputs": [
    {
     "data": {
      "text/html": [
       "<div>\n",
       "<style scoped>\n",
       "    .dataframe tbody tr th:only-of-type {\n",
       "        vertical-align: middle;\n",
       "    }\n",
       "\n",
       "    .dataframe tbody tr th {\n",
       "        vertical-align: top;\n",
       "    }\n",
       "\n",
       "    .dataframe thead th {\n",
       "        text-align: right;\n",
       "    }\n",
       "</style>\n",
       "<table border=\"1\" class=\"dataframe\">\n",
       "  <thead>\n",
       "    <tr style=\"text-align: right;\">\n",
       "      <th></th>\n",
       "      <th>count</th>\n",
       "    </tr>\n",
       "  </thead>\n",
       "  <tbody>\n",
       "    <tr>\n",
       "      <th>count</th>\n",
       "      <td>27564.000000</td>\n",
       "    </tr>\n",
       "    <tr>\n",
       "      <th>mean</th>\n",
       "      <td>6.273799</td>\n",
       "    </tr>\n",
       "    <tr>\n",
       "      <th>std</th>\n",
       "      <td>31.582991</td>\n",
       "    </tr>\n",
       "    <tr>\n",
       "      <th>min</th>\n",
       "      <td>2.000000</td>\n",
       "    </tr>\n",
       "    <tr>\n",
       "      <th>25%</th>\n",
       "      <td>2.000000</td>\n",
       "    </tr>\n",
       "    <tr>\n",
       "      <th>50%</th>\n",
       "      <td>3.000000</td>\n",
       "    </tr>\n",
       "    <tr>\n",
       "      <th>75%</th>\n",
       "      <td>6.000000</td>\n",
       "    </tr>\n",
       "    <tr>\n",
       "      <th>max</th>\n",
       "      <td>3922.000000</td>\n",
       "    </tr>\n",
       "  </tbody>\n",
       "</table>\n",
       "</div>"
      ],
      "text/plain": [
       "              count\n",
       "count  27564.000000\n",
       "mean       6.273799\n",
       "std       31.582991\n",
       "min        2.000000\n",
       "25%        2.000000\n",
       "50%        3.000000\n",
       "75%        6.000000\n",
       "max     3922.000000"
      ]
     },
     "execution_count": 66,
     "metadata": {},
     "output_type": "execute_result"
    }
   ],
   "source": [
    "tweet_df.describe()"
   ]
  },
  {
   "cell_type": "code",
   "execution_count": 67,
   "metadata": {},
   "outputs": [
    {
     "data": {
      "text/plain": [
       "<AxesSubplot:>"
      ]
     },
     "execution_count": 67,
     "metadata": {},
     "output_type": "execute_result"
    },
    {
     "data": {
      "image/png": "[encoded data removed]",
      "text/plain": [
       "<Figure size 432x288 with 1 Axes>"
      ]
     },
     "metadata": {
      "needs_background": "light"
     },
     "output_type": "display_data"
    }
   ],
   "source": [
    "tweet_df.boxplot()"
   ]
  },
  {
   "cell_type": "code",
   "execution_count": 68,
   "metadata": {},
   "outputs": [],
   "source": [
    "tweet_df['count'] = tweet_df['count'].apply(lambda x: 15 if x > 15 else x) "
   ]
  },
  {
   "cell_type": "code",
   "execution_count": 69,
   "metadata": {},
   "outputs": [
    {
     "data": {
      "text/html": [
       "<div>\n",
       "<style scoped>\n",
       "    .dataframe tbody tr th:only-of-type {\n",
       "        vertical-align: middle;\n",
       "    }\n",
       "\n",
       "    .dataframe tbody tr th {\n",
       "        vertical-align: top;\n",
       "    }\n",
       "\n",
       "    .dataframe thead th {\n",
       "        text-align: right;\n",
       "    }\n",
       "</style>\n",
       "<table border=\"1\" class=\"dataframe\">\n",
       "  <thead>\n",
       "    <tr style=\"text-align: right;\">\n",
       "      <th></th>\n",
       "      <th>count</th>\n",
       "    </tr>\n",
       "  </thead>\n",
       "  <tbody>\n",
       "    <tr>\n",
       "      <th>count</th>\n",
       "      <td>27564.000000</td>\n",
       "    </tr>\n",
       "    <tr>\n",
       "      <th>mean</th>\n",
       "      <td>4.516507</td>\n",
       "    </tr>\n",
       "    <tr>\n",
       "      <th>std</th>\n",
       "      <td>3.768004</td>\n",
       "    </tr>\n",
       "    <tr>\n",
       "      <th>min</th>\n",
       "      <td>2.000000</td>\n",
       "    </tr>\n",
       "    <tr>\n",
       "      <th>25%</th>\n",
       "      <td>2.000000</td>\n",
       "    </tr>\n",
       "    <tr>\n",
       "      <th>50%</th>\n",
       "      <td>3.000000</td>\n",
       "    </tr>\n",
       "    <tr>\n",
       "      <th>75%</th>\n",
       "      <td>6.000000</td>\n",
       "    </tr>\n",
       "    <tr>\n",
       "      <th>max</th>\n",
       "      <td>15.000000</td>\n",
       "    </tr>\n",
       "  </tbody>\n",
       "</table>\n",
       "</div>"
      ],
      "text/plain": [
       "              count\n",
       "count  27564.000000\n",
       "mean       4.516507\n",
       "std        3.768004\n",
       "min        2.000000\n",
       "25%        2.000000\n",
       "50%        3.000000\n",
       "75%        6.000000\n",
       "max       15.000000"
      ]
     },
     "execution_count": 69,
     "metadata": {},
     "output_type": "execute_result"
    }
   ],
   "source": [
    "tweet_df.describe()"
   ]
  },
  {
   "cell_type": "code",
   "execution_count": 70,
   "metadata": {},
   "outputs": [
    {
     "data": {
      "text/plain": [
       "<AxesSubplot:>"
      ]
     },
     "execution_count": 70,
     "metadata": {},
     "output_type": "execute_result"
    },
    {
     "data": {
      "image/png": "[encoded data removed]",
      "text/plain": [
       "<Figure size 432x288 with 1 Axes>"
      ]
     },
     "metadata": {
      "needs_background": "light"
     },
     "output_type": "display_data"
    }
   ],
   "source": [
    "tweet_df.boxplot()"
   ]
  },
  {
   "cell_type": "code",
   "execution_count": 71,
   "metadata": {
    "scrolled": false
   },
   "outputs": [
    {
     "data": {
      "text/plain": [
       "723"
      ]
     },
     "execution_count": 71,
     "metadata": {},
     "output_type": "execute_result"
    }
   ],
   "source": [
    "len(tweet_df['tweetDate'].unique())"
   ]
  },
  {
   "cell_type": "code",
   "execution_count": 72,
   "metadata": {},
   "outputs": [
    {
     "data": {
      "text/plain": [
       "2     13758\n",
       "3      3681\n",
       "4      1750\n",
       "15     1609\n",
       "10     1593\n",
       "5      1101\n",
       "9      1066\n",
       "8       882\n",
       "6       830\n",
       "7       798\n",
       "12      138\n",
       "11      137\n",
       "14      112\n",
       "13      109\n",
       "Name: count, dtype: int64"
      ]
     },
     "execution_count": 72,
     "metadata": {},
     "output_type": "execute_result"
    }
   ],
   "source": [
    "tweet_df['count'].value_counts()"
   ]
  },
  {
   "cell_type": "code",
   "execution_count": 73,
   "metadata": {},
   "outputs": [],
   "source": [
    "def write_to_db(con, df):\n",
    "    cursor = con.cursor()\n",
    "    \n",
    "    try:\n",
    "        cursor.execute('''CREATE TABLE IF NOT EXISTS new_reduced_tweet_counts (\n",
    "              category TEXT, \n",
    "              tweetDate DATE, \n",
    "              count INTEGER, \n",
    "              tweet TEXT, \n",
    "              CONSTRAINT uniq_val PRIMARY KEY (category, tweetDate, tweet))''')\n",
    "        con.commit()\n",
    "        \n",
    "        df.to_sql('new_reduced_tweet_counts', con, if_exists='replace', index=False)\n",
    "        con.commit()\n",
    "        \n",
    "    except sqlite3.Error as error:\n",
    "        print({error})\n",
    "    \n",
    "    finally:\n",
    "        cursor.close()\n",
    "        con.close()"
   ]
  },
  {
   "cell_type": "code",
   "execution_count": 74,
   "metadata": {},
   "outputs": [],
   "source": [
    "write_to_db(con, tweet_df)"
   ]
  },
  {
   "cell_type": "code",
   "execution_count": 60,
   "metadata": {
    "scrolled": true
   },
   "outputs": [
    {
     "data": {
      "text/plain": [
       "2021-11-29    139\n",
       "2021-09-24    129\n",
       "2021-09-01    126\n",
       "2021-08-10    126\n",
       "2021-08-09    122\n",
       "             ... \n",
       "2020-11-30     13\n",
       "2021-08-15     12\n",
       "2020-09-26     12\n",
       "2020-10-10     11\n",
       "2021-02-28      7\n",
       "Name: tweetDate, Length: 723, dtype: int64"
      ]
     },
     "execution_count": 60,
     "metadata": {},
     "output_type": "execute_result"
    }
   ],
   "source": [
    "tweet_df['tweetDate'].value_counts()"
   ]
  },
  {
   "cell_type": "code",
   "execution_count": null,
   "metadata": {},
   "outputs": [],
   "source": []
  }
 ],
 "metadata": {
  "kernelspec": {
   "display_name": "Python 3",
   "language": "python",
   "name": "python3"
  },
  "language_info": {
   "codemirror_mode": {
    "name": "ipython",
    "version": 3
   },
   "file_extension": ".py",
   "mimetype": "text/x-python",
   "name": "python",
   "nbconvert_exporter": "python",
   "pygments_lexer": "ipython3",
   "version": "3.8.5"
  }
 },
 "nbformat": 4,
 "nbformat_minor": 5
}
