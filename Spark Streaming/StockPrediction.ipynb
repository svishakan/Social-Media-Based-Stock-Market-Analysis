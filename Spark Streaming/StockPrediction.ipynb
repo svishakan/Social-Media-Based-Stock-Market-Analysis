{
 "cells": [
  {
   "cell_type": "markdown",
   "id": "51fd7b8b",
   "metadata": {},
   "source": [
    "### Required Imports and Installations"
   ]
  },
  {
   "cell_type": "code",
   "execution_count": 1,
   "id": "cd8541f5",
   "metadata": {},
   "outputs": [
    {
     "name": "stderr",
     "output_type": "stream",
     "text": [
      "2022-05-10 18:33:51.052822: W tensorflow/stream_executor/platform/default/dso_loader.cc:64] Could not load dynamic library 'libcudart.so.11.0'; dlerror: libcudart.so.11.0: cannot open shared object file: No such file or directory\n",
      "2022-05-10 18:33:51.052842: I tensorflow/stream_executor/cuda/cudart_stub.cc:29] Ignore above cudart dlerror if you do not have a GPU set up on your machine.\n"
     ]
    }
   ],
   "source": [
    "import os\n",
    "import sqlite3\n",
    "\n",
    "import numpy as np\n",
    "import pandas as pd\n",
    "\n",
    "import seaborn as sns\n",
    "import matplotlib.pyplot as plt\n",
    "\n",
    "from sklearn.preprocessing import MinMaxScaler\n",
    "from sklearn.model_selection import train_test_split\n",
    "\n",
    "import tensorflow as tf\n",
    "from tensorflow.keras.layers import Dense\n",
    "from tensorflow.keras.models import Sequential\n",
    "\n",
    "from sklearn.metrics import explained_variance_score, mean_poisson_deviance, mean_gamma_deviance\n",
    "from sklearn.metrics import r2_score\n",
    "from sklearn.metrics import max_error\n",
    "\n",
    "%matplotlib inline"
   ]
  },
  {
   "cell_type": "markdown",
   "id": "a40895e6",
   "metadata": {},
   "source": [
    "### Data Ingestion & Pre-Processing"
   ]
  },
  {
   "cell_type": "code",
   "execution_count": 2,
   "id": "978d766f",
   "metadata": {},
   "outputs": [],
   "source": [
    "con1 = sqlite3.connect(os.path.join(os.getcwd(), \"../Database/fypdb.sqlite\"))\n",
    "con2 = sqlite3.connect(os.path.join(os.getcwd(), \"../Database/results.sqlite\"))"
   ]
  },
  {
   "cell_type": "code",
   "execution_count": 3,
   "id": "3f2b8448",
   "metadata": {},
   "outputs": [],
   "source": [
    "stock_approx_df = pd.read_sql_query(\"SELECT * from stock_data WHERE ticker='TSLA'\", con1)\n",
    "\n",
    "stock_approx_df = stock_approx_df.drop(columns = ['category', 'ticker'])\n",
    "\n",
    "stock_approx_df[\"stockDate\"] = stock_approx_df[\"stockDate\"].astype(\"datetime64\")\n",
    "stock_approx_df[\"open\"] = stock_approx_df[\"open\"].astype(\"float64\")\n",
    "stock_approx_df[\"close\"] = stock_approx_df[\"close\"].astype(\"float64\")\n",
    "\n",
    "stock_approx_df.rename(columns = {'stockDate': 'date'}, inplace = True)"
   ]
  },
  {
   "cell_type": "code",
   "execution_count": 4,
   "id": "8b68bea9",
   "metadata": {},
   "outputs": [
    {
     "data": {
      "text/html": [
       "<div>\n",
       "<style scoped>\n",
       "    .dataframe tbody tr th:only-of-type {\n",
       "        vertical-align: middle;\n",
       "    }\n",
       "\n",
       "    .dataframe tbody tr th {\n",
       "        vertical-align: top;\n",
       "    }\n",
       "\n",
       "    .dataframe thead th {\n",
       "        text-align: right;\n",
       "    }\n",
       "</style>\n",
       "<table border=\"1\" class=\"dataframe\">\n",
       "  <thead>\n",
       "    <tr style=\"text-align: right;\">\n",
       "      <th></th>\n",
       "      <th>date</th>\n",
       "      <th>open</th>\n",
       "      <th>close</th>\n",
       "      <th>high</th>\n",
       "      <th>low</th>\n",
       "    </tr>\n",
       "  </thead>\n",
       "  <tbody>\n",
       "    <tr>\n",
       "      <th>0</th>\n",
       "      <td>2020-03-30</td>\n",
       "      <td>102.0520</td>\n",
       "      <td>100.4260</td>\n",
       "      <td>103.3294</td>\n",
       "      <td>98.246</td>\n",
       "    </tr>\n",
       "    <tr>\n",
       "      <th>1</th>\n",
       "      <td>2020-03-31</td>\n",
       "      <td>100.2500</td>\n",
       "      <td>104.8000</td>\n",
       "      <td>108.5920</td>\n",
       "      <td>99.400</td>\n",
       "    </tr>\n",
       "    <tr>\n",
       "      <th>2</th>\n",
       "      <td>2020-04-01</td>\n",
       "      <td>100.8000</td>\n",
       "      <td>96.3120</td>\n",
       "      <td>102.7910</td>\n",
       "      <td>95.020</td>\n",
       "    </tr>\n",
       "    <tr>\n",
       "      <th>3</th>\n",
       "      <td>2020-04-02</td>\n",
       "      <td>96.2060</td>\n",
       "      <td>90.8940</td>\n",
       "      <td>98.8520</td>\n",
       "      <td>89.280</td>\n",
       "    </tr>\n",
       "    <tr>\n",
       "      <th>4</th>\n",
       "      <td>2020-04-03</td>\n",
       "      <td>101.9000</td>\n",
       "      <td>96.0020</td>\n",
       "      <td>103.0980</td>\n",
       "      <td>93.678</td>\n",
       "    </tr>\n",
       "    <tr>\n",
       "      <th>...</th>\n",
       "      <td>...</td>\n",
       "      <td>...</td>\n",
       "      <td>...</td>\n",
       "      <td>...</td>\n",
       "      <td>...</td>\n",
       "    </tr>\n",
       "    <tr>\n",
       "      <th>720</th>\n",
       "      <td>2022-03-20</td>\n",
       "      <td>904.8575</td>\n",
       "      <td>917.2175</td>\n",
       "      <td>934.1000</td>\n",
       "      <td>897.165</td>\n",
       "    </tr>\n",
       "    <tr>\n",
       "      <th>721</th>\n",
       "      <td>2022-03-21</td>\n",
       "      <td>914.9800</td>\n",
       "      <td>921.1600</td>\n",
       "      <td>942.8500</td>\n",
       "      <td>907.090</td>\n",
       "    </tr>\n",
       "    <tr>\n",
       "      <th>722</th>\n",
       "      <td>2022-03-22</td>\n",
       "      <td>930.0000</td>\n",
       "      <td>993.9800</td>\n",
       "      <td>997.8600</td>\n",
       "      <td>921.750</td>\n",
       "    </tr>\n",
       "    <tr>\n",
       "      <th>723</th>\n",
       "      <td>2022-03-23</td>\n",
       "      <td>979.9400</td>\n",
       "      <td>999.1100</td>\n",
       "      <td>1040.7000</td>\n",
       "      <td>976.400</td>\n",
       "    </tr>\n",
       "    <tr>\n",
       "      <th>724</th>\n",
       "      <td>2022-03-24</td>\n",
       "      <td>1009.7300</td>\n",
       "      <td>1013.9200</td>\n",
       "      <td>1024.4900</td>\n",
       "      <td>988.800</td>\n",
       "    </tr>\n",
       "  </tbody>\n",
       "</table>\n",
       "<p>725 rows × 5 columns</p>\n",
       "</div>"
      ],
      "text/plain": [
       "          date       open      close       high      low\n",
       "0   2020-03-30   102.0520   100.4260   103.3294   98.246\n",
       "1   2020-03-31   100.2500   104.8000   108.5920   99.400\n",
       "2   2020-04-01   100.8000    96.3120   102.7910   95.020\n",
       "3   2020-04-02    96.2060    90.8940    98.8520   89.280\n",
       "4   2020-04-03   101.9000    96.0020   103.0980   93.678\n",
       "..         ...        ...        ...        ...      ...\n",
       "720 2022-03-20   904.8575   917.2175   934.1000  897.165\n",
       "721 2022-03-21   914.9800   921.1600   942.8500  907.090\n",
       "722 2022-03-22   930.0000   993.9800   997.8600  921.750\n",
       "723 2022-03-23   979.9400   999.1100  1040.7000  976.400\n",
       "724 2022-03-24  1009.7300  1013.9200  1024.4900  988.800\n",
       "\n",
       "[725 rows x 5 columns]"
      ]
     },
     "execution_count": 4,
     "metadata": {},
     "output_type": "execute_result"
    }
   ],
   "source": [
    "stock_approx_df"
   ]
  },
  {
   "cell_type": "code",
   "execution_count": 5,
   "id": "d3efb9b6",
   "metadata": {},
   "outputs": [],
   "source": [
    "stock_df = pd.read_sql_query(\"SELECT * from stocks WHERE ticker='TSLA'\", con1)\n",
    "\n",
    "stock_df = stock_df.drop(columns = ['category', 'ticker', 'pre_market', 'afterHours'])\n",
    "\n",
    "stock_df[\"stockDate\"] = stock_df[\"stockDate\"].astype(\"datetime64\")\n",
    "stock_df[\"open\"] = stock_df[\"open\"].astype(\"float64\")\n",
    "stock_df[\"close\"] = stock_df[\"close\"].astype(\"float64\")\n",
    "stock_df[\"high\"] = stock_df[\"high\"].astype(\"float64\")\n",
    "stock_df[\"low\"] = stock_df[\"low\"].astype(\"float64\")\n",
    "\n",
    "stock_df.rename(columns = {'stockDate': 'date'}, inplace = True)"
   ]
  },
  {
   "cell_type": "code",
   "execution_count": 6,
   "id": "fa1ebc9b",
   "metadata": {
    "scrolled": true
   },
   "outputs": [
    {
     "data": {
      "text/html": [
       "<div>\n",
       "<style scoped>\n",
       "    .dataframe tbody tr th:only-of-type {\n",
       "        vertical-align: middle;\n",
       "    }\n",
       "\n",
       "    .dataframe tbody tr th {\n",
       "        vertical-align: top;\n",
       "    }\n",
       "\n",
       "    .dataframe thead th {\n",
       "        text-align: right;\n",
       "    }\n",
       "</style>\n",
       "<table border=\"1\" class=\"dataframe\">\n",
       "  <thead>\n",
       "    <tr style=\"text-align: right;\">\n",
       "      <th></th>\n",
       "      <th>date</th>\n",
       "      <th>open</th>\n",
       "      <th>close</th>\n",
       "      <th>high</th>\n",
       "      <th>low</th>\n",
       "    </tr>\n",
       "  </thead>\n",
       "  <tbody>\n",
       "    <tr>\n",
       "      <th>0</th>\n",
       "      <td>2020-03-30</td>\n",
       "      <td>102.052</td>\n",
       "      <td>100.426</td>\n",
       "      <td>103.3294</td>\n",
       "      <td>98.246</td>\n",
       "    </tr>\n",
       "    <tr>\n",
       "      <th>1</th>\n",
       "      <td>2020-03-31</td>\n",
       "      <td>100.250</td>\n",
       "      <td>104.800</td>\n",
       "      <td>108.5920</td>\n",
       "      <td>99.400</td>\n",
       "    </tr>\n",
       "    <tr>\n",
       "      <th>2</th>\n",
       "      <td>2020-04-01</td>\n",
       "      <td>100.800</td>\n",
       "      <td>96.312</td>\n",
       "      <td>102.7910</td>\n",
       "      <td>95.020</td>\n",
       "    </tr>\n",
       "    <tr>\n",
       "      <th>3</th>\n",
       "      <td>2020-04-02</td>\n",
       "      <td>96.206</td>\n",
       "      <td>90.894</td>\n",
       "      <td>98.8520</td>\n",
       "      <td>89.280</td>\n",
       "    </tr>\n",
       "    <tr>\n",
       "      <th>4</th>\n",
       "      <td>2020-04-03</td>\n",
       "      <td>101.900</td>\n",
       "      <td>96.002</td>\n",
       "      <td>103.0980</td>\n",
       "      <td>93.678</td>\n",
       "    </tr>\n",
       "    <tr>\n",
       "      <th>...</th>\n",
       "      <td>...</td>\n",
       "      <td>...</td>\n",
       "      <td>...</td>\n",
       "      <td>...</td>\n",
       "      <td>...</td>\n",
       "    </tr>\n",
       "    <tr>\n",
       "      <th>497</th>\n",
       "      <td>2022-03-18</td>\n",
       "      <td>874.490</td>\n",
       "      <td>905.390</td>\n",
       "      <td>907.8500</td>\n",
       "      <td>867.390</td>\n",
       "    </tr>\n",
       "    <tr>\n",
       "      <th>498</th>\n",
       "      <td>2022-03-21</td>\n",
       "      <td>914.980</td>\n",
       "      <td>921.160</td>\n",
       "      <td>942.8500</td>\n",
       "      <td>907.090</td>\n",
       "    </tr>\n",
       "    <tr>\n",
       "      <th>499</th>\n",
       "      <td>2022-03-22</td>\n",
       "      <td>930.000</td>\n",
       "      <td>993.980</td>\n",
       "      <td>997.8600</td>\n",
       "      <td>921.750</td>\n",
       "    </tr>\n",
       "    <tr>\n",
       "      <th>500</th>\n",
       "      <td>2022-03-23</td>\n",
       "      <td>979.940</td>\n",
       "      <td>999.110</td>\n",
       "      <td>1040.7000</td>\n",
       "      <td>976.400</td>\n",
       "    </tr>\n",
       "    <tr>\n",
       "      <th>501</th>\n",
       "      <td>2022-03-24</td>\n",
       "      <td>1009.730</td>\n",
       "      <td>1013.920</td>\n",
       "      <td>1024.4900</td>\n",
       "      <td>988.800</td>\n",
       "    </tr>\n",
       "  </tbody>\n",
       "</table>\n",
       "<p>502 rows × 5 columns</p>\n",
       "</div>"
      ],
      "text/plain": [
       "          date      open     close       high      low\n",
       "0   2020-03-30   102.052   100.426   103.3294   98.246\n",
       "1   2020-03-31   100.250   104.800   108.5920   99.400\n",
       "2   2020-04-01   100.800    96.312   102.7910   95.020\n",
       "3   2020-04-02    96.206    90.894    98.8520   89.280\n",
       "4   2020-04-03   101.900    96.002   103.0980   93.678\n",
       "..         ...       ...       ...        ...      ...\n",
       "497 2022-03-18   874.490   905.390   907.8500  867.390\n",
       "498 2022-03-21   914.980   921.160   942.8500  907.090\n",
       "499 2022-03-22   930.000   993.980   997.8600  921.750\n",
       "500 2022-03-23   979.940   999.110  1040.7000  976.400\n",
       "501 2022-03-24  1009.730  1013.920  1024.4900  988.800\n",
       "\n",
       "[502 rows x 5 columns]"
      ]
     },
     "execution_count": 6,
     "metadata": {},
     "output_type": "execute_result"
    }
   ],
   "source": [
    "stock_df"
   ]
  },
  {
   "cell_type": "code",
   "execution_count": 7,
   "id": "71fad2ee",
   "metadata": {},
   "outputs": [
    {
     "data": {
      "text/html": [
       "<div>\n",
       "<style scoped>\n",
       "    .dataframe tbody tr th:only-of-type {\n",
       "        vertical-align: middle;\n",
       "    }\n",
       "\n",
       "    .dataframe tbody tr th {\n",
       "        vertical-align: top;\n",
       "    }\n",
       "\n",
       "    .dataframe thead th {\n",
       "        text-align: right;\n",
       "    }\n",
       "</style>\n",
       "<table border=\"1\" class=\"dataframe\">\n",
       "  <thead>\n",
       "    <tr style=\"text-align: right;\">\n",
       "      <th></th>\n",
       "      <th>category</th>\n",
       "      <th>date</th>\n",
       "      <th>count</th>\n",
       "      <th>ind_neg</th>\n",
       "      <th>ind_neu</th>\n",
       "      <th>ind_pos</th>\n",
       "      <th>wted_neg</th>\n",
       "      <th>wted_neu</th>\n",
       "      <th>wted_pos</th>\n",
       "      <th>neg_counts</th>\n",
       "      <th>neu_counts</th>\n",
       "      <th>pos_counts</th>\n",
       "    </tr>\n",
       "  </thead>\n",
       "  <tbody>\n",
       "    <tr>\n",
       "      <th>0</th>\n",
       "      <td>EVs</td>\n",
       "      <td>2020-04-07</td>\n",
       "      <td>405</td>\n",
       "      <td>29.760626</td>\n",
       "      <td>42.419716</td>\n",
       "      <td>33.819664</td>\n",
       "      <td>61.686187</td>\n",
       "      <td>105.406782</td>\n",
       "      <td>237.907026</td>\n",
       "      <td>55</td>\n",
       "      <td>92</td>\n",
       "      <td>258</td>\n",
       "    </tr>\n",
       "    <tr>\n",
       "      <th>1</th>\n",
       "      <td>EVs</td>\n",
       "      <td>2020-04-08</td>\n",
       "      <td>243</td>\n",
       "      <td>29.776691</td>\n",
       "      <td>47.333942</td>\n",
       "      <td>25.889368</td>\n",
       "      <td>64.262435</td>\n",
       "      <td>109.520843</td>\n",
       "      <td>69.216720</td>\n",
       "      <td>71</td>\n",
       "      <td>121</td>\n",
       "      <td>51</td>\n",
       "    </tr>\n",
       "    <tr>\n",
       "      <th>2</th>\n",
       "      <td>EVs</td>\n",
       "      <td>2020-04-09</td>\n",
       "      <td>209</td>\n",
       "      <td>29.311668</td>\n",
       "      <td>44.887577</td>\n",
       "      <td>28.800758</td>\n",
       "      <td>57.566045</td>\n",
       "      <td>100.556852</td>\n",
       "      <td>50.877107</td>\n",
       "      <td>57</td>\n",
       "      <td>118</td>\n",
       "      <td>34</td>\n",
       "    </tr>\n",
       "    <tr>\n",
       "      <th>3</th>\n",
       "      <td>EVs</td>\n",
       "      <td>2020-04-10</td>\n",
       "      <td>272</td>\n",
       "      <td>24.159784</td>\n",
       "      <td>47.111198</td>\n",
       "      <td>29.729010</td>\n",
       "      <td>39.036394</td>\n",
       "      <td>120.448533</td>\n",
       "      <td>112.515063</td>\n",
       "      <td>39</td>\n",
       "      <td>84</td>\n",
       "      <td>149</td>\n",
       "    </tr>\n",
       "    <tr>\n",
       "      <th>4</th>\n",
       "      <td>EVs</td>\n",
       "      <td>2020-04-11</td>\n",
       "      <td>514</td>\n",
       "      <td>29.267159</td>\n",
       "      <td>42.111918</td>\n",
       "      <td>28.620923</td>\n",
       "      <td>289.783706</td>\n",
       "      <td>153.905570</td>\n",
       "      <td>70.310696</td>\n",
       "      <td>382</td>\n",
       "      <td>68</td>\n",
       "      <td>64</td>\n",
       "    </tr>\n",
       "    <tr>\n",
       "      <th>...</th>\n",
       "      <td>...</td>\n",
       "      <td>...</td>\n",
       "      <td>...</td>\n",
       "      <td>...</td>\n",
       "      <td>...</td>\n",
       "      <td>...</td>\n",
       "      <td>...</td>\n",
       "      <td>...</td>\n",
       "      <td>...</td>\n",
       "      <td>...</td>\n",
       "      <td>...</td>\n",
       "      <td>...</td>\n",
       "    </tr>\n",
       "    <tr>\n",
       "      <th>718</th>\n",
       "      <td>EVs</td>\n",
       "      <td>2022-03-26</td>\n",
       "      <td>362</td>\n",
       "      <td>24.960136</td>\n",
       "      <td>79.639015</td>\n",
       "      <td>51.400856</td>\n",
       "      <td>49.414182</td>\n",
       "      <td>185.991661</td>\n",
       "      <td>126.594145</td>\n",
       "      <td>40</td>\n",
       "      <td>181</td>\n",
       "      <td>141</td>\n",
       "    </tr>\n",
       "    <tr>\n",
       "      <th>719</th>\n",
       "      <td>EVs</td>\n",
       "      <td>2022-03-27</td>\n",
       "      <td>269</td>\n",
       "      <td>21.682240</td>\n",
       "      <td>88.565294</td>\n",
       "      <td>51.752467</td>\n",
       "      <td>28.025453</td>\n",
       "      <td>142.857427</td>\n",
       "      <td>98.117120</td>\n",
       "      <td>26</td>\n",
       "      <td>132</td>\n",
       "      <td>111</td>\n",
       "    </tr>\n",
       "    <tr>\n",
       "      <th>720</th>\n",
       "      <td>EVs</td>\n",
       "      <td>2022-03-28</td>\n",
       "      <td>200</td>\n",
       "      <td>13.536305</td>\n",
       "      <td>79.159981</td>\n",
       "      <td>43.303711</td>\n",
       "      <td>16.151524</td>\n",
       "      <td>104.101375</td>\n",
       "      <td>79.747098</td>\n",
       "      <td>12</td>\n",
       "      <td>115</td>\n",
       "      <td>73</td>\n",
       "    </tr>\n",
       "    <tr>\n",
       "      <th>721</th>\n",
       "      <td>EVs</td>\n",
       "      <td>2022-03-29</td>\n",
       "      <td>262</td>\n",
       "      <td>26.068008</td>\n",
       "      <td>96.631897</td>\n",
       "      <td>63.300098</td>\n",
       "      <td>34.526736</td>\n",
       "      <td>123.377115</td>\n",
       "      <td>104.096144</td>\n",
       "      <td>33</td>\n",
       "      <td>132</td>\n",
       "      <td>97</td>\n",
       "    </tr>\n",
       "    <tr>\n",
       "      <th>722</th>\n",
       "      <td>EVs</td>\n",
       "      <td>2022-03-30</td>\n",
       "      <td>306</td>\n",
       "      <td>32.676579</td>\n",
       "      <td>107.684278</td>\n",
       "      <td>72.639143</td>\n",
       "      <td>47.802207</td>\n",
       "      <td>151.788392</td>\n",
       "      <td>106.409401</td>\n",
       "      <td>26</td>\n",
       "      <td>185</td>\n",
       "      <td>95</td>\n",
       "    </tr>\n",
       "  </tbody>\n",
       "</table>\n",
       "<p>723 rows × 12 columns</p>\n",
       "</div>"
      ],
      "text/plain": [
       "    category        date  count    ind_neg     ind_neu    ind_pos    wted_neg  \\\n",
       "0        EVs  2020-04-07    405  29.760626   42.419716  33.819664   61.686187   \n",
       "1        EVs  2020-04-08    243  29.776691   47.333942  25.889368   64.262435   \n",
       "2        EVs  2020-04-09    209  29.311668   44.887577  28.800758   57.566045   \n",
       "3        EVs  2020-04-10    272  24.159784   47.111198  29.729010   39.036394   \n",
       "4        EVs  2020-04-11    514  29.267159   42.111918  28.620923  289.783706   \n",
       "..       ...         ...    ...        ...         ...        ...         ...   \n",
       "718      EVs  2022-03-26    362  24.960136   79.639015  51.400856   49.414182   \n",
       "719      EVs  2022-03-27    269  21.682240   88.565294  51.752467   28.025453   \n",
       "720      EVs  2022-03-28    200  13.536305   79.159981  43.303711   16.151524   \n",
       "721      EVs  2022-03-29    262  26.068008   96.631897  63.300098   34.526736   \n",
       "722      EVs  2022-03-30    306  32.676579  107.684278  72.639143   47.802207   \n",
       "\n",
       "       wted_neu    wted_pos  neg_counts  neu_counts  pos_counts  \n",
       "0    105.406782  237.907026          55          92         258  \n",
       "1    109.520843   69.216720          71         121          51  \n",
       "2    100.556852   50.877107          57         118          34  \n",
       "3    120.448533  112.515063          39          84         149  \n",
       "4    153.905570   70.310696         382          68          64  \n",
       "..          ...         ...         ...         ...         ...  \n",
       "718  185.991661  126.594145          40         181         141  \n",
       "719  142.857427   98.117120          26         132         111  \n",
       "720  104.101375   79.747098          12         115          73  \n",
       "721  123.377115  104.096144          33         132          97  \n",
       "722  151.788392  106.409401          26         185          95  \n",
       "\n",
       "[723 rows x 12 columns]"
      ]
     },
     "execution_count": 7,
     "metadata": {},
     "output_type": "execute_result"
    }
   ],
   "source": [
    "tweet_df = pd.read_sql_query(\"SELECT * from new_scored_tweets WHERE category='EVs'\", con2)\n",
    "\n",
    "tweet_df"
   ]
  },
  {
   "cell_type": "code",
   "execution_count": 8,
   "id": "4e18ac2c",
   "metadata": {},
   "outputs": [],
   "source": [
    "tweet_df[\"date\"] = tweet_df[\"date\"].astype(\"datetime64\")\n",
    "\n",
    "tweet_df[\"wted_neg\"] = tweet_df[\"wted_neg\"].astype(\"float64\")\n",
    "tweet_df[\"wted_neu\"] = tweet_df[\"wted_neu\"].astype(\"float64\")\n",
    "tweet_df[\"wted_pos\"] = tweet_df[\"wted_pos\"].astype(\"float64\")\n",
    "\n",
    "tweet_df[\"ind_neg\"] = tweet_df[\"ind_neg\"].astype(\"float64\")\n",
    "tweet_df[\"ind_neu\"] = tweet_df[\"ind_neu\"].astype(\"float64\")\n",
    "tweet_df[\"ind_pos\"] = tweet_df[\"ind_pos\"].astype(\"float64\")\n",
    "\n",
    "tweet_df[\"neg_counts\"] = tweet_df[\"neg_counts\"].astype(\"int32\")\n",
    "tweet_df[\"neu_counts\"] = tweet_df[\"neu_counts\"].astype(\"int32\")\n",
    "tweet_df[\"pos_counts\"] = tweet_df[\"pos_counts\"].astype(\"int32\")"
   ]
  },
  {
   "cell_type": "code",
   "execution_count": 9,
   "id": "5d91cd2f",
   "metadata": {
    "scrolled": true
   },
   "outputs": [
    {
     "name": "stdout",
     "output_type": "stream",
     "text": [
      "       open     close      high       low     count   ind_neg   ind_neu  \\\n",
      "0  0.000000  0.000000  0.001377  0.000000  0.081803  0.278674  0.176300   \n",
      "1  0.001635  0.000605  0.000000  0.000178  0.043167  0.278874  0.211060   \n",
      "2  0.003037  0.004916  0.003175  0.004461  0.035058  0.273078  0.193756   \n",
      "3  0.005531  0.011871  0.009961  0.006570  0.050083  0.208868  0.209484   \n",
      "4  0.006778  0.015348  0.013354  0.007624  0.107799  0.272524  0.174122   \n",
      "\n",
      "    ind_pos  wted_neg  wted_neu  wted_pos  neg_counts  neu_counts  pos_counts  \n",
      "0  0.143917  0.012963  0.048889  0.241882    0.012069    0.029245    0.169668  \n",
      "1  0.100014  0.013676  0.051495  0.058898    0.016010    0.042925    0.026316  \n",
      "2  0.116132  0.011823  0.045817  0.039005    0.012562    0.041509    0.014543  \n",
      "3  0.121271  0.006698  0.058417  0.105865    0.008128    0.025472    0.094183  \n",
      "4  0.115136  0.076056  0.079609  0.060085    0.092611    0.017925    0.035319  \n",
      "\n",
      "Data dimensions: (717, 14)\n"
     ]
    }
   ],
   "source": [
    "temp_tweet_df = tweet_df.copy(deep=True)\n",
    "\n",
    "temp_merged_df = pd.merge(stock_approx_df, temp_tweet_df, on=['date'])\n",
    "temp_merged_df = temp_merged_df.sort_values(by=['date']).reset_index(drop=True)\n",
    "temp_merged_df = temp_merged_df.drop(columns=['date', 'category'])\n",
    "\n",
    "scaler = MinMaxScaler()\n",
    "\n",
    "temp_norm_df = scaler.fit_transform(temp_merged_df)\n",
    "\n",
    "temp_norm_df = pd.DataFrame(temp_norm_df, columns = [ 'open', 'close', 'high', 'low', \\\n",
    "                                                      'count','ind_neg','ind_neu', 'ind_pos', \\\n",
    "                                                      'wted_neg', 'wted_neu', 'wted_pos', \\\n",
    "                                                      'neg_counts', 'neu_counts', 'pos_counts'])\n",
    "print(temp_norm_df.head())\n",
    "print(\"\\nData dimensions:\", temp_norm_df.shape)"
   ]
  },
  {
   "cell_type": "code",
   "execution_count": 10,
   "id": "d2f0fc92",
   "metadata": {
    "scrolled": true
   },
   "outputs": [
    {
     "data": {
      "image/png": "[encoded data removed]",
      "text/plain": [
       "<Figure size 720x432 with 2 Axes>"
      ]
     },
     "metadata": {
      "needs_background": "light"
     },
     "output_type": "display_data"
    }
   ],
   "source": [
    "#Correlation analysis between different features - to determine useful features\n",
    "\n",
    "plt.figure(figsize=(10,6))\n",
    "sns.heatmap(temp_norm_df.corr(),cmap=plt.cm.Blues,annot=True)\n",
    "plt.title('Correlation Heatmap between the features of the data', fontsize=13)\n",
    "plt.show()"
   ]
  },
  {
   "cell_type": "code",
   "execution_count": 11,
   "id": "efc7fc33",
   "metadata": {},
   "outputs": [
    {
     "data": {
      "text/plain": [
       "<AxesSubplot:>"
      ]
     },
     "execution_count": 11,
     "metadata": {},
     "output_type": "execute_result"
    },
    {
     "data": {
      "image/png": "[encoded data removed]",
      "text/plain": [
       "<Figure size 792x648 with 2 Axes>"
      ]
     },
     "metadata": {
      "needs_background": "light"
     },
     "output_type": "display_data"
    }
   ],
   "source": [
    "# Compute the correlation matrix\n",
    "corr = temp_norm_df.corr()\n",
    "\n",
    "# Generate a mask for the upper triangle\n",
    "mask = np.zeros_like(corr, dtype=bool)\n",
    "mask[np.triu_indices_from(mask)] = True\n",
    "\n",
    "# Set up the matplotlib figure\n",
    "f, ax = plt.subplots(figsize=(11, 9))\n",
    "\n",
    "# Generate a custom diverging colormap\n",
    "cmap = sns.diverging_palette(220, 10, as_cmap=True)\n",
    "\n",
    "# Draw the heatmap with the mask and correct aspect ratio\n",
    "sns.heatmap(corr, mask=mask, cmap=cmap, center=0,\n",
    "            square=True, linewidths=.5, cbar_kws={\"shrink\": .5}, annot=True)"
   ]
  },
  {
   "cell_type": "markdown",
   "id": "661de2f1",
   "metadata": {},
   "source": [
    "From the above correlation heatmap, we can observe that the columns **ind_neg, ind_neu, ind_pos** present the best correlation between Tweet sentiments and stock market data."
   ]
  },
  {
   "cell_type": "code",
   "execution_count": 12,
   "id": "93d7044c",
   "metadata": {},
   "outputs": [],
   "source": [
    "#Drop unnecessary columns\n",
    "\n",
    "tweet_df = tweet_df.drop(columns = ['category', 'count', 'wted_neg', 'wted_neu', 'wted_pos',\\\n",
    "                                    'neg_counts', 'neu_counts', 'pos_counts'])"
   ]
  },
  {
   "cell_type": "code",
   "execution_count": 13,
   "id": "48730d5d",
   "metadata": {
    "scrolled": true
   },
   "outputs": [
    {
     "data": {
      "text/html": [
       "<div>\n",
       "<style scoped>\n",
       "    .dataframe tbody tr th:only-of-type {\n",
       "        vertical-align: middle;\n",
       "    }\n",
       "\n",
       "    .dataframe tbody tr th {\n",
       "        vertical-align: top;\n",
       "    }\n",
       "\n",
       "    .dataframe thead th {\n",
       "        text-align: right;\n",
       "    }\n",
       "</style>\n",
       "<table border=\"1\" class=\"dataframe\">\n",
       "  <thead>\n",
       "    <tr style=\"text-align: right;\">\n",
       "      <th></th>\n",
       "      <th>date</th>\n",
       "      <th>ind_neg</th>\n",
       "      <th>ind_neu</th>\n",
       "      <th>ind_pos</th>\n",
       "    </tr>\n",
       "  </thead>\n",
       "  <tbody>\n",
       "    <tr>\n",
       "      <th>0</th>\n",
       "      <td>2020-04-07</td>\n",
       "      <td>29.760626</td>\n",
       "      <td>42.419716</td>\n",
       "      <td>33.819664</td>\n",
       "    </tr>\n",
       "    <tr>\n",
       "      <th>1</th>\n",
       "      <td>2020-04-08</td>\n",
       "      <td>29.776691</td>\n",
       "      <td>47.333942</td>\n",
       "      <td>25.889368</td>\n",
       "    </tr>\n",
       "    <tr>\n",
       "      <th>2</th>\n",
       "      <td>2020-04-09</td>\n",
       "      <td>29.311668</td>\n",
       "      <td>44.887577</td>\n",
       "      <td>28.800758</td>\n",
       "    </tr>\n",
       "    <tr>\n",
       "      <th>3</th>\n",
       "      <td>2020-04-10</td>\n",
       "      <td>24.159784</td>\n",
       "      <td>47.111198</td>\n",
       "      <td>29.729010</td>\n",
       "    </tr>\n",
       "    <tr>\n",
       "      <th>4</th>\n",
       "      <td>2020-04-11</td>\n",
       "      <td>29.267159</td>\n",
       "      <td>42.111918</td>\n",
       "      <td>28.620923</td>\n",
       "    </tr>\n",
       "    <tr>\n",
       "      <th>...</th>\n",
       "      <td>...</td>\n",
       "      <td>...</td>\n",
       "      <td>...</td>\n",
       "      <td>...</td>\n",
       "    </tr>\n",
       "    <tr>\n",
       "      <th>718</th>\n",
       "      <td>2022-03-26</td>\n",
       "      <td>24.960136</td>\n",
       "      <td>79.639015</td>\n",
       "      <td>51.400856</td>\n",
       "    </tr>\n",
       "    <tr>\n",
       "      <th>719</th>\n",
       "      <td>2022-03-27</td>\n",
       "      <td>21.682240</td>\n",
       "      <td>88.565294</td>\n",
       "      <td>51.752467</td>\n",
       "    </tr>\n",
       "    <tr>\n",
       "      <th>720</th>\n",
       "      <td>2022-03-28</td>\n",
       "      <td>13.536305</td>\n",
       "      <td>79.159981</td>\n",
       "      <td>43.303711</td>\n",
       "    </tr>\n",
       "    <tr>\n",
       "      <th>721</th>\n",
       "      <td>2022-03-29</td>\n",
       "      <td>26.068008</td>\n",
       "      <td>96.631897</td>\n",
       "      <td>63.300098</td>\n",
       "    </tr>\n",
       "    <tr>\n",
       "      <th>722</th>\n",
       "      <td>2022-03-30</td>\n",
       "      <td>32.676579</td>\n",
       "      <td>107.684278</td>\n",
       "      <td>72.639143</td>\n",
       "    </tr>\n",
       "  </tbody>\n",
       "</table>\n",
       "<p>723 rows × 4 columns</p>\n",
       "</div>"
      ],
      "text/plain": [
       "          date    ind_neg     ind_neu    ind_pos\n",
       "0   2020-04-07  29.760626   42.419716  33.819664\n",
       "1   2020-04-08  29.776691   47.333942  25.889368\n",
       "2   2020-04-09  29.311668   44.887577  28.800758\n",
       "3   2020-04-10  24.159784   47.111198  29.729010\n",
       "4   2020-04-11  29.267159   42.111918  28.620923\n",
       "..         ...        ...         ...        ...\n",
       "718 2022-03-26  24.960136   79.639015  51.400856\n",
       "719 2022-03-27  21.682240   88.565294  51.752467\n",
       "720 2022-03-28  13.536305   79.159981  43.303711\n",
       "721 2022-03-29  26.068008   96.631897  63.300098\n",
       "722 2022-03-30  32.676579  107.684278  72.639143\n",
       "\n",
       "[723 rows x 4 columns]"
      ]
     },
     "execution_count": 13,
     "metadata": {},
     "output_type": "execute_result"
    }
   ],
   "source": [
    "tweet_df"
   ]
  },
  {
   "cell_type": "code",
   "execution_count": 14,
   "id": "1c76b269",
   "metadata": {},
   "outputs": [],
   "source": [
    "#Garbage collection\n",
    "\n",
    "del temp_tweet_df\n",
    "del temp_merged_df\n",
    "del temp_norm_df"
   ]
  },
  {
   "cell_type": "code",
   "execution_count": 15,
   "id": "f0ea9849",
   "metadata": {},
   "outputs": [
    {
     "data": {
      "text/html": [
       "<div>\n",
       "<style scoped>\n",
       "    .dataframe tbody tr th:only-of-type {\n",
       "        vertical-align: middle;\n",
       "    }\n",
       "\n",
       "    .dataframe tbody tr th {\n",
       "        vertical-align: top;\n",
       "    }\n",
       "\n",
       "    .dataframe thead th {\n",
       "        text-align: right;\n",
       "    }\n",
       "</style>\n",
       "<table border=\"1\" class=\"dataframe\">\n",
       "  <thead>\n",
       "    <tr style=\"text-align: right;\">\n",
       "      <th></th>\n",
       "      <th>date</th>\n",
       "      <th>open</th>\n",
       "      <th>close</th>\n",
       "      <th>high</th>\n",
       "      <th>low</th>\n",
       "      <th>ind_neg</th>\n",
       "      <th>ind_neu</th>\n",
       "      <th>ind_pos</th>\n",
       "    </tr>\n",
       "  </thead>\n",
       "  <tbody>\n",
       "    <tr>\n",
       "      <th>0</th>\n",
       "      <td>2020-04-07</td>\n",
       "      <td>109.0000</td>\n",
       "      <td>109.0900</td>\n",
       "      <td>113.0000</td>\n",
       "      <td>106.468</td>\n",
       "      <td>29.760626</td>\n",
       "      <td>42.419716</td>\n",
       "      <td>33.819664</td>\n",
       "    </tr>\n",
       "    <tr>\n",
       "      <th>1</th>\n",
       "      <td>2020-04-08</td>\n",
       "      <td>110.8400</td>\n",
       "      <td>109.7680</td>\n",
       "      <td>111.4416</td>\n",
       "      <td>106.666</td>\n",
       "      <td>29.776691</td>\n",
       "      <td>47.333942</td>\n",
       "      <td>25.889368</td>\n",
       "    </tr>\n",
       "    <tr>\n",
       "      <th>2</th>\n",
       "      <td>2020-04-09</td>\n",
       "      <td>112.4180</td>\n",
       "      <td>114.6000</td>\n",
       "      <td>115.0364</td>\n",
       "      <td>111.422</td>\n",
       "      <td>29.311668</td>\n",
       "      <td>44.887577</td>\n",
       "      <td>28.800758</td>\n",
       "    </tr>\n",
       "    <tr>\n",
       "      <th>3</th>\n",
       "      <td>2020-04-10</td>\n",
       "      <td>115.2250</td>\n",
       "      <td>122.3950</td>\n",
       "      <td>122.7182</td>\n",
       "      <td>113.764</td>\n",
       "      <td>24.159784</td>\n",
       "      <td>47.111198</td>\n",
       "      <td>29.729010</td>\n",
       "    </tr>\n",
       "    <tr>\n",
       "      <th>4</th>\n",
       "      <td>2020-04-11</td>\n",
       "      <td>116.6285</td>\n",
       "      <td>126.2925</td>\n",
       "      <td>126.5591</td>\n",
       "      <td>114.935</td>\n",
       "      <td>29.267159</td>\n",
       "      <td>42.111918</td>\n",
       "      <td>28.620923</td>\n",
       "    </tr>\n",
       "    <tr>\n",
       "      <th>...</th>\n",
       "      <td>...</td>\n",
       "      <td>...</td>\n",
       "      <td>...</td>\n",
       "      <td>...</td>\n",
       "      <td>...</td>\n",
       "      <td>...</td>\n",
       "      <td>...</td>\n",
       "      <td>...</td>\n",
       "    </tr>\n",
       "    <tr>\n",
       "      <th>712</th>\n",
       "      <td>2022-03-20</td>\n",
       "      <td>904.8575</td>\n",
       "      <td>917.2175</td>\n",
       "      <td>934.1000</td>\n",
       "      <td>897.165</td>\n",
       "      <td>23.400652</td>\n",
       "      <td>77.231102</td>\n",
       "      <td>43.368240</td>\n",
       "    </tr>\n",
       "    <tr>\n",
       "      <th>713</th>\n",
       "      <td>2022-03-21</td>\n",
       "      <td>914.9800</td>\n",
       "      <td>921.1600</td>\n",
       "      <td>942.8500</td>\n",
       "      <td>907.090</td>\n",
       "      <td>29.305679</td>\n",
       "      <td>109.190102</td>\n",
       "      <td>64.504219</td>\n",
       "    </tr>\n",
       "    <tr>\n",
       "      <th>714</th>\n",
       "      <td>2022-03-22</td>\n",
       "      <td>930.0000</td>\n",
       "      <td>993.9800</td>\n",
       "      <td>997.8600</td>\n",
       "      <td>921.750</td>\n",
       "      <td>27.974422</td>\n",
       "      <td>112.280266</td>\n",
       "      <td>95.745312</td>\n",
       "    </tr>\n",
       "    <tr>\n",
       "      <th>715</th>\n",
       "      <td>2022-03-23</td>\n",
       "      <td>979.9400</td>\n",
       "      <td>999.1100</td>\n",
       "      <td>1040.7000</td>\n",
       "      <td>976.400</td>\n",
       "      <td>35.987617</td>\n",
       "      <td>101.290970</td>\n",
       "      <td>71.721405</td>\n",
       "    </tr>\n",
       "    <tr>\n",
       "      <th>716</th>\n",
       "      <td>2022-03-24</td>\n",
       "      <td>1009.7300</td>\n",
       "      <td>1013.9200</td>\n",
       "      <td>1024.4900</td>\n",
       "      <td>988.800</td>\n",
       "      <td>29.319382</td>\n",
       "      <td>101.045811</td>\n",
       "      <td>71.634804</td>\n",
       "    </tr>\n",
       "  </tbody>\n",
       "</table>\n",
       "<p>717 rows × 8 columns</p>\n",
       "</div>"
      ],
      "text/plain": [
       "          date       open      close       high      low    ind_neg  \\\n",
       "0   2020-04-07   109.0000   109.0900   113.0000  106.468  29.760626   \n",
       "1   2020-04-08   110.8400   109.7680   111.4416  106.666  29.776691   \n",
       "2   2020-04-09   112.4180   114.6000   115.0364  111.422  29.311668   \n",
       "3   2020-04-10   115.2250   122.3950   122.7182  113.764  24.159784   \n",
       "4   2020-04-11   116.6285   126.2925   126.5591  114.935  29.267159   \n",
       "..         ...        ...        ...        ...      ...        ...   \n",
       "712 2022-03-20   904.8575   917.2175   934.1000  897.165  23.400652   \n",
       "713 2022-03-21   914.9800   921.1600   942.8500  907.090  29.305679   \n",
       "714 2022-03-22   930.0000   993.9800   997.8600  921.750  27.974422   \n",
       "715 2022-03-23   979.9400   999.1100  1040.7000  976.400  35.987617   \n",
       "716 2022-03-24  1009.7300  1013.9200  1024.4900  988.800  29.319382   \n",
       "\n",
       "        ind_neu    ind_pos  \n",
       "0     42.419716  33.819664  \n",
       "1     47.333942  25.889368  \n",
       "2     44.887577  28.800758  \n",
       "3     47.111198  29.729010  \n",
       "4     42.111918  28.620923  \n",
       "..          ...        ...  \n",
       "712   77.231102  43.368240  \n",
       "713  109.190102  64.504219  \n",
       "714  112.280266  95.745312  \n",
       "715  101.290970  71.721405  \n",
       "716  101.045811  71.634804  \n",
       "\n",
       "[717 rows x 8 columns]"
      ]
     },
     "execution_count": 15,
     "metadata": {},
     "output_type": "execute_result"
    }
   ],
   "source": [
    "merged_df = pd.merge(stock_approx_df, tweet_df, on=['date'])\n",
    "merged_df = merged_df.sort_values(by=['date']).reset_index(drop=True)\n",
    "merged_df"
   ]
  },
  {
   "cell_type": "code",
   "execution_count": 16,
   "id": "62c388ea",
   "metadata": {},
   "outputs": [
    {
     "data": {
      "text/html": [
       "<div>\n",
       "<style scoped>\n",
       "    .dataframe tbody tr th:only-of-type {\n",
       "        vertical-align: middle;\n",
       "    }\n",
       "\n",
       "    .dataframe tbody tr th {\n",
       "        vertical-align: top;\n",
       "    }\n",
       "\n",
       "    .dataframe thead th {\n",
       "        text-align: right;\n",
       "    }\n",
       "</style>\n",
       "<table border=\"1\" class=\"dataframe\">\n",
       "  <thead>\n",
       "    <tr style=\"text-align: right;\">\n",
       "      <th></th>\n",
       "      <th>open</th>\n",
       "      <th>close</th>\n",
       "      <th>high</th>\n",
       "      <th>low</th>\n",
       "      <th>ind_neg</th>\n",
       "      <th>ind_neu</th>\n",
       "      <th>ind_pos</th>\n",
       "    </tr>\n",
       "  </thead>\n",
       "  <tbody>\n",
       "    <tr>\n",
       "      <th>count</th>\n",
       "      <td>717.000000</td>\n",
       "      <td>717.000000</td>\n",
       "      <td>717.000000</td>\n",
       "      <td>717.000000</td>\n",
       "      <td>717.000000</td>\n",
       "      <td>717.000000</td>\n",
       "      <td>717.000000</td>\n",
       "    </tr>\n",
       "    <tr>\n",
       "      <th>mean</th>\n",
       "      <td>633.797699</td>\n",
       "      <td>634.884971</td>\n",
       "      <td>649.765274</td>\n",
       "      <td>618.367076</td>\n",
       "      <td>31.380694</td>\n",
       "      <td>74.093164</td>\n",
       "      <td>55.339251</td>\n",
       "    </tr>\n",
       "    <tr>\n",
       "      <th>std</th>\n",
       "      <td>272.886468</td>\n",
       "      <td>273.336322</td>\n",
       "      <td>279.684587</td>\n",
       "      <td>266.557496</td>\n",
       "      <td>12.196334</td>\n",
       "      <td>25.903602</td>\n",
       "      <td>21.766363</td>\n",
       "    </tr>\n",
       "    <tr>\n",
       "      <th>min</th>\n",
       "      <td>109.000000</td>\n",
       "      <td>109.090000</td>\n",
       "      <td>111.441600</td>\n",
       "      <td>106.468000</td>\n",
       "      <td>7.401396</td>\n",
       "      <td>17.495420</td>\n",
       "      <td>7.823344</td>\n",
       "    </tr>\n",
       "    <tr>\n",
       "      <th>25%</th>\n",
       "      <td>421.390000</td>\n",
       "      <td>420.980000</td>\n",
       "      <td>430.500000</td>\n",
       "      <td>410.580000</td>\n",
       "      <td>22.233269</td>\n",
       "      <td>53.404079</td>\n",
       "      <td>38.339832</td>\n",
       "    </tr>\n",
       "    <tr>\n",
       "      <th>50%</th>\n",
       "      <td>671.758000</td>\n",
       "      <td>670.000000</td>\n",
       "      <td>687.240000</td>\n",
       "      <td>657.510000</td>\n",
       "      <td>29.305679</td>\n",
       "      <td>67.530556</td>\n",
       "      <td>51.607182</td>\n",
       "    </tr>\n",
       "    <tr>\n",
       "      <th>75%</th>\n",
       "      <td>823.738400</td>\n",
       "      <td>821.530000</td>\n",
       "      <td>848.180000</td>\n",
       "      <td>801.725000</td>\n",
       "      <td>38.347519</td>\n",
       "      <td>95.472717</td>\n",
       "      <td>69.616793</td>\n",
       "    </tr>\n",
       "    <tr>\n",
       "      <th>max</th>\n",
       "      <td>1234.410000</td>\n",
       "      <td>1229.910000</td>\n",
       "      <td>1243.490000</td>\n",
       "      <td>1217.000000</td>\n",
       "      <td>87.635785</td>\n",
       "      <td>158.870064</td>\n",
       "      <td>188.457495</td>\n",
       "    </tr>\n",
       "  </tbody>\n",
       "</table>\n",
       "</div>"
      ],
      "text/plain": [
       "              open        close         high          low     ind_neg  \\\n",
       "count   717.000000   717.000000   717.000000   717.000000  717.000000   \n",
       "mean    633.797699   634.884971   649.765274   618.367076   31.380694   \n",
       "std     272.886468   273.336322   279.684587   266.557496   12.196334   \n",
       "min     109.000000   109.090000   111.441600   106.468000    7.401396   \n",
       "25%     421.390000   420.980000   430.500000   410.580000   22.233269   \n",
       "50%     671.758000   670.000000   687.240000   657.510000   29.305679   \n",
       "75%     823.738400   821.530000   848.180000   801.725000   38.347519   \n",
       "max    1234.410000  1229.910000  1243.490000  1217.000000   87.635785   \n",
       "\n",
       "          ind_neu     ind_pos  \n",
       "count  717.000000  717.000000  \n",
       "mean    74.093164   55.339251  \n",
       "std     25.903602   21.766363  \n",
       "min     17.495420    7.823344  \n",
       "25%     53.404079   38.339832  \n",
       "50%     67.530556   51.607182  \n",
       "75%     95.472717   69.616793  \n",
       "max    158.870064  188.457495  "
      ]
     },
     "execution_count": 16,
     "metadata": {},
     "output_type": "execute_result"
    }
   ],
   "source": [
    "df = merged_df.copy(deep = True)\n",
    "\n",
    "df.describe()"
   ]
  },
  {
   "cell_type": "code",
   "execution_count": 17,
   "id": "254f3fd7",
   "metadata": {},
   "outputs": [
    {
     "name": "stdout",
     "output_type": "stream",
     "text": [
      "<class 'pandas.core.frame.DataFrame'>\n",
      "RangeIndex: 717 entries, 0 to 716\n",
      "Data columns (total 8 columns):\n",
      " #   Column   Non-Null Count  Dtype         \n",
      "---  ------   --------------  -----         \n",
      " 0   date     717 non-null    datetime64[ns]\n",
      " 1   open     717 non-null    float64       \n",
      " 2   close    717 non-null    float64       \n",
      " 3   high     717 non-null    float64       \n",
      " 4   low      717 non-null    float64       \n",
      " 5   ind_neg  717 non-null    float64       \n",
      " 6   ind_neu  717 non-null    float64       \n",
      " 7   ind_pos  717 non-null    float64       \n",
      "dtypes: datetime64[ns](1), float64(7)\n",
      "memory usage: 44.9 KB\n"
     ]
    }
   ],
   "source": [
    "df.info()"
   ]
  },
  {
   "cell_type": "code",
   "execution_count": 18,
   "id": "471fb7e6",
   "metadata": {},
   "outputs": [],
   "source": [
    "#Normalize data\n",
    "\n",
    "def normalize_data(df):\n",
    "    scaler = MinMaxScaler()\n",
    "    \n",
    "    df['open'] = scaler.fit_transform(df.open.values.reshape(-1, 1))\n",
    "    df['close'] = scaler.fit_transform(df.close.values.reshape(-1, 1))\n",
    "    df['high'] = scaler.fit_transform(df.high.values.reshape(-1, 1))\n",
    "    df['low'] = scaler.fit_transform(df.low.values.reshape(-1, 1))\n",
    "    \n",
    "    df['ind_neg'] = scaler.fit_transform(df.ind_neg.values.reshape(-1, 1))\n",
    "    df['ind_neu'] = scaler.fit_transform(df.ind_neu.values.reshape(-1, 1))\n",
    "    df['ind_pos'] = scaler.fit_transform(df.ind_pos.values.reshape(-1, 1))\n",
    "    \n",
    "    return df"
   ]
  },
  {
   "cell_type": "code",
   "execution_count": 19,
   "id": "ab193b58",
   "metadata": {
    "scrolled": false
   },
   "outputs": [
    {
     "name": "stdout",
     "output_type": "stream",
     "text": [
      "['date', 'open', 'close', 'high', 'low', 'ind_neg', 'ind_neu', 'ind_pos']\n"
     ]
    }
   ],
   "source": [
    "columns = list(df.columns.values)\n",
    "\n",
    "print(columns)"
   ]
  },
  {
   "cell_type": "code",
   "execution_count": 20,
   "id": "8076d356",
   "metadata": {},
   "outputs": [],
   "source": [
    "#Save the unscaled output values for later use\n",
    "\n",
    "output_labels_unscaled = df['close']"
   ]
  },
  {
   "cell_type": "code",
   "execution_count": 21,
   "id": "b2dcb67c",
   "metadata": {},
   "outputs": [
    {
     "data": {
      "text/html": [
       "<div>\n",
       "<style scoped>\n",
       "    .dataframe tbody tr th:only-of-type {\n",
       "        vertical-align: middle;\n",
       "    }\n",
       "\n",
       "    .dataframe tbody tr th {\n",
       "        vertical-align: top;\n",
       "    }\n",
       "\n",
       "    .dataframe thead th {\n",
       "        text-align: right;\n",
       "    }\n",
       "</style>\n",
       "<table border=\"1\" class=\"dataframe\">\n",
       "  <thead>\n",
       "    <tr style=\"text-align: right;\">\n",
       "      <th></th>\n",
       "      <th>date</th>\n",
       "      <th>open</th>\n",
       "      <th>close</th>\n",
       "      <th>high</th>\n",
       "      <th>low</th>\n",
       "      <th>ind_neg</th>\n",
       "      <th>ind_neu</th>\n",
       "      <th>ind_pos</th>\n",
       "    </tr>\n",
       "  </thead>\n",
       "  <tbody>\n",
       "    <tr>\n",
       "      <th>0</th>\n",
       "      <td>2020-04-07</td>\n",
       "      <td>0.000000</td>\n",
       "      <td>0.000000</td>\n",
       "      <td>0.001377</td>\n",
       "      <td>0.000000</td>\n",
       "      <td>0.278674</td>\n",
       "      <td>0.176300</td>\n",
       "      <td>0.143917</td>\n",
       "    </tr>\n",
       "    <tr>\n",
       "      <th>1</th>\n",
       "      <td>2020-04-08</td>\n",
       "      <td>0.001635</td>\n",
       "      <td>0.000605</td>\n",
       "      <td>0.000000</td>\n",
       "      <td>0.000178</td>\n",
       "      <td>0.278874</td>\n",
       "      <td>0.211060</td>\n",
       "      <td>0.100014</td>\n",
       "    </tr>\n",
       "    <tr>\n",
       "      <th>2</th>\n",
       "      <td>2020-04-09</td>\n",
       "      <td>0.003037</td>\n",
       "      <td>0.004916</td>\n",
       "      <td>0.003175</td>\n",
       "      <td>0.004461</td>\n",
       "      <td>0.273078</td>\n",
       "      <td>0.193756</td>\n",
       "      <td>0.116132</td>\n",
       "    </tr>\n",
       "    <tr>\n",
       "      <th>3</th>\n",
       "      <td>2020-04-10</td>\n",
       "      <td>0.005531</td>\n",
       "      <td>0.011871</td>\n",
       "      <td>0.009961</td>\n",
       "      <td>0.006570</td>\n",
       "      <td>0.208868</td>\n",
       "      <td>0.209484</td>\n",
       "      <td>0.121271</td>\n",
       "    </tr>\n",
       "    <tr>\n",
       "      <th>4</th>\n",
       "      <td>2020-04-11</td>\n",
       "      <td>0.006778</td>\n",
       "      <td>0.015348</td>\n",
       "      <td>0.013354</td>\n",
       "      <td>0.007624</td>\n",
       "      <td>0.272524</td>\n",
       "      <td>0.174122</td>\n",
       "      <td>0.115136</td>\n",
       "    </tr>\n",
       "    <tr>\n",
       "      <th>...</th>\n",
       "      <td>...</td>\n",
       "      <td>...</td>\n",
       "      <td>...</td>\n",
       "      <td>...</td>\n",
       "      <td>...</td>\n",
       "      <td>...</td>\n",
       "      <td>...</td>\n",
       "      <td>...</td>\n",
       "    </tr>\n",
       "    <tr>\n",
       "      <th>712</th>\n",
       "      <td>2022-03-20</td>\n",
       "      <td>0.707171</td>\n",
       "      <td>0.721015</td>\n",
       "      <td>0.726699</td>\n",
       "      <td>0.711998</td>\n",
       "      <td>0.199406</td>\n",
       "      <td>0.422535</td>\n",
       "      <td>0.196778</td>\n",
       "    </tr>\n",
       "    <tr>\n",
       "      <th>713</th>\n",
       "      <td>2022-03-21</td>\n",
       "      <td>0.716166</td>\n",
       "      <td>0.724532</td>\n",
       "      <td>0.734428</td>\n",
       "      <td>0.720936</td>\n",
       "      <td>0.273004</td>\n",
       "      <td>0.648594</td>\n",
       "      <td>0.313788</td>\n",
       "    </tr>\n",
       "    <tr>\n",
       "      <th>714</th>\n",
       "      <td>2022-03-22</td>\n",
       "      <td>0.729512</td>\n",
       "      <td>0.789502</td>\n",
       "      <td>0.783022</td>\n",
       "      <td>0.734136</td>\n",
       "      <td>0.256412</td>\n",
       "      <td>0.670452</td>\n",
       "      <td>0.486741</td>\n",
       "    </tr>\n",
       "    <tr>\n",
       "      <th>715</th>\n",
       "      <td>2022-03-23</td>\n",
       "      <td>0.773887</td>\n",
       "      <td>0.794079</td>\n",
       "      <td>0.820865</td>\n",
       "      <td>0.783347</td>\n",
       "      <td>0.356284</td>\n",
       "      <td>0.592720</td>\n",
       "      <td>0.353743</td>\n",
       "    </tr>\n",
       "    <tr>\n",
       "      <th>716</th>\n",
       "      <td>2022-03-24</td>\n",
       "      <td>0.800357</td>\n",
       "      <td>0.807293</td>\n",
       "      <td>0.806545</td>\n",
       "      <td>0.794513</td>\n",
       "      <td>0.273174</td>\n",
       "      <td>0.590986</td>\n",
       "      <td>0.353264</td>\n",
       "    </tr>\n",
       "  </tbody>\n",
       "</table>\n",
       "<p>717 rows × 8 columns</p>\n",
       "</div>"
      ],
      "text/plain": [
       "          date      open     close      high       low   ind_neg   ind_neu  \\\n",
       "0   2020-04-07  0.000000  0.000000  0.001377  0.000000  0.278674  0.176300   \n",
       "1   2020-04-08  0.001635  0.000605  0.000000  0.000178  0.278874  0.211060   \n",
       "2   2020-04-09  0.003037  0.004916  0.003175  0.004461  0.273078  0.193756   \n",
       "3   2020-04-10  0.005531  0.011871  0.009961  0.006570  0.208868  0.209484   \n",
       "4   2020-04-11  0.006778  0.015348  0.013354  0.007624  0.272524  0.174122   \n",
       "..         ...       ...       ...       ...       ...       ...       ...   \n",
       "712 2022-03-20  0.707171  0.721015  0.726699  0.711998  0.199406  0.422535   \n",
       "713 2022-03-21  0.716166  0.724532  0.734428  0.720936  0.273004  0.648594   \n",
       "714 2022-03-22  0.729512  0.789502  0.783022  0.734136  0.256412  0.670452   \n",
       "715 2022-03-23  0.773887  0.794079  0.820865  0.783347  0.356284  0.592720   \n",
       "716 2022-03-24  0.800357  0.807293  0.806545  0.794513  0.273174  0.590986   \n",
       "\n",
       "      ind_pos  \n",
       "0    0.143917  \n",
       "1    0.100014  \n",
       "2    0.116132  \n",
       "3    0.121271  \n",
       "4    0.115136  \n",
       "..        ...  \n",
       "712  0.196778  \n",
       "713  0.313788  \n",
       "714  0.486741  \n",
       "715  0.353743  \n",
       "716  0.353264  \n",
       "\n",
       "[717 rows x 8 columns]"
      ]
     },
     "execution_count": 21,
     "metadata": {},
     "output_type": "execute_result"
    }
   ],
   "source": [
    "norm_df = normalize_data(df)\n",
    "\n",
    "norm_df"
   ]
  },
  {
   "cell_type": "code",
   "execution_count": 22,
   "id": "7a99dc0a",
   "metadata": {},
   "outputs": [
    {
     "data": {
      "image/png": "[encoded data removed]",
      "text/plain": [
       "<Figure size 1080x360 with 1 Axes>"
      ]
     },
     "metadata": {
      "needs_background": "light"
     },
     "output_type": "display_data"
    }
   ],
   "source": [
    "plt.figure(figsize=(15, 5));\n",
    "plt.plot(norm_df.open.values, color='red', label='open')\n",
    "plt.plot(norm_df.close.values, color='green', label='low')\n",
    "plt.plot(norm_df.low.values, color='blue', label='low')\n",
    "plt.plot(norm_df.high.values, color='black', label='high')\n",
    "\n",
    "plt.title('stock')\n",
    "plt.xlabel('time [days]')\n",
    "plt.ylabel('normalized price/volume')\n",
    "plt.legend(loc='best')\n",
    "plt.show()"
   ]
  },
  {
   "cell_type": "code",
   "execution_count": 23,
   "id": "35023493",
   "metadata": {},
   "outputs": [
    {
     "data": {
      "text/html": [
       "<div>\n",
       "<style scoped>\n",
       "    .dataframe tbody tr th:only-of-type {\n",
       "        vertical-align: middle;\n",
       "    }\n",
       "\n",
       "    .dataframe tbody tr th {\n",
       "        vertical-align: top;\n",
       "    }\n",
       "\n",
       "    .dataframe thead th {\n",
       "        text-align: right;\n",
       "    }\n",
       "</style>\n",
       "<table border=\"1\" class=\"dataframe\">\n",
       "  <thead>\n",
       "    <tr style=\"text-align: right;\">\n",
       "      <th></th>\n",
       "      <th>open</th>\n",
       "      <th>high</th>\n",
       "      <th>low</th>\n",
       "      <th>ind_neg</th>\n",
       "      <th>ind_neu</th>\n",
       "      <th>ind_pos</th>\n",
       "    </tr>\n",
       "  </thead>\n",
       "  <tbody>\n",
       "    <tr>\n",
       "      <th>0</th>\n",
       "      <td>0.000000</td>\n",
       "      <td>0.001377</td>\n",
       "      <td>0.000000</td>\n",
       "      <td>0.278674</td>\n",
       "      <td>0.176300</td>\n",
       "      <td>0.143917</td>\n",
       "    </tr>\n",
       "    <tr>\n",
       "      <th>1</th>\n",
       "      <td>0.001635</td>\n",
       "      <td>0.000000</td>\n",
       "      <td>0.000178</td>\n",
       "      <td>0.278874</td>\n",
       "      <td>0.211060</td>\n",
       "      <td>0.100014</td>\n",
       "    </tr>\n",
       "    <tr>\n",
       "      <th>2</th>\n",
       "      <td>0.003037</td>\n",
       "      <td>0.003175</td>\n",
       "      <td>0.004461</td>\n",
       "      <td>0.273078</td>\n",
       "      <td>0.193756</td>\n",
       "      <td>0.116132</td>\n",
       "    </tr>\n",
       "    <tr>\n",
       "      <th>3</th>\n",
       "      <td>0.005531</td>\n",
       "      <td>0.009961</td>\n",
       "      <td>0.006570</td>\n",
       "      <td>0.208868</td>\n",
       "      <td>0.209484</td>\n",
       "      <td>0.121271</td>\n",
       "    </tr>\n",
       "    <tr>\n",
       "      <th>4</th>\n",
       "      <td>0.006778</td>\n",
       "      <td>0.013354</td>\n",
       "      <td>0.007624</td>\n",
       "      <td>0.272524</td>\n",
       "      <td>0.174122</td>\n",
       "      <td>0.115136</td>\n",
       "    </tr>\n",
       "    <tr>\n",
       "      <th>...</th>\n",
       "      <td>...</td>\n",
       "      <td>...</td>\n",
       "      <td>...</td>\n",
       "      <td>...</td>\n",
       "      <td>...</td>\n",
       "      <td>...</td>\n",
       "    </tr>\n",
       "    <tr>\n",
       "      <th>712</th>\n",
       "      <td>0.707171</td>\n",
       "      <td>0.726699</td>\n",
       "      <td>0.711998</td>\n",
       "      <td>0.199406</td>\n",
       "      <td>0.422535</td>\n",
       "      <td>0.196778</td>\n",
       "    </tr>\n",
       "    <tr>\n",
       "      <th>713</th>\n",
       "      <td>0.716166</td>\n",
       "      <td>0.734428</td>\n",
       "      <td>0.720936</td>\n",
       "      <td>0.273004</td>\n",
       "      <td>0.648594</td>\n",
       "      <td>0.313788</td>\n",
       "    </tr>\n",
       "    <tr>\n",
       "      <th>714</th>\n",
       "      <td>0.729512</td>\n",
       "      <td>0.783022</td>\n",
       "      <td>0.734136</td>\n",
       "      <td>0.256412</td>\n",
       "      <td>0.670452</td>\n",
       "      <td>0.486741</td>\n",
       "    </tr>\n",
       "    <tr>\n",
       "      <th>715</th>\n",
       "      <td>0.773887</td>\n",
       "      <td>0.820865</td>\n",
       "      <td>0.783347</td>\n",
       "      <td>0.356284</td>\n",
       "      <td>0.592720</td>\n",
       "      <td>0.353743</td>\n",
       "    </tr>\n",
       "    <tr>\n",
       "      <th>716</th>\n",
       "      <td>0.800357</td>\n",
       "      <td>0.806545</td>\n",
       "      <td>0.794513</td>\n",
       "      <td>0.273174</td>\n",
       "      <td>0.590986</td>\n",
       "      <td>0.353264</td>\n",
       "    </tr>\n",
       "  </tbody>\n",
       "</table>\n",
       "<p>717 rows × 6 columns</p>\n",
       "</div>"
      ],
      "text/plain": [
       "         open      high       low   ind_neg   ind_neu   ind_pos\n",
       "0    0.000000  0.001377  0.000000  0.278674  0.176300  0.143917\n",
       "1    0.001635  0.000000  0.000178  0.278874  0.211060  0.100014\n",
       "2    0.003037  0.003175  0.004461  0.273078  0.193756  0.116132\n",
       "3    0.005531  0.009961  0.006570  0.208868  0.209484  0.121271\n",
       "4    0.006778  0.013354  0.007624  0.272524  0.174122  0.115136\n",
       "..        ...       ...       ...       ...       ...       ...\n",
       "712  0.707171  0.726699  0.711998  0.199406  0.422535  0.196778\n",
       "713  0.716166  0.734428  0.720936  0.273004  0.648594  0.313788\n",
       "714  0.729512  0.783022  0.734136  0.256412  0.670452  0.486741\n",
       "715  0.773887  0.820865  0.783347  0.356284  0.592720  0.353743\n",
       "716  0.800357  0.806545  0.794513  0.273174  0.590986  0.353264\n",
       "\n",
       "[717 rows x 6 columns]"
      ]
     },
     "execution_count": 23,
     "metadata": {},
     "output_type": "execute_result"
    }
   ],
   "source": [
    "norm_df1 = norm_df.copy(deep = True)\n",
    "\n",
    "norm_df1 = norm_df1.drop(columns = ['date'])\n",
    "\n",
    "norm_df1 = norm_df1[['open', 'high', 'low', 'ind_neg', 'ind_neu', 'ind_pos', 'close']]\n",
    "\n",
    "output_labels1 = norm_df1.pop('close')\n",
    "\n",
    "norm_df1"
   ]
  },
  {
   "cell_type": "code",
   "execution_count": 24,
   "id": "fb0f43c2",
   "metadata": {
    "scrolled": true
   },
   "outputs": [
    {
     "data": {
      "image/png": "[encoded data removed]",
      "text/plain": [
       "<Figure size 720x432 with 2 Axes>"
      ]
     },
     "metadata": {
      "needs_background": "light"
     },
     "output_type": "display_data"
    }
   ],
   "source": [
    "plt.figure(figsize=(10,6))\n",
    "sns.heatmap(norm_df.corr(),cmap=plt.cm.Reds,annot=True)\n",
    "plt.title('Correlation Heatmap between the features of the data', fontsize=13)\n",
    "plt.show()"
   ]
  },
  {
   "cell_type": "code",
   "execution_count": 25,
   "id": "42c2aee0",
   "metadata": {},
   "outputs": [],
   "source": [
    "norm_df1 = norm_df1.to_numpy()\n",
    "output_labels1 = output_labels1.to_numpy()\n",
    "\n",
    "X_train, X_test, y_train, y_test = train_test_split(norm_df1, output_labels1, test_size = 0.2, random_state = 3, shuffle=False)"
   ]
  },
  {
   "cell_type": "code",
   "execution_count": 26,
   "id": "925405f0",
   "metadata": {
    "scrolled": true
   },
   "outputs": [
    {
     "name": "stdout",
     "output_type": "stream",
     "text": [
      "Model: \"sequential\"\n",
      "_________________________________________________________________\n",
      " Layer (type)                Output Shape              Param #   \n",
      "=================================================================\n",
      " dense (Dense)               (None, 256)               1792      \n",
      "                                                                 \n",
      " dense_1 (Dense)             (None, 128)               32896     \n",
      "                                                                 \n",
      " dense_2 (Dense)             (None, 64)                8256      \n",
      "                                                                 \n",
      " dense_3 (Dense)             (None, 32)                2080      \n",
      "                                                                 \n",
      " dense_4 (Dense)             (None, 16)                528       \n",
      "                                                                 \n",
      " dense_5 (Dense)             (None, 1)                 17        \n",
      "                                                                 \n",
      "=================================================================\n",
      "Total params: 45,569\n",
      "Trainable params: 45,569\n",
      "Non-trainable params: 0\n",
      "_________________________________________________________________\n"
     ]
    },
    {
     "name": "stderr",
     "output_type": "stream",
     "text": [
      "2022-05-10 18:33:53.660860: E tensorflow/stream_executor/cuda/cuda_driver.cc:271] failed call to cuInit: CUDA_ERROR_NO_DEVICE: no CUDA-capable device is detected\n",
      "2022-05-10 18:33:53.660885: I tensorflow/stream_executor/cuda/cuda_diagnostics.cc:156] kernel driver does not appear to be running on this host (Legion): /proc/driver/nvidia/version does not exist\n",
      "2022-05-10 18:33:53.661588: I tensorflow/core/platform/cpu_feature_guard.cc:151] This TensorFlow binary is optimized with oneAPI Deep Neural Network Library (oneDNN) to use the following CPU instructions in performance-critical operations:  AVX2 FMA\n",
      "To enable them in other operations, rebuild TensorFlow with the appropriate compiler flags.\n"
     ]
    }
   ],
   "source": [
    "model = Sequential()\n",
    "\n",
    "#opt = SGD(lr=0.0001)\n",
    "#opt = RMSprop()\n",
    "\n",
    "model.add(Dense(256, input_shape=(X_train.shape[1],),  kernel_regularizer='l2'))\n",
    "model.add(Dense(128, activation='relu'))\n",
    "model.add(Dense(64, activation='relu'))\n",
    "model.add(Dense(32, activation='relu'))\n",
    "model.add(Dense(16, activation='relu'))\n",
    "model.add(Dense(1, activation='linear'))\n",
    "\n",
    "model.compile(optimizer = 'adam', loss = 'mse', metrics = ['mse', 'mae'])\n",
    "\n",
    "model.summary()"
   ]
  },
  {
   "cell_type": "code",
   "execution_count": 27,
   "id": "d85c73f7",
   "metadata": {},
   "outputs": [
    {
     "name": "stdout",
     "output_type": "stream",
     "text": [
      "Epoch 1/10\n",
      "29/29 [==============================] - 0s 1ms/step - loss: 0.1318 - mse: 0.0246 - mae: 0.0982\n",
      "Epoch 2/10\n",
      "29/29 [==============================] - 0s 2ms/step - loss: 0.0782 - mse: 2.3706e-04 - mae: 0.0120\n",
      "Epoch 3/10\n",
      "29/29 [==============================] - 0s 2ms/step - loss: 0.0519 - mse: 1.4954e-04 - mae: 0.0088\n",
      "Epoch 4/10\n",
      "29/29 [==============================] - 0s 1ms/step - loss: 0.0329 - mse: 1.3652e-04 - mae: 0.0084\n",
      "Epoch 5/10\n",
      "29/29 [==============================] - 0s 2ms/step - loss: 0.0203 - mse: 1.7145e-04 - mae: 0.0096\n",
      "Epoch 6/10\n",
      "29/29 [==============================] - 0s 2ms/step - loss: 0.0122 - mse: 1.6551e-04 - mae: 0.0096\n",
      "Epoch 7/10\n",
      "29/29 [==============================] - 0s 2ms/step - loss: 0.0073 - mse: 1.3862e-04 - mae: 0.0084\n",
      "Epoch 8/10\n",
      "29/29 [==============================] - 0s 2ms/step - loss: 0.0044 - mse: 1.7267e-04 - mae: 0.0099\n",
      "Epoch 9/10\n",
      "29/29 [==============================] - 0s 2ms/step - loss: 0.0027 - mse: 1.6419e-04 - mae: 0.0094\n",
      "Epoch 10/10\n",
      "29/29 [==============================] - 0s 2ms/step - loss: 0.0017 - mse: 1.8372e-04 - mae: 0.0102\n"
     ]
    }
   ],
   "source": [
    "history = model.fit(X_train, y_train, epochs=10, batch_size=20, verbose=1, shuffle=True)"
   ]
  },
  {
   "cell_type": "code",
   "execution_count": 28,
   "id": "0e4bcdb8",
   "metadata": {},
   "outputs": [],
   "source": [
    "def print_metrics(model, X_test, y_test):\n",
    "    \n",
    "    n_points = X_train.shape[0] #number of datapoints\n",
    "    n_features = X_train.shape[1] #number of features\n",
    "\n",
    "    #predict probabilities for test set\n",
    "    y_hat = model.predict(X_test, verbose=0)\n",
    "    \n",
    "    #reduce to 1d array\n",
    "    y_hat = y_hat[:, 0]\n",
    "\n",
    "    var = explained_variance_score(y_test.reshape(-1,1), y_hat)\n",
    "    print('Variance:\\t%f' % var)\n",
    "\n",
    "    r2 = r2_score(y_test.reshape(-1,1), y_hat)\n",
    "    print('R2 Score:\\t%f' % r2)\n",
    "\n",
    "    adj_r2 = 1-(1-r2)*(n_points-1)/(n_points-n_features-1)\n",
    "    print('Adj R2 Score:\\t%f' % adj_r2)\n",
    "\n",
    "    var2 = max_error(y_test.reshape(-1,1), y_hat)\n",
    "    print('Max Error:\\t%f' % var2)"
   ]
  },
  {
   "cell_type": "code",
   "execution_count": 29,
   "id": "dc4c5eb4",
   "metadata": {},
   "outputs": [
    {
     "data": {
      "text/plain": [
       "<matplotlib.legend.Legend at 0x7f198d26fbe0>"
      ]
     },
     "execution_count": 29,
     "metadata": {},
     "output_type": "execute_result"
    },
    {
     "data": {
      "image/png": "[encoded data removed]",
      "text/plain": [
       "<Figure size 432x288 with 1 Axes>"
      ]
     },
     "metadata": {
      "needs_background": "light"
     },
     "output_type": "display_data"
    }
   ],
   "source": [
    "plt.plot(history.history['loss'], label='train loss')\n",
    "plt.xlabel(\"Epoch\")\n",
    "plt.ylabel(\"Loss\")\n",
    "plt.legend()"
   ]
  },
  {
   "cell_type": "code",
   "execution_count": 30,
   "id": "2232a59e",
   "metadata": {},
   "outputs": [
    {
     "data": {
      "text/plain": [
       "<matplotlib.legend.Legend at 0x7f198edc9550>"
      ]
     },
     "execution_count": 30,
     "metadata": {},
     "output_type": "execute_result"
    },
    {
     "data": {
      "image/png": "[encoded data removed]",
      "text/plain": [
       "<Figure size 432x288 with 1 Axes>"
      ]
     },
     "metadata": {
      "needs_background": "light"
     },
     "output_type": "display_data"
    }
   ],
   "source": [
    "plt.plot(history.history['mse'], label='train mse')\n",
    "plt.xlabel(\"Epoch\")\n",
    "plt.ylabel(\"Loss\")\n",
    "plt.legend()"
   ]
  },
  {
   "cell_type": "code",
   "execution_count": 31,
   "id": "d4ec1163",
   "metadata": {},
   "outputs": [
    {
     "data": {
      "text/plain": [
       "<matplotlib.legend.Legend at 0x7f198d245910>"
      ]
     },
     "execution_count": 31,
     "metadata": {},
     "output_type": "execute_result"
    },
    {
     "data": {
      "image/png": "[encoded data removed]",
      "text/plain": [
       "<Figure size 432x288 with 1 Axes>"
      ]
     },
     "metadata": {
      "needs_background": "light"
     },
     "output_type": "display_data"
    }
   ],
   "source": [
    "plt.plot(history.history['mae'], label='train mae')\n",
    "plt.xlabel(\"Epoch\")\n",
    "plt.ylabel(\"Loss\")\n",
    "plt.legend()"
   ]
  },
  {
   "cell_type": "code",
   "execution_count": 32,
   "id": "7ad372ac",
   "metadata": {},
   "outputs": [
    {
     "name": "stdout",
     "output_type": "stream",
     "text": [
      "5/5 [==============================] - 0s 1ms/step - loss: 0.0022 - mse: 0.0011 - mae: 0.0274\n"
     ]
    },
    {
     "data": {
      "text/plain": [
       "[0.002235475927591324, 0.0010630079777911305, 0.027428261935710907]"
      ]
     },
     "execution_count": 32,
     "metadata": {},
     "output_type": "execute_result"
    }
   ],
   "source": [
    "model.evaluate(X_test, y_test)"
   ]
  },
  {
   "cell_type": "code",
   "execution_count": 33,
   "id": "e28e168f",
   "metadata": {},
   "outputs": [
    {
     "name": "stdout",
     "output_type": "stream",
     "text": [
      "Variance:\t0.955112\n",
      "R2 Score:\t0.901868\n",
      "Adj R2 Score:\t0.900827\n",
      "Max Error:\t0.084533\n"
     ]
    }
   ],
   "source": [
    "print_metrics(model, X_test, y_test)"
   ]
  },
  {
   "cell_type": "code",
   "execution_count": 34,
   "id": "f598b9c8",
   "metadata": {},
   "outputs": [
    {
     "data": {
      "image/png": "[encoded data removed]",
      "text/plain": [
       "<Figure size 432x288 with 1 Axes>"
      ]
     },
     "metadata": {
      "needs_background": "light"
     },
     "output_type": "display_data"
    }
   ],
   "source": [
    "predicted  = model.predict(X_test)\n",
    "test_label = y_test.reshape(-1,1)\n",
    "predicted = np.array(predicted[:,0]).reshape(-1,1)\n",
    "len_t = len(X_train)\n",
    "\n",
    "for j in range(len_t , len_t + len(X_test)):\n",
    "    temp = output_labels_unscaled[j]\n",
    "    test_label[j - len_t] = test_label[j - len_t] * temp + temp\n",
    "    predicted[j - len_t] = predicted[j - len_t] * temp + temp\n",
    "\n",
    "plt.plot(predicted, color = 'green', label = 'Predicted Stock Price')\n",
    "plt.plot(test_label, color = 'red', label = 'Real Stock Price')\n",
    "plt.title('Stock Price Prediction')\n",
    "plt.xlabel('Time')\n",
    "plt.ylabel('Stock Price')\n",
    "plt.legend()\n",
    "plt.show()"
   ]
  },
  {
   "cell_type": "code",
   "execution_count": 35,
   "id": "b5fd10a5",
   "metadata": {
    "scrolled": true
   },
   "outputs": [
    {
     "data": {
      "text/html": [
       "<div>\n",
       "<style scoped>\n",
       "    .dataframe tbody tr th:only-of-type {\n",
       "        vertical-align: middle;\n",
       "    }\n",
       "\n",
       "    .dataframe tbody tr th {\n",
       "        vertical-align: top;\n",
       "    }\n",
       "\n",
       "    .dataframe thead th {\n",
       "        text-align: right;\n",
       "    }\n",
       "</style>\n",
       "<table border=\"1\" class=\"dataframe\">\n",
       "  <thead>\n",
       "    <tr style=\"text-align: right;\">\n",
       "      <th></th>\n",
       "      <th>ind_neg</th>\n",
       "      <th>ind_neu</th>\n",
       "      <th>ind_pos</th>\n",
       "    </tr>\n",
       "  </thead>\n",
       "  <tbody>\n",
       "    <tr>\n",
       "      <th>0</th>\n",
       "      <td>0.278674</td>\n",
       "      <td>0.176300</td>\n",
       "      <td>0.143917</td>\n",
       "    </tr>\n",
       "    <tr>\n",
       "      <th>1</th>\n",
       "      <td>0.278874</td>\n",
       "      <td>0.211060</td>\n",
       "      <td>0.100014</td>\n",
       "    </tr>\n",
       "    <tr>\n",
       "      <th>2</th>\n",
       "      <td>0.273078</td>\n",
       "      <td>0.193756</td>\n",
       "      <td>0.116132</td>\n",
       "    </tr>\n",
       "    <tr>\n",
       "      <th>3</th>\n",
       "      <td>0.208868</td>\n",
       "      <td>0.209484</td>\n",
       "      <td>0.121271</td>\n",
       "    </tr>\n",
       "    <tr>\n",
       "      <th>4</th>\n",
       "      <td>0.272524</td>\n",
       "      <td>0.174122</td>\n",
       "      <td>0.115136</td>\n",
       "    </tr>\n",
       "    <tr>\n",
       "      <th>...</th>\n",
       "      <td>...</td>\n",
       "      <td>...</td>\n",
       "      <td>...</td>\n",
       "    </tr>\n",
       "    <tr>\n",
       "      <th>712</th>\n",
       "      <td>0.199406</td>\n",
       "      <td>0.422535</td>\n",
       "      <td>0.196778</td>\n",
       "    </tr>\n",
       "    <tr>\n",
       "      <th>713</th>\n",
       "      <td>0.273004</td>\n",
       "      <td>0.648594</td>\n",
       "      <td>0.313788</td>\n",
       "    </tr>\n",
       "    <tr>\n",
       "      <th>714</th>\n",
       "      <td>0.256412</td>\n",
       "      <td>0.670452</td>\n",
       "      <td>0.486741</td>\n",
       "    </tr>\n",
       "    <tr>\n",
       "      <th>715</th>\n",
       "      <td>0.356284</td>\n",
       "      <td>0.592720</td>\n",
       "      <td>0.353743</td>\n",
       "    </tr>\n",
       "    <tr>\n",
       "      <th>716</th>\n",
       "      <td>0.273174</td>\n",
       "      <td>0.590986</td>\n",
       "      <td>0.353264</td>\n",
       "    </tr>\n",
       "  </tbody>\n",
       "</table>\n",
       "<p>717 rows × 3 columns</p>\n",
       "</div>"
      ],
      "text/plain": [
       "      ind_neg   ind_neu   ind_pos\n",
       "0    0.278674  0.176300  0.143917\n",
       "1    0.278874  0.211060  0.100014\n",
       "2    0.273078  0.193756  0.116132\n",
       "3    0.208868  0.209484  0.121271\n",
       "4    0.272524  0.174122  0.115136\n",
       "..        ...       ...       ...\n",
       "712  0.199406  0.422535  0.196778\n",
       "713  0.273004  0.648594  0.313788\n",
       "714  0.256412  0.670452  0.486741\n",
       "715  0.356284  0.592720  0.353743\n",
       "716  0.273174  0.590986  0.353264\n",
       "\n",
       "[717 rows x 3 columns]"
      ]
     },
     "execution_count": 35,
     "metadata": {},
     "output_type": "execute_result"
    }
   ],
   "source": [
    "norm_df2 = norm_df.copy(deep = True)\n",
    "\n",
    "#norm_df2 = norm_df2.drop(columns = ['date', 'open', 'high', 'low'])\n",
    "\n",
    "norm_df2 = norm_df2.drop(columns = ['date', 'open'])\n",
    "\n",
    "norm_df2 = norm_df2[['ind_neg', 'ind_neu', 'ind_pos', 'close']]\n",
    "\n",
    "output_labels2 = norm_df2.pop('close')\n",
    "\n",
    "norm_df2"
   ]
  },
  {
   "cell_type": "code",
   "execution_count": 36,
   "id": "68b86ff5",
   "metadata": {},
   "outputs": [],
   "source": [
    "from sklearn.model_selection import train_test_split\n",
    "\n",
    "norm_df2 = norm_df2.to_numpy()\n",
    "output_labels2 = output_labels2.to_numpy()\n",
    "\n",
    "X_train, X_test, y_train, y_test = train_test_split(norm_df2, output_labels2, test_size = 0.2, random_state = 3, shuffle=False)"
   ]
  },
  {
   "cell_type": "code",
   "execution_count": 37,
   "id": "8a9e92c6",
   "metadata": {},
   "outputs": [
    {
     "name": "stdout",
     "output_type": "stream",
     "text": [
      "Model: \"sequential_1\"\n",
      "_________________________________________________________________\n",
      " Layer (type)                Output Shape              Param #   \n",
      "=================================================================\n",
      " dense_6 (Dense)             (None, 256)               1024      \n",
      "                                                                 \n",
      " dense_7 (Dense)             (None, 128)               32896     \n",
      "                                                                 \n",
      " dense_8 (Dense)             (None, 64)                8256      \n",
      "                                                                 \n",
      " dense_9 (Dense)             (None, 32)                2080      \n",
      "                                                                 \n",
      " dense_10 (Dense)            (None, 16)                528       \n",
      "                                                                 \n",
      " dense_11 (Dense)            (None, 1)                 17        \n",
      "                                                                 \n",
      "=================================================================\n",
      "Total params: 44,801\n",
      "Trainable params: 44,801\n",
      "Non-trainable params: 0\n",
      "_________________________________________________________________\n"
     ]
    }
   ],
   "source": [
    "from tensorflow.keras.models import Sequential\n",
    "from tensorflow.keras.layers import Dense\n",
    "\n",
    "model = Sequential()\n",
    "\n",
    "#opt = SGD(lr=0.0001)\n",
    "#opt = RMSprop()\n",
    "\n",
    "model.add(Dense(256, input_shape=(X_train.shape[1],),  kernel_regularizer='l2'))\n",
    "model.add(Dense(128, activation='relu'))\n",
    "model.add(Dense(64, activation='relu'))\n",
    "model.add(Dense(32, activation='relu'))\n",
    "model.add(Dense(16, activation='relu'))\n",
    "model.add(Dense(1, activation='linear'))\n",
    "\n",
    "model.compile(optimizer = 'adam', loss = 'mse', metrics = ['mse', 'mae'])\n",
    "\n",
    "model.summary()"
   ]
  },
  {
   "cell_type": "code",
   "execution_count": 38,
   "id": "0268a37a",
   "metadata": {},
   "outputs": [
    {
     "name": "stdout",
     "output_type": "stream",
     "text": [
      "Epoch 1/10\n",
      "29/29 [==============================] - 0s 1ms/step - loss: 0.1034 - mse: 0.0485 - mae: 0.1771\n",
      "Epoch 2/10\n",
      "29/29 [==============================] - 0s 2ms/step - loss: 0.0651 - mse: 0.0269 - mae: 0.1347\n",
      "Epoch 3/10\n",
      "29/29 [==============================] - 0s 2ms/step - loss: 0.0511 - mse: 0.0263 - mae: 0.1354\n",
      "Epoch 4/10\n",
      "29/29 [==============================] - 0s 2ms/step - loss: 0.0419 - mse: 0.0259 - mae: 0.1341\n",
      "Epoch 5/10\n",
      "29/29 [==============================] - 0s 2ms/step - loss: 0.0360 - mse: 0.0255 - mae: 0.1326\n",
      "Epoch 6/10\n",
      "29/29 [==============================] - 0s 2ms/step - loss: 0.0334 - mse: 0.0262 - mae: 0.1333\n",
      "Epoch 7/10\n",
      "29/29 [==============================] - 0s 1ms/step - loss: 0.0313 - mse: 0.0261 - mae: 0.1348\n",
      "Epoch 8/10\n",
      "29/29 [==============================] - 0s 1ms/step - loss: 0.0311 - mse: 0.0270 - mae: 0.1360\n",
      "Epoch 9/10\n",
      "29/29 [==============================] - 0s 1ms/step - loss: 0.0304 - mse: 0.0271 - mae: 0.1363\n",
      "Epoch 10/10\n",
      "29/29 [==============================] - 0s 2ms/step - loss: 0.0280 - mse: 0.0251 - mae: 0.1307\n"
     ]
    }
   ],
   "source": [
    "history = model.fit(X_train, y_train, epochs=10, batch_size=20, verbose=1, shuffle=True)"
   ]
  },
  {
   "cell_type": "code",
   "execution_count": 39,
   "id": "1e9cd493",
   "metadata": {},
   "outputs": [
    {
     "data": {
      "text/plain": [
       "<matplotlib.legend.Legend at 0x7f19840b0160>"
      ]
     },
     "execution_count": 39,
     "metadata": {},
     "output_type": "execute_result"
    },
    {
     "data": {
      "image/png": "[encoded data removed]",
      "text/plain": [
       "<Figure size 432x288 with 1 Axes>"
      ]
     },
     "metadata": {
      "needs_background": "light"
     },
     "output_type": "display_data"
    }
   ],
   "source": [
    "plt.plot(history.history['loss'], label='train loss')\n",
    "plt.xlabel(\"Epoch\")\n",
    "plt.ylabel(\"Loss\")\n",
    "plt.legend()"
   ]
  },
  {
   "cell_type": "code",
   "execution_count": 40,
   "id": "2fc43b88",
   "metadata": {},
   "outputs": [
    {
     "data": {
      "text/plain": [
       "<matplotlib.legend.Legend at 0x7f19840898e0>"
      ]
     },
     "execution_count": 40,
     "metadata": {},
     "output_type": "execute_result"
    },
    {
     "data": {
      "image/png": "[encoded data removed]",
      "text/plain": [
       "<Figure size 432x288 with 1 Axes>"
      ]
     },
     "metadata": {
      "needs_background": "light"
     },
     "output_type": "display_data"
    }
   ],
   "source": [
    "plt.plot(history.history['mse'], label='train mse')\n",
    "plt.xlabel(\"Epoch\")\n",
    "plt.ylabel(\"Loss\")\n",
    "plt.legend()"
   ]
  },
  {
   "cell_type": "code",
   "execution_count": 41,
   "id": "b42c0ab4",
   "metadata": {},
   "outputs": [
    {
     "data": {
      "text/plain": [
       "<matplotlib.legend.Legend at 0x7f19707d1430>"
      ]
     },
     "execution_count": 41,
     "metadata": {},
     "output_type": "execute_result"
    },
    {
     "data": {
      "image/png": "[encoded data removed]",
      "text/plain": [
       "<Figure size 432x288 with 1 Axes>"
      ]
     },
     "metadata": {
      "needs_background": "light"
     },
     "output_type": "display_data"
    }
   ],
   "source": [
    "plt.plot(history.history['mae'], label='train mae')\n",
    "plt.xlabel(\"Epoch\")\n",
    "plt.ylabel(\"Loss\")\n",
    "plt.legend()"
   ]
  },
  {
   "cell_type": "code",
   "execution_count": 42,
   "id": "41ce4add",
   "metadata": {},
   "outputs": [
    {
     "name": "stdout",
     "output_type": "stream",
     "text": [
      "5/5 [==============================] - 0s 974us/step - loss: 0.0597 - mse: 0.0570 - mae: 0.2057\n"
     ]
    },
    {
     "data": {
      "text/plain": [
       "[0.05972476676106453, 0.057021744549274445, 0.2056533694267273]"
      ]
     },
     "execution_count": 42,
     "metadata": {},
     "output_type": "execute_result"
    }
   ],
   "source": [
    "model.evaluate(X_test, y_test)"
   ]
  },
  {
   "cell_type": "code",
   "execution_count": 43,
   "id": "41a6b729",
   "metadata": {},
   "outputs": [
    {
     "name": "stdout",
     "output_type": "stream",
     "text": [
      "Variance:\t-0.417405\n",
      "R2 Score:\t-4.263999\n",
      "Adj R2 Score:\t-4.291753\n",
      "Max Error:\t0.568709\n"
     ]
    }
   ],
   "source": [
    "print_metrics(model, X_test, y_test)"
   ]
  },
  {
   "cell_type": "code",
   "execution_count": 44,
   "id": "4a8d9d1b",
   "metadata": {},
   "outputs": [
    {
     "data": {
      "image/png": "[encoded data removed]",
      "text/plain": [
       "<Figure size 432x288 with 1 Axes>"
      ]
     },
     "metadata": {
      "needs_background": "light"
     },
     "output_type": "display_data"
    }
   ],
   "source": [
    "predicted  = model.predict(X_test)\n",
    "test_label = y_test.reshape(-1,1)\n",
    "predicted = np.array(predicted[:,0]).reshape(-1,1)\n",
    "len_t = len(X_train)\n",
    "\n",
    "for j in range(len_t , len_t + len(X_test)):\n",
    "    temp = output_labels_unscaled[j]\n",
    "    test_label[j - len_t] = test_label[j - len_t] * temp + temp\n",
    "    predicted[j - len_t] = predicted[j - len_t] * temp + temp\n",
    "\n",
    "plt.plot(predicted, color = 'green', label = 'Predicted Stock Price')\n",
    "plt.plot(test_label, color = 'red', label = 'Real Stock Price')\n",
    "plt.title('Stock Price Prediction')\n",
    "plt.xlabel('Time')\n",
    "plt.ylabel('Stock Price')\n",
    "plt.legend()\n",
    "plt.show()"
   ]
  },
  {
   "cell_type": "markdown",
   "id": "12b11981",
   "metadata": {},
   "source": [
    "### Using Previous Day's Open Value as a Feature"
   ]
  },
  {
   "cell_type": "code",
   "execution_count": null,
   "id": "dffab01f",
   "metadata": {},
   "outputs": [],
   "source": []
  }
 ],
 "metadata": {
  "kernelspec": {
   "display_name": "Python 3 (ipykernel)",
   "language": "python",
   "name": "python3"
  },
  "language_info": {
   "codemirror_mode": {
    "name": "ipython",
    "version": 3
   },
   "file_extension": ".py",
   "mimetype": "text/x-python",
   "name": "python",
   "nbconvert_exporter": "python",
   "pygments_lexer": "ipython3",
   "version": "3.8.10"
  }
 },
 "nbformat": 4,
 "nbformat_minor": 5
}
