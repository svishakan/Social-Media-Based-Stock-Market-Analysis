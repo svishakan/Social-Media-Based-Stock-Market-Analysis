{
 "cells": [
  {
   "cell_type": "code",
   "execution_count": 1,
   "metadata": {},
   "outputs": [],
   "source": [
    "import tensorflow as tf\n",
    "import pandas as pd\n",
    "import transformers\n",
    "import tensorflow_hub as hub\n",
    "import tensorflow_text as text\n",
    "import numpy as np"
   ]
  },
  {
   "cell_type": "code",
   "execution_count": 2,
   "metadata": {},
   "outputs": [
    {
     "data": {
      "text/html": [
       "<div>\n",
       "<style scoped>\n",
       "    .dataframe tbody tr th:only-of-type {\n",
       "        vertical-align: middle;\n",
       "    }\n",
       "\n",
       "    .dataframe tbody tr th {\n",
       "        vertical-align: top;\n",
       "    }\n",
       "\n",
       "    .dataframe thead th {\n",
       "        text-align: right;\n",
       "    }\n",
       "</style>\n",
       "<table border=\"1\" class=\"dataframe\">\n",
       "  <thead>\n",
       "    <tr style=\"text-align: right;\">\n",
       "      <th></th>\n",
       "      <th>Category</th>\n",
       "      <th>Text</th>\n",
       "    </tr>\n",
       "  </thead>\n",
       "  <tbody>\n",
       "    <tr>\n",
       "      <th>0</th>\n",
       "      <td>Crypto</td>\n",
       "      <td>Would You Shop at Tesla Using Dogecoin?</td>\n",
       "    </tr>\n",
       "    <tr>\n",
       "      <th>1</th>\n",
       "      <td>Crypto</td>\n",
       "      <td>Conmen made $1.3 bn via romance scams in 5 yea...</td>\n",
       "    </tr>\n",
       "    <tr>\n",
       "      <th>2</th>\n",
       "      <td>Crypto</td>\n",
       "      <td>Bitcoin paradise? Briton creates crypto utopia...</td>\n",
       "    </tr>\n",
       "    <tr>\n",
       "      <th>3</th>\n",
       "      <td>Crypto</td>\n",
       "      <td>Intel Launches Blockchain Chip To Tap Crypto Boom</td>\n",
       "    </tr>\n",
       "    <tr>\n",
       "      <th>4</th>\n",
       "      <td>Crypto</td>\n",
       "      <td>OpenSea's NFT Free-for-All</td>\n",
       "    </tr>\n",
       "  </tbody>\n",
       "</table>\n",
       "</div>"
      ],
      "text/plain": [
       "  Category                                               Text\n",
       "0   Crypto            Would You Shop at Tesla Using Dogecoin?\n",
       "1   Crypto  Conmen made $1.3 bn via romance scams in 5 yea...\n",
       "2   Crypto  Bitcoin paradise? Briton creates crypto utopia...\n",
       "3   Crypto  Intel Launches Blockchain Chip To Tap Crypto Boom\n",
       "4   Crypto                         OpenSea's NFT Free-for-All"
      ]
     },
     "execution_count": 2,
     "metadata": {},
     "output_type": "execute_result"
    }
   ],
   "source": [
    "df = pd.read_csv(\"../Datasets/newsdata.csv\", names = [\"Category\", \"Text\"])\n",
    "df.head()"
   ]
  },
  {
   "cell_type": "code",
   "execution_count": 3,
   "metadata": {},
   "outputs": [
    {
     "data": {
      "text/html": [
       "<div>\n",
       "<style scoped>\n",
       "    .dataframe tbody tr th:only-of-type {\n",
       "        vertical-align: middle;\n",
       "    }\n",
       "\n",
       "    .dataframe tbody tr th {\n",
       "        vertical-align: top;\n",
       "    }\n",
       "\n",
       "    .dataframe thead th {\n",
       "        text-align: right;\n",
       "    }\n",
       "</style>\n",
       "<table border=\"1\" class=\"dataframe\">\n",
       "  <thead>\n",
       "    <tr style=\"text-align: right;\">\n",
       "      <th></th>\n",
       "      <th>Category</th>\n",
       "      <th>Text</th>\n",
       "    </tr>\n",
       "  </thead>\n",
       "  <tbody>\n",
       "    <tr>\n",
       "      <th>83</th>\n",
       "      <td>Tech</td>\n",
       "      <td>Apple Said to Raise Salary of Its US Employees...</td>\n",
       "    </tr>\n",
       "    <tr>\n",
       "      <th>115</th>\n",
       "      <td>Tech</td>\n",
       "      <td>Google Search reveals jobs people want amid Co...</td>\n",
       "    </tr>\n",
       "    <tr>\n",
       "      <th>31</th>\n",
       "      <td>Oil</td>\n",
       "      <td>Oil Prices Spike On Rumors Russia Is Preparing...</td>\n",
       "    </tr>\n",
       "    <tr>\n",
       "      <th>36</th>\n",
       "      <td>Oil</td>\n",
       "      <td>Rupee slumps 31 paise to 75.46 against US doll...</td>\n",
       "    </tr>\n",
       "    <tr>\n",
       "      <th>60</th>\n",
       "      <td>Gaming</td>\n",
       "      <td>Nintendo Hacker Gary Bowser to spend the next ...</td>\n",
       "    </tr>\n",
       "  </tbody>\n",
       "</table>\n",
       "</div>"
      ],
      "text/plain": [
       "    Category                                               Text\n",
       "83      Tech  Apple Said to Raise Salary of Its US Employees...\n",
       "115     Tech  Google Search reveals jobs people want amid Co...\n",
       "31       Oil  Oil Prices Spike On Rumors Russia Is Preparing...\n",
       "36       Oil  Rupee slumps 31 paise to 75.46 against US doll...\n",
       "60    Gaming  Nintendo Hacker Gary Bowser to spend the next ..."
      ]
     },
     "execution_count": 3,
     "metadata": {},
     "output_type": "execute_result"
    }
   ],
   "source": [
    "from sklearn.utils import shuffle\n",
    "df = shuffle(df)\n",
    "df.head()"
   ]
  },
  {
   "cell_type": "code",
   "execution_count": 4,
   "metadata": {},
   "outputs": [
    {
     "data": {
      "text/plain": [
       "Tech      33\n",
       "Gaming    27\n",
       "Oil       19\n",
       "Crypto    19\n",
       "EVs       18\n",
       "Name: Category, dtype: int64"
      ]
     },
     "execution_count": 4,
     "metadata": {},
     "output_type": "execute_result"
    }
   ],
   "source": [
    "#Category-wise data point counts\n",
    "df[\"Category\"].value_counts()"
   ]
  },
  {
   "cell_type": "code",
   "execution_count": 5,
   "metadata": {},
   "outputs": [
    {
     "data": {
      "text/plain": [
       "(116, 2)"
      ]
     },
     "execution_count": 5,
     "metadata": {},
     "output_type": "execute_result"
    }
   ],
   "source": [
    "#Length of dataset\n",
    "df.shape"
   ]
  },
  {
   "cell_type": "code",
   "execution_count": 6,
   "metadata": {
    "scrolled": true
   },
   "outputs": [
    {
     "data": {
      "text/plain": [
       "3    33\n",
       "4    27\n",
       "1    19\n",
       "0    19\n",
       "2    18\n",
       "Name: Category, dtype: int64"
      ]
     },
     "execution_count": 6,
     "metadata": {},
     "output_type": "execute_result"
    }
   ],
   "source": [
    "df[\"Category\"] = df[\"Category\"].replace({'Crypto': 0, 'Oil': 1, 'EVs': 2, 'Tech': 3, 'Gaming': 4})\n",
    "\n",
    "#Category-wise data point counts\n",
    "df[\"Category\"].value_counts()"
   ]
  },
  {
   "cell_type": "code",
   "execution_count": 7,
   "metadata": {},
   "outputs": [
    {
     "data": {
      "text/html": [
       "<div>\n",
       "<style scoped>\n",
       "    .dataframe tbody tr th:only-of-type {\n",
       "        vertical-align: middle;\n",
       "    }\n",
       "\n",
       "    .dataframe tbody tr th {\n",
       "        vertical-align: top;\n",
       "    }\n",
       "\n",
       "    .dataframe thead th {\n",
       "        text-align: right;\n",
       "    }\n",
       "</style>\n",
       "<table border=\"1\" class=\"dataframe\">\n",
       "  <thead>\n",
       "    <tr style=\"text-align: right;\">\n",
       "      <th></th>\n",
       "      <th>Text</th>\n",
       "      <th>Category_0</th>\n",
       "      <th>Category_1</th>\n",
       "      <th>Category_2</th>\n",
       "      <th>Category_3</th>\n",
       "      <th>Category_4</th>\n",
       "    </tr>\n",
       "  </thead>\n",
       "  <tbody>\n",
       "    <tr>\n",
       "      <th>83</th>\n",
       "      <td>Apple Said to Raise Salary of Its US Employees...</td>\n",
       "      <td>0</td>\n",
       "      <td>0</td>\n",
       "      <td>0</td>\n",
       "      <td>1</td>\n",
       "      <td>0</td>\n",
       "    </tr>\n",
       "    <tr>\n",
       "      <th>115</th>\n",
       "      <td>Google Search reveals jobs people want amid Co...</td>\n",
       "      <td>0</td>\n",
       "      <td>0</td>\n",
       "      <td>0</td>\n",
       "      <td>1</td>\n",
       "      <td>0</td>\n",
       "    </tr>\n",
       "    <tr>\n",
       "      <th>31</th>\n",
       "      <td>Oil Prices Spike On Rumors Russia Is Preparing...</td>\n",
       "      <td>0</td>\n",
       "      <td>1</td>\n",
       "      <td>0</td>\n",
       "      <td>0</td>\n",
       "      <td>0</td>\n",
       "    </tr>\n",
       "    <tr>\n",
       "      <th>36</th>\n",
       "      <td>Rupee slumps 31 paise to 75.46 against US doll...</td>\n",
       "      <td>0</td>\n",
       "      <td>1</td>\n",
       "      <td>0</td>\n",
       "      <td>0</td>\n",
       "      <td>0</td>\n",
       "    </tr>\n",
       "    <tr>\n",
       "      <th>60</th>\n",
       "      <td>Nintendo Hacker Gary Bowser to spend the next ...</td>\n",
       "      <td>0</td>\n",
       "      <td>0</td>\n",
       "      <td>0</td>\n",
       "      <td>0</td>\n",
       "      <td>1</td>\n",
       "    </tr>\n",
       "  </tbody>\n",
       "</table>\n",
       "</div>"
      ],
      "text/plain": [
       "                                                  Text  Category_0  \\\n",
       "83   Apple Said to Raise Salary of Its US Employees...           0   \n",
       "115  Google Search reveals jobs people want amid Co...           0   \n",
       "31   Oil Prices Spike On Rumors Russia Is Preparing...           0   \n",
       "36   Rupee slumps 31 paise to 75.46 against US doll...           0   \n",
       "60   Nintendo Hacker Gary Bowser to spend the next ...           0   \n",
       "\n",
       "     Category_1  Category_2  Category_3  Category_4  \n",
       "83            0           0           1           0  \n",
       "115           0           0           1           0  \n",
       "31            1           0           0           0  \n",
       "36            1           0           0           0  \n",
       "60            0           0           0           1  "
      ]
     },
     "execution_count": 7,
     "metadata": {},
     "output_type": "execute_result"
    }
   ],
   "source": [
    "e_df = pd.get_dummies(df, columns=[\"Category\"])\n",
    "\n",
    "e_df.head()"
   ]
  },
  {
   "cell_type": "code",
   "execution_count": 8,
   "metadata": {},
   "outputs": [],
   "source": [
    "from sklearn.model_selection import train_test_split\n",
    "\n",
    "x_train, x_test, y_train, y_test = train_test_split(e_df[\"Text\"], e_df.iloc[:,1:], random_state = 0,\n",
    "                                                   test_size = 0.2)"
   ]
  },
  {
   "cell_type": "code",
   "execution_count": 9,
   "metadata": {},
   "outputs": [
    {
     "data": {
      "text/plain": [
       "80     Apex Legends Season 12 Accidentally Gives Some...\n",
       "84     Romance scams cost Americans over $500 million...\n",
       "105    Samsung Galaxy S22 Ultra  6 reasons to buy and...\n",
       "45     Ohio Can Lead The Electric Vehicle & Clean Ene...\n",
       "86     Android Circuit: Samsungs Galaxy S22 Surprise,...\n",
       "Name: Text, dtype: object"
      ]
     },
     "execution_count": 9,
     "metadata": {},
     "output_type": "execute_result"
    }
   ],
   "source": [
    "x_train.head()"
   ]
  },
  {
   "cell_type": "code",
   "execution_count": 10,
   "metadata": {},
   "outputs": [
    {
     "data": {
      "text/html": [
       "<div>\n",
       "<style scoped>\n",
       "    .dataframe tbody tr th:only-of-type {\n",
       "        vertical-align: middle;\n",
       "    }\n",
       "\n",
       "    .dataframe tbody tr th {\n",
       "        vertical-align: top;\n",
       "    }\n",
       "\n",
       "    .dataframe thead th {\n",
       "        text-align: right;\n",
       "    }\n",
       "</style>\n",
       "<table border=\"1\" class=\"dataframe\">\n",
       "  <thead>\n",
       "    <tr style=\"text-align: right;\">\n",
       "      <th></th>\n",
       "      <th>Category_0</th>\n",
       "      <th>Category_1</th>\n",
       "      <th>Category_2</th>\n",
       "      <th>Category_3</th>\n",
       "      <th>Category_4</th>\n",
       "    </tr>\n",
       "  </thead>\n",
       "  <tbody>\n",
       "    <tr>\n",
       "      <th>80</th>\n",
       "      <td>0</td>\n",
       "      <td>0</td>\n",
       "      <td>0</td>\n",
       "      <td>0</td>\n",
       "      <td>1</td>\n",
       "    </tr>\n",
       "    <tr>\n",
       "      <th>84</th>\n",
       "      <td>0</td>\n",
       "      <td>0</td>\n",
       "      <td>0</td>\n",
       "      <td>1</td>\n",
       "      <td>0</td>\n",
       "    </tr>\n",
       "    <tr>\n",
       "      <th>105</th>\n",
       "      <td>0</td>\n",
       "      <td>0</td>\n",
       "      <td>0</td>\n",
       "      <td>1</td>\n",
       "      <td>0</td>\n",
       "    </tr>\n",
       "    <tr>\n",
       "      <th>45</th>\n",
       "      <td>0</td>\n",
       "      <td>0</td>\n",
       "      <td>1</td>\n",
       "      <td>0</td>\n",
       "      <td>0</td>\n",
       "    </tr>\n",
       "    <tr>\n",
       "      <th>86</th>\n",
       "      <td>0</td>\n",
       "      <td>0</td>\n",
       "      <td>0</td>\n",
       "      <td>1</td>\n",
       "      <td>0</td>\n",
       "    </tr>\n",
       "  </tbody>\n",
       "</table>\n",
       "</div>"
      ],
      "text/plain": [
       "     Category_0  Category_1  Category_2  Category_3  Category_4\n",
       "80            0           0           0           0           1\n",
       "84            0           0           0           1           0\n",
       "105           0           0           0           1           0\n",
       "45            0           0           1           0           0\n",
       "86            0           0           0           1           0"
      ]
     },
     "execution_count": 10,
     "metadata": {},
     "output_type": "execute_result"
    }
   ],
   "source": [
    "y_train.head()"
   ]
  },
  {
   "cell_type": "code",
   "execution_count": 11,
   "metadata": {},
   "outputs": [],
   "source": [
    "#Do not re-run multiple times, it downloads the BERT model.\n",
    "\n",
    "bert_preprocess = hub.KerasLayer(\"https://tfhub.dev/tensorflow/bert_en_uncased_preprocess/3\")\n",
    "bert_encoder = hub.KerasLayer(\"https://tfhub.dev/tensorflow/bert_en_uncased_L-12_H-768_A-12/4\")"
   ]
  },
  {
   "cell_type": "code",
   "execution_count": 12,
   "metadata": {},
   "outputs": [],
   "source": [
    "def get_sentence_encoding(sentences):\n",
    "    preprocessed_text = bert_preprocess(sentences)\n",
    "    \n",
    "    return bert_encoder(preprocessed_text)[\"pooled_output\"]"
   ]
  },
  {
   "cell_type": "code",
   "execution_count": 13,
   "metadata": {},
   "outputs": [],
   "source": [
    "#Model\n",
    "\n",
    "#BERT Layers\n",
    "text_input = tf.keras.layers.Input(shape = (), dtype = tf.string, name = \"Text\")\n",
    "preprocessed_text = bert_preprocess(text_input)\n",
    "outputs = bert_encoder(preprocessed_text)\n",
    "\n",
    "#NN Layers\n",
    "l1 = tf.keras.layers.Dropout(0.2, name = \"dropout\")(outputs[\"pooled_output\"])    #reduce overfitting\n",
    "l2 = tf.keras.layers.Dense(5, activation=\"softmax\", name=\"output\")(l1)\n",
    "\n",
    "#Construct the model\n",
    "model = tf.keras.Model(inputs = [text_input], outputs = [l2])"
   ]
  },
  {
   "cell_type": "code",
   "execution_count": 14,
   "metadata": {},
   "outputs": [
    {
     "name": "stdout",
     "output_type": "stream",
     "text": [
      "Model: \"model\"\n",
      "__________________________________________________________________________________________________\n",
      " Layer (type)                   Output Shape         Param #     Connected to                     \n",
      "==================================================================================================\n",
      " Text (InputLayer)              [(None,)]            0           []                               \n",
      "                                                                                                  \n",
      " keras_layer (KerasLayer)       {'input_mask': (Non  0           ['Text[0][0]']                   \n",
      "                                e, 128),                                                          \n",
      "                                 'input_type_ids':                                                \n",
      "                                (None, 128),                                                      \n",
      "                                 'input_word_ids':                                                \n",
      "                                (None, 128)}                                                      \n",
      "                                                                                                  \n",
      " keras_layer_1 (KerasLayer)     {'default': (None,   109482241   ['keras_layer[0][0]',            \n",
      "                                768),                             'keras_layer[0][1]',            \n",
      "                                 'encoder_outputs':               'keras_layer[0][2]']            \n",
      "                                 [(None, 128, 768),                                               \n",
      "                                 (None, 128, 768),                                                \n",
      "                                 (None, 128, 768),                                                \n",
      "                                 (None, 128, 768),                                                \n",
      "                                 (None, 128, 768),                                                \n",
      "                                 (None, 128, 768),                                                \n",
      "                                 (None, 128, 768),                                                \n",
      "                                 (None, 128, 768),                                                \n",
      "                                 (None, 128, 768),                                                \n",
      "                                 (None, 128, 768),                                                \n",
      "                                 (None, 128, 768),                                                \n",
      "                                 (None, 128, 768)],                                               \n",
      "                                 'pooled_output': (                                               \n",
      "                                None, 768),                                                       \n",
      "                                 'sequence_output':                                               \n",
      "                                 (None, 128, 768)}                                                \n",
      "                                                                                                  \n",
      " dropout (Dropout)              (None, 768)          0           ['keras_layer_1[0][13]']         \n",
      "                                                                                                  \n",
      " output (Dense)                 (None, 5)            3845        ['dropout[0][0]']                \n",
      "                                                                                                  \n",
      "==================================================================================================\n",
      "Total params: 109,486,086\n",
      "Trainable params: 3,845\n",
      "Non-trainable params: 109,482,241\n",
      "__________________________________________________________________________________________________\n"
     ]
    }
   ],
   "source": [
    "model.summary()"
   ]
  },
  {
   "cell_type": "code",
   "execution_count": 15,
   "metadata": {},
   "outputs": [],
   "source": [
    "model_metrics = [\n",
    "    tf.keras.metrics.CategoricalAccuracy(name = \"categorical_accuracy\"),\n",
    "    tf.keras.metrics.Precision(name = \"precision\"),\n",
    "    tf.keras.metrics.Recall(name = \"recall\")\n",
    "]\n",
    "\n",
    "model.compile(optimizer = \"adam\",\n",
    "             loss = \"categorical_crossentropy\",\n",
    "             metrics = model_metrics)"
   ]
  },
  {
   "cell_type": "code",
   "execution_count": 16,
   "metadata": {},
   "outputs": [
    {
     "name": "stdout",
     "output_type": "stream",
     "text": [
      "Epoch 1/50\n",
      "3/3 [==============================] - 23s 5s/step - loss: 1.9265 - categorical_accuracy: 0.1522 - precision: 0.2000 - recall: 0.0217\n",
      "Epoch 2/50\n",
      "3/3 [==============================] - 14s 5s/step - loss: 1.7052 - categorical_accuracy: 0.2935 - precision: 0.3636 - recall: 0.0435\n",
      "Epoch 3/50\n",
      "3/3 [==============================] - 14s 5s/step - loss: 1.6968 - categorical_accuracy: 0.2500 - precision: 0.2500 - recall: 0.0217\n",
      "Epoch 4/50\n",
      "3/3 [==============================] - 14s 5s/step - loss: 1.6725 - categorical_accuracy: 0.2391 - precision: 0.1818 - recall: 0.0217\n",
      "Epoch 5/50\n",
      "3/3 [==============================] - 14s 5s/step - loss: 1.6542 - categorical_accuracy: 0.2283 - precision: 0.6667 - recall: 0.0217\n",
      "Epoch 6/50\n",
      "3/3 [==============================] - 14s 5s/step - loss: 1.6038 - categorical_accuracy: 0.2609 - precision: 0.5000 - recall: 0.0217   \n",
      "Epoch 7/50\n",
      "3/3 [==============================] - 15s 5s/step - loss: 1.6533 - categorical_accuracy: 0.2500 - precision: 0.5000 - recall: 0.0435\n",
      "Epoch 8/50\n",
      "3/3 [==============================] - 14s 5s/step - loss: 1.6160 - categorical_accuracy: 0.2500 - precision: 0.5714 - recall: 0.0435   \n",
      "Epoch 9/50\n",
      "3/3 [==============================] - 15s 5s/step - loss: 1.5699 - categorical_accuracy: 0.2826 - precision: 0.6000 - recall: 0.0326\n",
      "Epoch 10/50\n",
      "3/3 [==============================] - 14s 5s/step - loss: 1.5502 - categorical_accuracy: 0.3587 - precision: 1.0000 - recall: 0.0217\n",
      "Epoch 11/50\n",
      "3/3 [==============================] - 15s 5s/step - loss: 1.5916 - categorical_accuracy: 0.2935 - precision: 0.6000 - recall: 0.0326   \n",
      "Epoch 12/50\n",
      "3/3 [==============================] - 15s 5s/step - loss: 1.5864 - categorical_accuracy: 0.3043 - precision: 0.3077 - recall: 0.0435\n",
      "Epoch 13/50\n",
      "3/3 [==============================] - 14s 5s/step - loss: 1.5548 - categorical_accuracy: 0.3370 - precision: 0.7143 - recall: 0.0543\n",
      "Epoch 14/50\n",
      "3/3 [==============================] - 14s 5s/step - loss: 1.5313 - categorical_accuracy: 0.2717 - precision: 0.6667 - recall: 0.0435\n",
      "Epoch 15/50\n",
      "3/3 [==============================] - 14s 5s/step - loss: 1.5960 - categorical_accuracy: 0.3043 - precision: 0.6667 - recall: 0.0435\n",
      "Epoch 16/50\n",
      "3/3 [==============================] - 14s 5s/step - loss: 1.5270 - categorical_accuracy: 0.3043 - precision: 0.3750 - recall: 0.0326\n",
      "Epoch 17/50\n",
      "3/3 [==============================] - 14s 4s/step - loss: 1.4973 - categorical_accuracy: 0.3804 - precision: 0.6000 - recall: 0.0652  \n",
      "Epoch 18/50\n",
      "3/3 [==============================] - 14s 5s/step - loss: 1.4662 - categorical_accuracy: 0.3478 - precision: 0.5714 - recall: 0.0435\n",
      "Epoch 19/50\n",
      "3/3 [==============================] - 14s 5s/step - loss: 1.4964 - categorical_accuracy: 0.4022 - precision: 0.6667 - recall: 0.0217\n",
      "Epoch 20/50\n",
      "3/3 [==============================] - 14s 5s/step - loss: 1.5235 - categorical_accuracy: 0.3478 - precision: 0.7500 - recall: 0.0326\n",
      "Epoch 21/50\n",
      "3/3 [==============================] - 14s 5s/step - loss: 1.4813 - categorical_accuracy: 0.4022 - precision: 0.5000 - recall: 0.0543\n",
      "Epoch 22/50\n",
      "3/3 [==============================] - 16s 5s/step - loss: 1.4016 - categorical_accuracy: 0.5217 - precision: 0.7273 - recall: 0.0870   \n",
      "Epoch 23/50\n",
      "3/3 [==============================] - 19s 6s/step - loss: 1.4695 - categorical_accuracy: 0.3804 - precision: 0.5000 - recall: 0.0326\n",
      "Epoch 24/50\n",
      "3/3 [==============================] - 16s 5s/step - loss: 1.4813 - categorical_accuracy: 0.3804 - precision: 0.6000 - recall: 0.0652\n",
      "Epoch 25/50\n",
      "3/3 [==============================] - 16s 5s/step - loss: 1.4875 - categorical_accuracy: 0.3043 - precision: 0.5385 - recall: 0.0761\n",
      "Epoch 26/50\n",
      "3/3 [==============================] - 17s 6s/step - loss: 1.4649 - categorical_accuracy: 0.3370 - precision: 0.7143 - recall: 0.0543\n",
      "Epoch 27/50\n",
      "3/3 [==============================] - 17s 5s/step - loss: 1.3928 - categorical_accuracy: 0.3804 - precision: 0.7273 - recall: 0.0870\n",
      "Epoch 28/50\n",
      "3/3 [==============================] - 16s 5s/step - loss: 1.4714 - categorical_accuracy: 0.3152 - precision: 0.5556 - recall: 0.0543\n",
      "Epoch 29/50\n",
      "3/3 [==============================] - 15s 5s/step - loss: 1.4718 - categorical_accuracy: 0.3478 - precision: 0.5833 - recall: 0.0761\n",
      "Epoch 30/50\n",
      "3/3 [==============================] - 16s 5s/step - loss: 1.4360 - categorical_accuracy: 0.3804 - precision: 0.8462 - recall: 0.1196\n",
      "Epoch 31/50\n",
      "3/3 [==============================] - 14s 5s/step - loss: 1.3539 - categorical_accuracy: 0.4239 - precision: 0.7273 - recall: 0.0870\n",
      "Epoch 32/50\n",
      "3/3 [==============================] - 16s 5s/step - loss: 1.5090 - categorical_accuracy: 0.3696 - precision: 0.4000 - recall: 0.0435\n",
      "Epoch 33/50\n",
      "3/3 [==============================] - 17s 5s/step - loss: 1.3874 - categorical_accuracy: 0.4565 - precision: 0.5333 - recall: 0.0870\n",
      "Epoch 34/50\n",
      "3/3 [==============================] - 14s 4s/step - loss: 1.4385 - categorical_accuracy: 0.3804 - precision: 0.7778 - recall: 0.0761\n",
      "Epoch 35/50\n",
      "3/3 [==============================] - 14s 4s/step - loss: 1.4067 - categorical_accuracy: 0.4130 - precision: 0.7500 - recall: 0.0326\n",
      "Epoch 36/50\n",
      "3/3 [==============================] - 14s 5s/step - loss: 1.4220 - categorical_accuracy: 0.4130 - precision: 0.5833 - recall: 0.0761\n",
      "Epoch 37/50\n",
      "3/3 [==============================] - 14s 4s/step - loss: 1.4152 - categorical_accuracy: 0.4130 - precision: 0.6667 - recall: 0.0652\n",
      "Epoch 38/50\n",
      "3/3 [==============================] - 14s 4s/step - loss: 1.3529 - categorical_accuracy: 0.5217 - precision: 0.4286 - recall: 0.0652\n",
      "Epoch 39/50\n",
      "3/3 [==============================] - 14s 5s/step - loss: 1.4272 - categorical_accuracy: 0.4348 - precision: 0.5455 - recall: 0.0652\n",
      "Epoch 40/50\n",
      "3/3 [==============================] - 14s 5s/step - loss: 1.3158 - categorical_accuracy: 0.4565 - precision: 0.8182 - recall: 0.0978\n",
      "Epoch 41/50\n",
      "3/3 [==============================] - 14s 5s/step - loss: 1.3714 - categorical_accuracy: 0.4891 - precision: 0.6000 - recall: 0.0978\n",
      "Epoch 42/50\n",
      "3/3 [==============================] - 14s 5s/step - loss: 1.3411 - categorical_accuracy: 0.4783 - precision: 0.8235 - recall: 0.1522\n",
      "Epoch 43/50\n",
      "3/3 [==============================] - 14s 4s/step - loss: 1.2961 - categorical_accuracy: 0.4783 - precision: 0.9231 - recall: 0.1304\n",
      "Epoch 44/50\n",
      "3/3 [==============================] - 14s 5s/step - loss: 1.3231 - categorical_accuracy: 0.4783 - precision: 0.8333 - recall: 0.1630\n",
      "Epoch 45/50\n",
      "3/3 [==============================] - 14s 5s/step - loss: 1.3916 - categorical_accuracy: 0.3804 - precision: 0.7273 - recall: 0.0870\n",
      "Epoch 46/50\n",
      "3/3 [==============================] - 14s 5s/step - loss: 1.3769 - categorical_accuracy: 0.4565 - precision: 0.7059 - recall: 0.1304\n",
      "Epoch 47/50\n",
      "3/3 [==============================] - 14s 4s/step - loss: 1.3241 - categorical_accuracy: 0.5000 - precision: 0.6875 - recall: 0.1196\n",
      "Epoch 48/50\n",
      "3/3 [==============================] - 14s 4s/step - loss: 1.4200 - categorical_accuracy: 0.4130 - precision: 0.6471 - recall: 0.1196\n",
      "Epoch 49/50\n",
      "3/3 [==============================] - 14s 5s/step - loss: 1.3169 - categorical_accuracy: 0.5109 - precision: 0.7857 - recall: 0.1196\n",
      "Epoch 50/50\n",
      "3/3 [==============================] - 14s 5s/step - loss: 1.2765 - categorical_accuracy: 0.5217 - precision: 0.7333 - recall: 0.1196\n"
     ]
    },
    {
     "data": {
      "text/plain": [
       "<keras.callbacks.History at 0x21208c3f310>"
      ]
     },
     "execution_count": 16,
     "metadata": {},
     "output_type": "execute_result"
    }
   ],
   "source": [
    "model.fit(x_train, y_train, epochs = 50)"
   ]
  },
  {
   "cell_type": "code",
   "execution_count": 17,
   "metadata": {},
   "outputs": [],
   "source": [
    "y_pred = model.predict(x_test)"
   ]
  },
  {
   "cell_type": "code",
   "execution_count": 18,
   "metadata": {},
   "outputs": [
    {
     "name": "stdout",
     "output_type": "stream",
     "text": [
      "[3 3 1 3 1 4 4 4 4 1 1 1 4 3 1 3 1 3 1 2 1 2 3 1]\n",
      "[4, 4, 4, 3, 4, 4, 3, 4, 4, 4, 3, 1, 4, 4, 4, 4, 4, 3, 3, 2, 4, 3, 4, 3]\n"
     ]
    }
   ],
   "source": [
    "y_test_maxes = []\n",
    "y_pred_maxes = []\n",
    "\n",
    "for pred in y_pred:\n",
    "    y_pred_maxes.append(np.argmax(pred))\n",
    "\n",
    "y_test_maxes = y_test.iloc[:, 1:].idxmax(axis=1)\n",
    "\n",
    "y_test_maxes = y_test_maxes.replace({\"Category_0\": 0, \"Category_1\": 1,\n",
    "                     \"Category_2\": 2, \"Category_3\": 3,\n",
    "                     \"Category_4\": 4})\n",
    "\n",
    "y_test_maxes = y_test_maxes.values\n",
    "\n",
    "print(y_test_maxes, y_pred_maxes, sep = \"\\n\")"
   ]
  },
  {
   "cell_type": "code",
   "execution_count": 19,
   "metadata": {},
   "outputs": [
    {
     "data": {
      "text/plain": [
       "Text(33.0, 0.5, 'Ground Truth')"
      ]
     },
     "execution_count": 19,
     "metadata": {},
     "output_type": "execute_result"
    },
    {
     "data": {
      "image/png": "[encoded data removed]",
      "text/plain": [
       "<Figure size 432x288 with 2 Axes>"
      ]
     },
     "metadata": {
      "needs_background": "light"
     },
     "output_type": "display_data"
    }
   ],
   "source": [
    "from sklearn.metrics import confusion_matrix, classification_report\n",
    "\n",
    "cm = confusion_matrix(y_test_maxes, y_pred_maxes)\n",
    "\n",
    "import matplotlib.pyplot as plt\n",
    "import seaborn as sns\n",
    "\n",
    "sns.heatmap(cm, annot = True)\n",
    "plt.xlabel(\"Predicted\")\n",
    "plt.ylabel(\"Ground Truth\")"
   ]
  },
  {
   "cell_type": "code",
   "execution_count": 20,
   "metadata": {},
   "outputs": [
    {
     "name": "stdout",
     "output_type": "stream",
     "text": [
      "              precision    recall  f1-score   support\n",
      "\n",
      "           1       1.00      0.10      0.18        10\n",
      "           2       1.00      0.50      0.67         2\n",
      "           3       0.29      0.29      0.29         7\n",
      "           4       0.27      0.80      0.40         5\n",
      "\n",
      "    accuracy                           0.33        24\n",
      "   macro avg       0.64      0.42      0.38        24\n",
      "weighted avg       0.64      0.33      0.30        24\n",
      "\n"
     ]
    }
   ],
   "source": [
    "print(classification_report(y_test_maxes, y_pred_maxes))"
   ]
  }
 ],
 "metadata": {
  "kernelspec": {
   "display_name": "Python 3",
   "language": "python",
   "name": "python3"
  },
  "language_info": {
   "codemirror_mode": {
    "name": "ipython",
    "version": 3
   },
   "file_extension": ".py",
   "mimetype": "text/x-python",
   "name": "python",
   "nbconvert_exporter": "python",
   "pygments_lexer": "ipython3",
   "version": "3.8.5"
  }
 },
 "nbformat": 4,
 "nbformat_minor": 4
}
