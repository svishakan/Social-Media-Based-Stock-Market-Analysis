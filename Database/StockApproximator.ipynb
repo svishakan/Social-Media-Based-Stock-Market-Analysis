{
 "cells": [
  {
   "cell_type": "code",
   "execution_count": 1,
   "id": "938e5fb4",
   "metadata": {},
   "outputs": [],
   "source": [
    "import sqlite3\n",
    "import os\n",
    "import datetime as dt\n",
    "from datetime import date, datetime\n",
    "\n",
    "import pandas as pd\n",
    "import numpy as np\n",
    "\n",
    "import tqdm\n",
    "\n",
    "from tqdm.notebook import tqdm"
   ]
  },
  {
   "cell_type": "code",
   "execution_count": 3,
   "id": "213904a3",
   "metadata": {},
   "outputs": [],
   "source": [
    "# Connecting to the FYP database\n",
    "connection = sqlite3.connect(os.path.join(os.getcwd(), \"../Database/fypdb.sqlite\"))\n",
    "\n",
    "# Creating a cursor object to execute SQL queries on a database table\n",
    "cursor = connection.cursor()"
   ]
  },
  {
   "cell_type": "code",
   "execution_count": 4,
   "id": "f280af54",
   "metadata": {},
   "outputs": [
    {
     "data": {
      "text/html": [
       "<div>\n",
       "<style scoped>\n",
       "    .dataframe tbody tr th:only-of-type {\n",
       "        vertical-align: middle;\n",
       "    }\n",
       "\n",
       "    .dataframe tbody tr th {\n",
       "        vertical-align: top;\n",
       "    }\n",
       "\n",
       "    .dataframe thead th {\n",
       "        text-align: right;\n",
       "    }\n",
       "</style>\n",
       "<table border=\"1\" class=\"dataframe\">\n",
       "  <thead>\n",
       "    <tr style=\"text-align: right;\">\n",
       "      <th></th>\n",
       "      <th>category</th>\n",
       "      <th>ticker</th>\n",
       "      <th>stockDate</th>\n",
       "      <th>open</th>\n",
       "      <th>close</th>\n",
       "      <th>pre_market</th>\n",
       "      <th>afterHours</th>\n",
       "      <th>high</th>\n",
       "      <th>low</th>\n",
       "    </tr>\n",
       "  </thead>\n",
       "  <tbody>\n",
       "    <tr>\n",
       "      <th>0</th>\n",
       "      <td>Tech</td>\n",
       "      <td>MSFT</td>\n",
       "      <td>2020-05-18</td>\n",
       "      <td>185.75</td>\n",
       "      <td>184.91</td>\n",
       "      <td>185.03</td>\n",
       "      <td>185.20</td>\n",
       "      <td>186.20</td>\n",
       "      <td>183.96</td>\n",
       "    </tr>\n",
       "    <tr>\n",
       "      <th>1</th>\n",
       "      <td>Tech</td>\n",
       "      <td>MSFT</td>\n",
       "      <td>2020-05-19</td>\n",
       "      <td>185.03</td>\n",
       "      <td>183.63</td>\n",
       "      <td>185.45</td>\n",
       "      <td>184.00</td>\n",
       "      <td>186.60</td>\n",
       "      <td>183.49</td>\n",
       "    </tr>\n",
       "    <tr>\n",
       "      <th>2</th>\n",
       "      <td>Tech</td>\n",
       "      <td>MSFT</td>\n",
       "      <td>2020-05-20</td>\n",
       "      <td>184.81</td>\n",
       "      <td>185.66</td>\n",
       "      <td>184.15</td>\n",
       "      <td>185.44</td>\n",
       "      <td>185.85</td>\n",
       "      <td>183.94</td>\n",
       "    </tr>\n",
       "    <tr>\n",
       "      <th>3</th>\n",
       "      <td>Tech</td>\n",
       "      <td>MSFT</td>\n",
       "      <td>2020-05-21</td>\n",
       "      <td>185.40</td>\n",
       "      <td>183.43</td>\n",
       "      <td>185.09</td>\n",
       "      <td>183.90</td>\n",
       "      <td>186.67</td>\n",
       "      <td>183.29</td>\n",
       "    </tr>\n",
       "    <tr>\n",
       "      <th>4</th>\n",
       "      <td>Tech</td>\n",
       "      <td>MSFT</td>\n",
       "      <td>2020-05-22</td>\n",
       "      <td>183.19</td>\n",
       "      <td>183.51</td>\n",
       "      <td>181.90</td>\n",
       "      <td>183.65</td>\n",
       "      <td>184.46</td>\n",
       "      <td>182.54</td>\n",
       "    </tr>\n",
       "  </tbody>\n",
       "</table>\n",
       "</div>"
      ],
      "text/plain": [
       "  category ticker   stockDate    open   close  pre_market  afterHours    high  \\\n",
       "0     Tech   MSFT  2020-05-18  185.75  184.91      185.03      185.20  186.20   \n",
       "1     Tech   MSFT  2020-05-19  185.03  183.63      185.45      184.00  186.60   \n",
       "2     Tech   MSFT  2020-05-20  184.81  185.66      184.15      185.44  185.85   \n",
       "3     Tech   MSFT  2020-05-21  185.40  183.43      185.09      183.90  186.67   \n",
       "4     Tech   MSFT  2020-05-22  183.19  183.51      181.90      183.65  184.46   \n",
       "\n",
       "      low  \n",
       "0  183.96  \n",
       "1  183.49  \n",
       "2  183.94  \n",
       "3  183.29  \n",
       "4  182.54  "
      ]
     },
     "execution_count": 4,
     "metadata": {},
     "output_type": "execute_result"
    }
   ],
   "source": [
    "df = pd.read_sql_query(\"SELECT * from stocks WHERE ticker LIKE 'MSFT'\", connection)\n",
    "\n",
    "df.head()"
   ]
  },
  {
   "cell_type": "code",
   "execution_count": 5,
   "id": "5dd9a33d",
   "metadata": {},
   "outputs": [],
   "source": [
    "g_df = df.groupby('ticker')"
   ]
  },
  {
   "cell_type": "code",
   "execution_count": 6,
   "id": "9ff1dd9a",
   "metadata": {},
   "outputs": [],
   "source": [
    "def approximate_values(open_date_map, close_date_map, high_date_map, low_date_map, existing_dates):\n",
    "    starting_date = existing_dates[0]\n",
    "\n",
    "    for i in range(1, len(existing_dates)):\n",
    "        cur_date = existing_dates[i]\n",
    "\n",
    "        while starting_date + dt.timedelta(days = 1) < cur_date:\n",
    "            str_start_date, str_cur_date = starting_date.strftime('%Y-%m-%d'), cur_date.strftime('%Y-%m-%d')\n",
    "            \n",
    "            next_date = starting_date + dt.timedelta(days = 1)\n",
    "            \n",
    "            str_next_date = next_date.strftime('%Y-%m-%d')\n",
    "\n",
    "            start_open, start_close = open_date_map[str_start_date], close_date_map[str_start_date]\n",
    "            end_open, end_close = open_date_map[str_cur_date], close_date_map[str_cur_date]\n",
    "\n",
    "            start_high, start_low = high_date_map[str_start_date], low_date_map[str_start_date]\n",
    "            end_high, end_low = high_date_map[str_cur_date], low_date_map[str_cur_date]\n",
    "\n",
    "            next_open = (start_open + end_open) / 2\n",
    "            next_close = (start_close + end_close) / 2\n",
    "            \n",
    "            next_high = (start_high + end_high) / 2\n",
    "            next_low = (start_low + end_low) / 2\n",
    "            \n",
    "            open_date_map[str_next_date] = next_open\n",
    "            close_date_map[str_next_date] = next_close\n",
    "            high_date_map[str_next_date] = next_high\n",
    "            low_date_map[str_next_date] = next_low\n",
    "\n",
    "            starting_date = next_date\n",
    "\n",
    "        starting_date = cur_date\n",
    "        \n",
    "        \n",
    "    open_date_map = dict(sorted(open_date_map.items()))\n",
    "    close_date_map = dict(sorted(close_date_map.items()))\n",
    "    high_date_map = dict(sorted(high_date_map.items()))\n",
    "    low_date_map = dict(sorted(low_date_map.items()))\n",
    "        \n",
    "    return open_date_map, close_date_map, high_date_map, low_date_map"
   ]
  },
  {
   "cell_type": "code",
   "execution_count": 7,
   "id": "e94c3b60",
   "metadata": {},
   "outputs": [],
   "source": [
    "# Connecting to the FYP database\n",
    "connection2 = sqlite3.connect(os.path.join(os.getcwd(), \"../Database/fypdb.sqlite\"))\n",
    "\n",
    "# Creating a cursor object to execute SQL queries on a database table\n",
    "cursor2 = connection2.cursor()"
   ]
  },
  {
   "cell_type": "code",
   "execution_count": 8,
   "id": "833fee1b",
   "metadata": {},
   "outputs": [],
   "source": [
    "def create_table(cursor):\n",
    "    \n",
    "    drop_table = f'''\n",
    "            DROP TABLE IF EXISTS stock_data;\n",
    "            '''\n",
    "\n",
    "    #cursor.execute(drop_table)\n",
    "    \n",
    "    create_table = '''CREATE TABLE IF NOT EXISTS stock_data(\n",
    "                        category TEXT,\n",
    "                        ticker TEXT,\n",
    "                        stockDate DATE,\n",
    "                        open REAL,\n",
    "                        close REAL,\n",
    "                        high REAL,\n",
    "                        low REAL\n",
    "                        );\n",
    "                    '''\n",
    "    \n",
    "    cursor.execute(create_table)\n",
    "\n",
    "    \n",
    "create_table(cursor2)"
   ]
  },
  {
   "cell_type": "code",
   "execution_count": 9,
   "id": "f40264f3",
   "metadata": {},
   "outputs": [],
   "source": [
    "def write_to_db(cursor, connection, category, ticker, open_date_map, close_date_map, high_date_map, low_date_map):\n",
    "    \n",
    "    contents = []\n",
    "    \n",
    "    for date in open_date_map.keys():\n",
    "        contents.append((category, ticker, date, open_date_map[date], close_date_map[date], high_date_map[date], low_date_map[date]))\n",
    "    \n",
    "    insert_records = \"INSERT INTO stock_data (category, ticker, stockDate, open, close, high, low) VALUES(?, ?, ?, ?, ?, ?, ?)\"\n",
    "    cursor.executemany(insert_records, contents)\n",
    "    \n",
    "    connection.commit()"
   ]
  },
  {
   "cell_type": "code",
   "execution_count": 10,
   "id": "7da9d421",
   "metadata": {},
   "outputs": [
    {
     "data": {
      "application/vnd.jupyter.widget-view+json": {
       "model_id": "be9c3a8f5c8845b5a9cd8bd4ff7e5f9f",
       "version_major": 2,
       "version_minor": 0
      },
      "text/plain": [
       "0it [00:00, ?it/s]"
      ]
     },
     "metadata": {},
     "output_type": "display_data"
    },
    {
     "name": "stdout",
     "output_type": "stream",
     "text": [
      "['MSFT']\n"
     ]
    }
   ],
   "source": [
    "progress_bar = tqdm(enumerate(df.ticker.unique()))\n",
    "\n",
    "print(df.ticker.unique())\n",
    "\n",
    "for i, ticker in progress_bar:\n",
    "    temp_df = g_df.get_group(ticker)\n",
    "    \n",
    "    category = temp_df['category'].unique()[0]\n",
    "    \n",
    "    data_dict_list = temp_df.to_dict('records')\n",
    "    existing_dates = temp_df['stockDate'].to_list()\n",
    "    \n",
    "    existing_dates = [datetime.strptime(date, '%Y-%m-%d') for date in existing_dates]\n",
    "    \n",
    "    sorted(existing_dates)\n",
    "    open_date_map = dict(zip(temp_df.stockDate, temp_df.open))\n",
    "    close_date_map = dict(zip(temp_df.stockDate, temp_df.close))\n",
    "    high_date_map = dict(zip(temp_df.stockDate, temp_df.high))\n",
    "    low_date_map = dict(zip(temp_df.stockDate, temp_df.low))\n",
    "\n",
    "    open_date_map, close_date_map, high_date_map, low_date_map = approximate_values(open_date_map, close_date_map, high_date_map, low_date_map, existing_dates)\n",
    "    \n",
    "    write_to_db(cursor2, connection2, category, ticker, open_date_map, close_date_map, high_date_map, low_date_map)\n",
    "    \n",
    "    progress_bar.set_description(f'Working on {ticker}...')"
   ]
  },
  {
   "cell_type": "code",
   "execution_count": null,
   "id": "ddc8bb30",
   "metadata": {},
   "outputs": [],
   "source": []
  }
 ],
 "metadata": {
  "kernelspec": {
   "display_name": "Python 3 (ipykernel)",
   "language": "python",
   "name": "python3"
  },
  "language_info": {
   "codemirror_mode": {
    "name": "ipython",
    "version": 3
   },
   "file_extension": ".py",
   "mimetype": "text/x-python",
   "name": "python",
   "nbconvert_exporter": "python",
   "pygments_lexer": "ipython3",
   "version": "3.8.10"
  }
 },
 "nbformat": 4,
 "nbformat_minor": 5
}
