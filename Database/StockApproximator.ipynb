{
 "cells": [
  {
   "cell_type": "code",
   "execution_count": 1,
   "id": "d3a7ce78",
   "metadata": {},
   "outputs": [],
   "source": [
    "import sqlite3\n",
    "import os\n",
    "import datetime as dt\n",
    "from datetime import date, datetime\n",
    "\n",
    "import pandas as pd\n",
    "import numpy as np\n",
    "\n",
    "import tqdm\n",
    "\n",
    "from tqdm.notebook import tqdm"
   ]
  },
  {
   "cell_type": "code",
   "execution_count": 2,
   "id": "34917f77",
   "metadata": {},
   "outputs": [],
   "source": [
    "# Connecting to the FYP database\n",
    "connection = sqlite3.connect(os.path.join(os.getcwd(), \"../Database/fypdb-PnF.sqlite\"))\n",
    "\n",
    "# Creating a cursor object to execute SQL queries on a database table\n",
    "cursor = connection.cursor()"
   ]
  },
  {
   "cell_type": "code",
   "execution_count": 3,
   "id": "efa9f3a8",
   "metadata": {},
   "outputs": [
    {
     "data": {
      "text/html": [
       "<div>\n",
       "<style scoped>\n",
       "    .dataframe tbody tr th:only-of-type {\n",
       "        vertical-align: middle;\n",
       "    }\n",
       "\n",
       "    .dataframe tbody tr th {\n",
       "        vertical-align: top;\n",
       "    }\n",
       "\n",
       "    .dataframe thead th {\n",
       "        text-align: right;\n",
       "    }\n",
       "</style>\n",
       "<table border=\"1\" class=\"dataframe\">\n",
       "  <thead>\n",
       "    <tr style=\"text-align: right;\">\n",
       "      <th></th>\n",
       "      <th>category</th>\n",
       "      <th>ticker</th>\n",
       "      <th>stockDate</th>\n",
       "      <th>open</th>\n",
       "      <th>close</th>\n",
       "      <th>pre_market</th>\n",
       "      <th>afterHours</th>\n",
       "      <th>high</th>\n",
       "      <th>low</th>\n",
       "    </tr>\n",
       "  </thead>\n",
       "  <tbody>\n",
       "    <tr>\n",
       "      <th>0</th>\n",
       "      <td>Pharma</td>\n",
       "      <td>PFE</td>\n",
       "      <td>2020-05-13</td>\n",
       "      <td>37.3100</td>\n",
       "      <td>37.05</td>\n",
       "      <td>37.095</td>\n",
       "      <td>37.15</td>\n",
       "      <td>37.4250</td>\n",
       "      <td>36.585</td>\n",
       "    </tr>\n",
       "    <tr>\n",
       "      <th>1</th>\n",
       "      <td>Pharma</td>\n",
       "      <td>AZN</td>\n",
       "      <td>2020-05-13</td>\n",
       "      <td>54.8200</td>\n",
       "      <td>55.31</td>\n",
       "      <td>54.920</td>\n",
       "      <td>55.45</td>\n",
       "      <td>55.5901</td>\n",
       "      <td>54.590</td>\n",
       "    </tr>\n",
       "    <tr>\n",
       "      <th>2</th>\n",
       "      <td>Pharma</td>\n",
       "      <td>MRNA</td>\n",
       "      <td>2020-05-13</td>\n",
       "      <td>63.8003</td>\n",
       "      <td>65.18</td>\n",
       "      <td>63.350</td>\n",
       "      <td>65.18</td>\n",
       "      <td>66.9700</td>\n",
       "      <td>60.290</td>\n",
       "    </tr>\n",
       "    <tr>\n",
       "      <th>3</th>\n",
       "      <td>Pharma</td>\n",
       "      <td>PFE</td>\n",
       "      <td>2020-05-14</td>\n",
       "      <td>36.8000</td>\n",
       "      <td>37.92</td>\n",
       "      <td>37.490</td>\n",
       "      <td>38.07</td>\n",
       "      <td>37.9600</td>\n",
       "      <td>36.780</td>\n",
       "    </tr>\n",
       "    <tr>\n",
       "      <th>4</th>\n",
       "      <td>Pharma</td>\n",
       "      <td>AZN</td>\n",
       "      <td>2020-05-14</td>\n",
       "      <td>53.9900</td>\n",
       "      <td>53.50</td>\n",
       "      <td>54.730</td>\n",
       "      <td>53.58</td>\n",
       "      <td>54.4600</td>\n",
       "      <td>53.200</td>\n",
       "    </tr>\n",
       "  </tbody>\n",
       "</table>\n",
       "</div>"
      ],
      "text/plain": [
       "  category ticker   stockDate     open  close  pre_market  afterHours  \\\n",
       "0   Pharma    PFE  2020-05-13  37.3100  37.05      37.095       37.15   \n",
       "1   Pharma    AZN  2020-05-13  54.8200  55.31      54.920       55.45   \n",
       "2   Pharma   MRNA  2020-05-13  63.8003  65.18      63.350       65.18   \n",
       "3   Pharma    PFE  2020-05-14  36.8000  37.92      37.490       38.07   \n",
       "4   Pharma    AZN  2020-05-14  53.9900  53.50      54.730       53.58   \n",
       "\n",
       "      high     low  \n",
       "0  37.4250  36.585  \n",
       "1  55.5901  54.590  \n",
       "2  66.9700  60.290  \n",
       "3  37.9600  36.780  \n",
       "4  54.4600  53.200  "
      ]
     },
     "execution_count": 3,
     "metadata": {},
     "output_type": "execute_result"
    }
   ],
   "source": [
    "df = pd.read_sql_query(\"SELECT * from stocks\", connection)\n",
    "\n",
    "df.head()"
   ]
  },
  {
   "cell_type": "code",
   "execution_count": 4,
   "id": "3b9f9b8b",
   "metadata": {},
   "outputs": [],
   "source": [
    "g_df = df.groupby('ticker')"
   ]
  },
  {
   "cell_type": "code",
   "execution_count": 5,
   "id": "56489730",
   "metadata": {},
   "outputs": [],
   "source": [
    "def approximate_values(open_date_map, close_date_map, high_date_map, low_date_map, existing_dates):\n",
    "    starting_date = existing_dates[0]\n",
    "\n",
    "    for i in range(1, len(existing_dates)):\n",
    "        cur_date = existing_dates[i]\n",
    "\n",
    "        while starting_date + dt.timedelta(days = 1) < cur_date:\n",
    "            str_start_date, str_cur_date = starting_date.strftime('%Y-%m-%d'), cur_date.strftime('%Y-%m-%d')\n",
    "            \n",
    "            next_date = starting_date + dt.timedelta(days = 1)\n",
    "            \n",
    "            str_next_date = next_date.strftime('%Y-%m-%d')\n",
    "\n",
    "            start_open, start_close = open_date_map[str_start_date], close_date_map[str_start_date]\n",
    "            end_open, end_close = open_date_map[str_cur_date], close_date_map[str_cur_date]\n",
    "\n",
    "            start_high, start_low = high_date_map[str_start_date], low_date_map[str_start_date]\n",
    "            end_high, end_low = high_date_map[str_cur_date], low_date_map[str_cur_date]\n",
    "\n",
    "            next_open = (start_open + end_open) / 2\n",
    "            next_close = (start_close + end_close) / 2\n",
    "            \n",
    "            next_high = (start_high + end_high) / 2\n",
    "            next_low = (start_low + end_low) / 2\n",
    "            \n",
    "            open_date_map[str_next_date] = next_open\n",
    "            close_date_map[str_next_date] = next_close\n",
    "            high_date_map[str_next_date] = next_high\n",
    "            low_date_map[str_next_date] = next_low\n",
    "\n",
    "            starting_date = next_date\n",
    "\n",
    "        starting_date = cur_date\n",
    "        \n",
    "        \n",
    "    open_date_map = dict(sorted(open_date_map.items()))\n",
    "    close_date_map = dict(sorted(close_date_map.items()))\n",
    "    high_date_map = dict(sorted(high_date_map.items()))\n",
    "    low_date_map = dict(sorted(low_date_map.items()))\n",
    "        \n",
    "    return open_date_map, close_date_map, high_date_map, low_date_map"
   ]
  },
  {
   "cell_type": "code",
   "execution_count": 6,
   "id": "ee9687fb",
   "metadata": {},
   "outputs": [],
   "source": [
    "# Connecting to the FYP database\n",
    "connection2 = sqlite3.connect(os.path.join(os.getcwd(), \"../Database/fypdb-stock.sqlite\"))\n",
    "\n",
    "# Creating a cursor object to execute SQL queries on a database table\n",
    "cursor2 = connection2.cursor()"
   ]
  },
  {
   "cell_type": "code",
   "execution_count": 7,
   "id": "7f859c34",
   "metadata": {},
   "outputs": [],
   "source": [
    "def create_table(cursor):\n",
    "    \n",
    "    drop_table = f'''\n",
    "            DROP TABLE IF EXISTS stock_data;\n",
    "            '''\n",
    "\n",
    "    #cursor.execute(drop_table)\n",
    "    \n",
    "    create_table = '''CREATE TABLE IF NOT EXISTS stock_data(\n",
    "                        category TEXT,\n",
    "                        ticker TEXT,\n",
    "                        stockDate DATE,\n",
    "                        open REAL,\n",
    "                        close REAL,\n",
    "                        high REAL,\n",
    "                        low REAL\n",
    "                        );\n",
    "                    '''\n",
    "    \n",
    "    cursor.execute(create_table)\n",
    "\n",
    "    \n",
    "create_table(cursor2)"
   ]
  },
  {
   "cell_type": "code",
   "execution_count": 8,
   "id": "0d2c8fac",
   "metadata": {},
   "outputs": [],
   "source": [
    "def write_to_db(cursor, connection, category, ticker, open_date_map, close_date_map, high_date_map, low_date_map):\n",
    "    \n",
    "    contents = []\n",
    "    \n",
    "    for date in open_date_map.keys():\n",
    "        contents.append((category, ticker, date, open_date_map[date], close_date_map[date], high_date_map[date], low_date_map[date]))\n",
    "    \n",
    "    insert_records = \"INSERT INTO stock_data (category, ticker, stockDate, open, close, high, low) VALUES(?, ?, ?, ?, ?, ?, ?)\"\n",
    "    cursor.executemany(insert_records, contents)\n",
    "    \n",
    "    connection.commit()"
   ]
  },
  {
   "cell_type": "code",
   "execution_count": 9,
   "id": "992d5f2d",
   "metadata": {},
   "outputs": [
    {
     "data": {
      "application/vnd.jupyter.widget-view+json": {
       "model_id": "f2d61c17e7434985ae46cfd148617c08",
       "version_major": 2,
       "version_minor": 0
      },
      "text/plain": [
       "0it [00:00, ?it/s]"
      ]
     },
     "metadata": {},
     "output_type": "display_data"
    },
    {
     "name": "stdout",
     "output_type": "stream",
     "text": [
      "['PFE' 'AZN' 'MRNA' 'MCD' 'MDLZ' 'PEP']\n"
     ]
    }
   ],
   "source": [
    "progress_bar = tqdm(enumerate(df.ticker.unique()))\n",
    "\n",
    "print(df.ticker.unique())\n",
    "\n",
    "for i, ticker in progress_bar:\n",
    "    temp_df = g_df.get_group(ticker)\n",
    "    \n",
    "    category = temp_df['category'].unique()[0]\n",
    "    \n",
    "    data_dict_list = temp_df.to_dict('records')\n",
    "    existing_dates = temp_df['stockDate'].to_list()\n",
    "    \n",
    "    existing_dates = [datetime.strptime(date, '%Y-%m-%d') for date in existing_dates]\n",
    "    \n",
    "    sorted(existing_dates)\n",
    "    open_date_map = dict(zip(temp_df.stockDate, temp_df.open))\n",
    "    close_date_map = dict(zip(temp_df.stockDate, temp_df.close))\n",
    "    high_date_map = dict(zip(temp_df.stockDate, temp_df.high))\n",
    "    low_date_map = dict(zip(temp_df.stockDate, temp_df.low))\n",
    "\n",
    "    open_date_map, close_date_map, high_date_map, low_date_map = approximate_values(open_date_map, close_date_map, high_date_map, low_date_map, existing_dates)\n",
    "    \n",
    "    write_to_db(cursor2, connection2, category, ticker, open_date_map, close_date_map, high_date_map, low_date_map)\n",
    "    \n",
    "    progress_bar.set_description(f'Working on {ticker}...')"
   ]
  },
  {
   "cell_type": "code",
   "execution_count": null,
   "id": "365d0eec",
   "metadata": {},
   "outputs": [],
   "source": []
  }
 ],
 "metadata": {
  "kernelspec": {
   "display_name": "Python 3 (ipykernel)",
   "language": "python",
   "name": "python3"
  },
  "language_info": {
   "codemirror_mode": {
    "name": "ipython",
    "version": 3
   },
   "file_extension": ".py",
   "mimetype": "text/x-python",
   "name": "python",
   "nbconvert_exporter": "python",
   "pygments_lexer": "ipython3",
   "version": "3.8.10"
  }
 },
 "nbformat": 4,
 "nbformat_minor": 5
}
