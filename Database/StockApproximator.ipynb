{
 "cells": [
  {
   "cell_type": "code",
   "execution_count": 1,
   "metadata": {},
   "outputs": [],
   "source": [
    "import sqlite3\n",
    "import os\n",
    "import datetime as dt\n",
    "from datetime import date, datetime\n",
    "\n",
    "import pandas as pd\n",
    "import numpy as np\n",
    "\n",
    "import tqdm\n",
    "\n",
    "from tqdm.notebook import tqdm"
   ]
  },
  {
   "cell_type": "code",
   "execution_count": 2,
   "metadata": {},
   "outputs": [],
   "source": [
    "# Connecting to the FYP database\n",
    "connection = sqlite3.connect(os.path.join(os.getcwd(), \"../Database/fypdb.sqlite\"))\n",
    "\n",
    "# Creating a cursor object to execute SQL queries on a database table\n",
    "cursor = connection.cursor()"
   ]
  },
  {
   "cell_type": "code",
   "execution_count": 3,
   "metadata": {},
   "outputs": [
    {
     "data": {
      "text/html": [
       "<div>\n",
       "<style scoped>\n",
       "    .dataframe tbody tr th:only-of-type {\n",
       "        vertical-align: middle;\n",
       "    }\n",
       "\n",
       "    .dataframe tbody tr th {\n",
       "        vertical-align: top;\n",
       "    }\n",
       "\n",
       "    .dataframe thead th {\n",
       "        text-align: right;\n",
       "    }\n",
       "</style>\n",
       "<table border=\"1\" class=\"dataframe\">\n",
       "  <thead>\n",
       "    <tr style=\"text-align: right;\">\n",
       "      <th></th>\n",
       "      <th>category</th>\n",
       "      <th>ticker</th>\n",
       "      <th>stockDate</th>\n",
       "      <th>open</th>\n",
       "      <th>close</th>\n",
       "      <th>pre_market</th>\n",
       "      <th>afterHours</th>\n",
       "      <th>high</th>\n",
       "      <th>low</th>\n",
       "    </tr>\n",
       "  </thead>\n",
       "  <tbody>\n",
       "    <tr>\n",
       "      <th>0</th>\n",
       "      <td>Tech</td>\n",
       "      <td>GOOGL</td>\n",
       "      <td>2020-03-26</td>\n",
       "      <td>1114.7200</td>\n",
       "      <td>1162.920</td>\n",
       "      <td>1090.32</td>\n",
       "      <td>1163.0000</td>\n",
       "      <td>1171.4800</td>\n",
       "      <td>1092.0300</td>\n",
       "    </tr>\n",
       "    <tr>\n",
       "      <th>1</th>\n",
       "      <td>Tech</td>\n",
       "      <td>AAPL</td>\n",
       "      <td>2020-03-26</td>\n",
       "      <td>61.6300</td>\n",
       "      <td>64.610</td>\n",
       "      <td>60.80</td>\n",
       "      <td>64.7325</td>\n",
       "      <td>64.6700</td>\n",
       "      <td>61.5900</td>\n",
       "    </tr>\n",
       "    <tr>\n",
       "      <th>2</th>\n",
       "      <td>Gaming</td>\n",
       "      <td>EA</td>\n",
       "      <td>2020-03-26</td>\n",
       "      <td>90.4700</td>\n",
       "      <td>99.200</td>\n",
       "      <td>88.38</td>\n",
       "      <td>99.2300</td>\n",
       "      <td>99.5700</td>\n",
       "      <td>90.0800</td>\n",
       "    </tr>\n",
       "    <tr>\n",
       "      <th>3</th>\n",
       "      <td>Tech</td>\n",
       "      <td>GOOGL</td>\n",
       "      <td>2020-03-27</td>\n",
       "      <td>1127.4700</td>\n",
       "      <td>1110.260</td>\n",
       "      <td>1123.91</td>\n",
       "      <td>1109.7900</td>\n",
       "      <td>1151.0500</td>\n",
       "      <td>1104.0027</td>\n",
       "    </tr>\n",
       "    <tr>\n",
       "      <th>4</th>\n",
       "      <td>Tech</td>\n",
       "      <td>AAPL</td>\n",
       "      <td>2020-03-27</td>\n",
       "      <td>63.1875</td>\n",
       "      <td>61.935</td>\n",
       "      <td>63.61</td>\n",
       "      <td>61.7500</td>\n",
       "      <td>63.9675</td>\n",
       "      <td>61.7625</td>\n",
       "    </tr>\n",
       "  </tbody>\n",
       "</table>\n",
       "</div>"
      ],
      "text/plain": [
       "  category ticker   stockDate       open     close  pre_market  afterHours  \\\n",
       "0     Tech  GOOGL  2020-03-26  1114.7200  1162.920     1090.32   1163.0000   \n",
       "1     Tech   AAPL  2020-03-26    61.6300    64.610       60.80     64.7325   \n",
       "2   Gaming     EA  2020-03-26    90.4700    99.200       88.38     99.2300   \n",
       "3     Tech  GOOGL  2020-03-27  1127.4700  1110.260     1123.91   1109.7900   \n",
       "4     Tech   AAPL  2020-03-27    63.1875    61.935       63.61     61.7500   \n",
       "\n",
       "        high        low  \n",
       "0  1171.4800  1092.0300  \n",
       "1    64.6700    61.5900  \n",
       "2    99.5700    90.0800  \n",
       "3  1151.0500  1104.0027  \n",
       "4    63.9675    61.7625  "
      ]
     },
     "execution_count": 3,
     "metadata": {},
     "output_type": "execute_result"
    }
   ],
   "source": [
    "df = pd.read_sql_query(\"SELECT * from stocks\", connection)\n",
    "\n",
    "df.head()"
   ]
  },
  {
   "cell_type": "code",
   "execution_count": 4,
   "metadata": {},
   "outputs": [],
   "source": [
    "g_df = df.groupby('ticker')"
   ]
  },
  {
   "cell_type": "code",
   "execution_count": 5,
   "metadata": {},
   "outputs": [],
   "source": [
    "def approximate_values(open_date_map, close_date_map, high_date_map, low_date_map, existing_dates):\n",
    "    starting_date = existing_dates[0]\n",
    "\n",
    "    for i in range(1, len(existing_dates)):\n",
    "        cur_date = existing_dates[i]\n",
    "\n",
    "        while starting_date + dt.timedelta(days = 1) < cur_date:\n",
    "            str_start_date, str_cur_date = starting_date.strftime('%Y-%m-%d'), cur_date.strftime('%Y-%m-%d')\n",
    "            \n",
    "            next_date = starting_date + dt.timedelta(days = 1)\n",
    "            \n",
    "            str_next_date = next_date.strftime('%Y-%m-%d')\n",
    "\n",
    "            start_open, start_close = open_date_map[str_start_date], close_date_map[str_start_date]\n",
    "            end_open, end_close = open_date_map[str_cur_date], close_date_map[str_cur_date]\n",
    "\n",
    "            start_high, start_low = high_date_map[str_start_date], low_date_map[str_start_date]\n",
    "            end_high, end_low = high_date_map[str_cur_date], low_date_map[str_cur_date]\n",
    "\n",
    "            next_open = (start_open + end_open) / 2\n",
    "            next_close = (start_close + end_close) / 2\n",
    "            \n",
    "            next_high = (start_high + end_high) / 2\n",
    "            next_low = (start_low + end_low) / 2\n",
    "            \n",
    "            open_date_map[str_next_date] = next_open\n",
    "            close_date_map[str_next_date] = next_close\n",
    "            high_date_map[str_next_date] = next_high\n",
    "            low_date_map[str_next_date] = next_low\n",
    "\n",
    "            starting_date = next_date\n",
    "\n",
    "        starting_date = cur_date\n",
    "        \n",
    "        \n",
    "    open_date_map = dict(sorted(open_date_map.items()))\n",
    "    close_date_map = dict(sorted(close_date_map.items()))\n",
    "    high_date_map = dict(sorted(high_date_map.items()))\n",
    "    low_date_map = dict(sorted(low_date_map.items()))\n",
    "        \n",
    "    return open_date_map, close_date_map, high_date_map, low_date_map"
   ]
  },
  {
   "cell_type": "code",
   "execution_count": 6,
   "metadata": {},
   "outputs": [],
   "source": [
    "def create_table():\n",
    "    \n",
    "    drop_table = f'''\n",
    "            DROP TABLE IF EXISTS stock_data;\n",
    "            '''\n",
    "\n",
    "    cursor.execute(drop_table)\n",
    "    \n",
    "    create_table = '''CREATE TABLE IF NOT EXISTS stock_data(\n",
    "                        category TEXT,\n",
    "                        ticker TEXT,\n",
    "                        stockDate DATE,\n",
    "                        open REAL,\n",
    "                        close REAL,\n",
    "                        high REAL,\n",
    "                        low REAL\n",
    "                        );\n",
    "                    '''\n",
    "    \n",
    "    cursor.execute(create_table)\n",
    "\n",
    "    \n",
    "create_table()"
   ]
  },
  {
   "cell_type": "code",
   "execution_count": 7,
   "metadata": {},
   "outputs": [],
   "source": [
    "def write_to_db(category, ticker, open_date_map, close_date_map, high_date_map, low_date_map):\n",
    "    \n",
    "    contents = []\n",
    "    \n",
    "    for date in open_date_map.keys():\n",
    "        contents.append((category, ticker, date, open_date_map[date], close_date_map[date], high_date_map[date], low_date_map[date]))\n",
    "    \n",
    "    insert_records = \"INSERT INTO stock_data (category, ticker, stockDate, open, close, high, low) VALUES(?, ?, ?, ?, ?, ?, ?)\"\n",
    "    cursor.executemany(insert_records, contents)\n",
    "    \n",
    "    connection.commit()"
   ]
  },
  {
   "cell_type": "code",
   "execution_count": 8,
   "metadata": {},
   "outputs": [
    {
     "data": {
      "application/vnd.jupyter.widget-view+json": {
       "model_id": "c699537d83a94e05a69600c19e78e733",
       "version_major": 2,
       "version_minor": 0
      },
      "text/plain": [
       "0it [00:00, ?it/s]"
      ]
     },
     "metadata": {},
     "output_type": "display_data"
    },
    {
     "name": "stdout",
     "output_type": "stream",
     "text": [
      "['GOOGL' 'AAPL' 'EA' 'INTC' 'FB' 'TSLA' 'CVX' 'XOM' 'COP' 'LCID' 'ETH-USD'\n",
      " 'BTC-USD']\n"
     ]
    }
   ],
   "source": [
    "progress_bar = tqdm(enumerate(df.ticker.unique()))\n",
    "\n",
    "print(df.ticker.unique())\n",
    "\n",
    "for i, ticker in progress_bar:\n",
    "    temp_df = g_df.get_group(ticker)\n",
    "    \n",
    "    category = temp_df['category'].unique()[0]\n",
    "    \n",
    "    data_dict_list = temp_df.to_dict('records')\n",
    "    existing_dates = temp_df['stockDate'].to_list()\n",
    "    \n",
    "    existing_dates = [datetime.strptime(date, '%Y-%m-%d') for date in existing_dates]\n",
    "    \n",
    "    sorted(existing_dates)\n",
    "    open_date_map = dict(zip(temp_df.stockDate, temp_df.open))\n",
    "    close_date_map = dict(zip(temp_df.stockDate, temp_df.close))\n",
    "    high_date_map = dict(zip(temp_df.stockDate, temp_df.high))\n",
    "    low_date_map = dict(zip(temp_df.stockDate, temp_df.low))\n",
    "\n",
    "    open_date_map, close_date_map, high_date_map, low_date_map = approximate_values(open_date_map, close_date_map, high_date_map, low_date_map, existing_dates)\n",
    "    \n",
    "    write_to_db(category, ticker, open_date_map, close_date_map, high_date_map, low_date_map)\n",
    "    \n",
    "    progress_bar.set_description(f'Working on {ticker}...')"
   ]
  },
  {
   "cell_type": "code",
   "execution_count": null,
   "metadata": {},
   "outputs": [],
   "source": []
  }
 ],
 "metadata": {
  "kernelspec": {
   "display_name": "Python 3",
   "language": "python",
   "name": "python3"
  },
  "language_info": {
   "codemirror_mode": {
    "name": "ipython",
    "version": 3
   },
   "file_extension": ".py",
   "mimetype": "text/x-python",
   "name": "python",
   "nbconvert_exporter": "python",
   "pygments_lexer": "ipython3",
   "version": "3.8.10"
  }
 },
 "nbformat": 4,
 "nbformat_minor": 5
}
