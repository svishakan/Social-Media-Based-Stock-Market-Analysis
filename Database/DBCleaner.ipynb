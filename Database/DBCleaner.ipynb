{
 "cells": [
  {
   "cell_type": "code",
   "execution_count": 1,
   "metadata": {},
   "outputs": [],
   "source": [
    "import pandas as pd\n",
    "import numpy as np\n",
    "import sqlite3\n",
    "import os"
   ]
  },
  {
   "cell_type": "markdown",
   "metadata": {},
   "source": [
    "### Tweets"
   ]
  },
  {
   "cell_type": "markdown",
   "metadata": {},
   "source": [
    "#### Raw DB"
   ]
  },
  {
   "cell_type": "code",
   "execution_count": 6,
   "metadata": {},
   "outputs": [],
   "source": [
    "con_ev = sqlite3.connect(os.path.join(os.getcwd(), \"../Database/fypdb-EVs2.sqlite\"))\n",
    "con_oil = sqlite3.connect(os.path.join(os.getcwd(), \"../Database/fypdb-Oil.sqlite\"))\n",
    "tech_df = pd.read_csv(os.path.join(os.getcwd(), \"../Datasets/NewTechTweetData.csv\"), delimiter='\\t')\n",
    "con_pharma = sqlite3.connect(os.path.join(os.getcwd(), \"../Database/fypdb-Pharma.sqlite\"))\n",
    "\n",
    "\n",
    "cur_ev = con_ev.cursor()\n",
    "cur_oil = con_ev.cursor()\n",
    "cur_pharma = con_ev.cursor()"
   ]
  },
  {
   "cell_type": "code",
   "execution_count": 7,
   "metadata": {},
   "outputs": [],
   "source": [
    "ev_df = pd.read_sql_query(\"SELECT * from new_reduced_tweet_counts\", con_ev)\n",
    "oil_df = pd.read_sql_query(\"SELECT * from oil_tweets_count\", con_oil)\n",
    "pharma_df = pd.read_sql_query(\"SELECT * from pharma_tweets_count\", con_pharma)"
   ]
  },
  {
   "cell_type": "code",
   "execution_count": 8,
   "metadata": {},
   "outputs": [
    {
     "data": {
      "text/html": [
       "<div>\n",
       "<style scoped>\n",
       "    .dataframe tbody tr th:only-of-type {\n",
       "        vertical-align: middle;\n",
       "    }\n",
       "\n",
       "    .dataframe tbody tr th {\n",
       "        vertical-align: top;\n",
       "    }\n",
       "\n",
       "    .dataframe thead th {\n",
       "        text-align: right;\n",
       "    }\n",
       "</style>\n",
       "<table border=\"1\" class=\"dataframe\">\n",
       "  <thead>\n",
       "    <tr style=\"text-align: right;\">\n",
       "      <th></th>\n",
       "      <th>CATEGORY</th>\n",
       "      <th>DATE</th>\n",
       "      <th>COUNT</th>\n",
       "      <th>TWEET</th>\n",
       "    </tr>\n",
       "  </thead>\n",
       "  <tbody>\n",
       "    <tr>\n",
       "      <th>0</th>\n",
       "      <td>Tech</td>\n",
       "      <td>2020-03-30</td>\n",
       "      <td>1</td>\n",
       "      <td>$GOOGL towards 1200 if we continue higher / ho...</td>\n",
       "    </tr>\n",
       "    <tr>\n",
       "      <th>1</th>\n",
       "      <td>Tech</td>\n",
       "      <td>2020-03-30</td>\n",
       "      <td>3</td>\n",
       "      <td>Why do you invest and what are your financial ...</td>\n",
       "    </tr>\n",
       "    <tr>\n",
       "      <th>2</th>\n",
       "      <td>Tech</td>\n",
       "      <td>2020-03-30</td>\n",
       "      <td>1</td>\n",
       "      <td>$GOOGL towards 1200 if we continue higher / ho...</td>\n",
       "    </tr>\n",
       "    <tr>\n",
       "      <th>3</th>\n",
       "      <td>Tech</td>\n",
       "      <td>2020-03-30</td>\n",
       "      <td>1</td>\n",
       "      <td>Apple Inc price at close, 2020-03-30, is 250.9...</td>\n",
       "    </tr>\n",
       "    <tr>\n",
       "      <th>4</th>\n",
       "      <td>Tech</td>\n",
       "      <td>2020-03-30</td>\n",
       "      <td>1</td>\n",
       "      <td>$AAPL 260-265 if markets hold up into the week...</td>\n",
       "    </tr>\n",
       "  </tbody>\n",
       "</table>\n",
       "</div>"
      ],
      "text/plain": [
       "  CATEGORY        DATE  COUNT  \\\n",
       "0     Tech  2020-03-30      1   \n",
       "1     Tech  2020-03-30      3   \n",
       "2     Tech  2020-03-30      1   \n",
       "3     Tech  2020-03-30      1   \n",
       "4     Tech  2020-03-30      1   \n",
       "\n",
       "                                               TWEET  \n",
       "0  $GOOGL towards 1200 if we continue higher / ho...  \n",
       "1  Why do you invest and what are your financial ...  \n",
       "2  $GOOGL towards 1200 if we continue higher / ho...  \n",
       "3  Apple Inc price at close, 2020-03-30, is 250.9...  \n",
       "4  $AAPL 260-265 if markets hold up into the week...  "
      ]
     },
     "execution_count": 8,
     "metadata": {},
     "output_type": "execute_result"
    }
   ],
   "source": [
    "tech_df.head()"
   ]
  },
  {
   "cell_type": "code",
   "execution_count": 9,
   "metadata": {},
   "outputs": [
    {
     "data": {
      "text/html": [
       "<div>\n",
       "<style scoped>\n",
       "    .dataframe tbody tr th:only-of-type {\n",
       "        vertical-align: middle;\n",
       "    }\n",
       "\n",
       "    .dataframe tbody tr th {\n",
       "        vertical-align: top;\n",
       "    }\n",
       "\n",
       "    .dataframe thead th {\n",
       "        text-align: right;\n",
       "    }\n",
       "</style>\n",
       "<table border=\"1\" class=\"dataframe\">\n",
       "  <thead>\n",
       "    <tr style=\"text-align: right;\">\n",
       "      <th></th>\n",
       "      <th>category</th>\n",
       "      <th>tweetDate</th>\n",
       "      <th>count</th>\n",
       "      <th>tweet</th>\n",
       "    </tr>\n",
       "  </thead>\n",
       "  <tbody>\n",
       "    <tr>\n",
       "      <th>0</th>\n",
       "      <td>EVs</td>\n",
       "      <td>2020-04-07</td>\n",
       "      <td>1</td>\n",
       "      <td>\"Interconnected tunnels with ramps &amp; ; elevato...</td>\n",
       "    </tr>\n",
       "    <tr>\n",
       "      <th>1</th>\n",
       "      <td>EVs</td>\n",
       "      <td>2020-04-07</td>\n",
       "      <td>1</td>\n",
       "      <td>#PrisonfortheMusks See you at zero, assholes. ...</td>\n",
       "    </tr>\n",
       "    <tr>\n",
       "      <th>2</th>\n",
       "      <td>EVs</td>\n",
       "      <td>2020-04-07</td>\n",
       "      <td>10</td>\n",
       "      <td>$AKER another possible beautiful short. Jumpin...</td>\n",
       "    </tr>\n",
       "    <tr>\n",
       "      <th>3</th>\n",
       "      <td>EVs</td>\n",
       "      <td>2020-04-07</td>\n",
       "      <td>1</td>\n",
       "      <td>$BA flushed the market rally once again. $TSLA...</td>\n",
       "    </tr>\n",
       "    <tr>\n",
       "      <th>4</th>\n",
       "      <td>EVs</td>\n",
       "      <td>2020-04-07</td>\n",
       "      <td>1</td>\n",
       "      <td>$C $BAC $VVV $CVN $XOM $PSX $NCLH $TSLA $TM $A...</td>\n",
       "    </tr>\n",
       "  </tbody>\n",
       "</table>\n",
       "</div>"
      ],
      "text/plain": [
       "  category   tweetDate  count  \\\n",
       "0      EVs  2020-04-07      1   \n",
       "1      EVs  2020-04-07      1   \n",
       "2      EVs  2020-04-07     10   \n",
       "3      EVs  2020-04-07      1   \n",
       "4      EVs  2020-04-07      1   \n",
       "\n",
       "                                               tweet  \n",
       "0  \"Interconnected tunnels with ramps & ; elevato...  \n",
       "1  #PrisonfortheMusks See you at zero, assholes. ...  \n",
       "2  $AKER another possible beautiful short. Jumpin...  \n",
       "3  $BA flushed the market rally once again. $TSLA...  \n",
       "4  $C $BAC $VVV $CVN $XOM $PSX $NCLH $TSLA $TM $A...  "
      ]
     },
     "execution_count": 9,
     "metadata": {},
     "output_type": "execute_result"
    }
   ],
   "source": [
    "ev_df.head()"
   ]
  },
  {
   "cell_type": "code",
   "execution_count": 10,
   "metadata": {},
   "outputs": [
    {
     "data": {
      "text/html": [
       "<div>\n",
       "<style scoped>\n",
       "    .dataframe tbody tr th:only-of-type {\n",
       "        vertical-align: middle;\n",
       "    }\n",
       "\n",
       "    .dataframe tbody tr th {\n",
       "        vertical-align: top;\n",
       "    }\n",
       "\n",
       "    .dataframe thead th {\n",
       "        text-align: right;\n",
       "    }\n",
       "</style>\n",
       "<table border=\"1\" class=\"dataframe\">\n",
       "  <thead>\n",
       "    <tr style=\"text-align: right;\">\n",
       "      <th></th>\n",
       "      <th>category</th>\n",
       "      <th>tweetDate</th>\n",
       "      <th>count</th>\n",
       "      <th>tweet</th>\n",
       "    </tr>\n",
       "  </thead>\n",
       "  <tbody>\n",
       "    <tr>\n",
       "      <th>0</th>\n",
       "      <td>Oil</td>\n",
       "      <td>2020-03-30</td>\n",
       "      <td>10</td>\n",
       "      <td>@Mikes_Charts @marketminute \"national security...</td>\n",
       "    </tr>\n",
       "    <tr>\n",
       "      <th>1</th>\n",
       "      <td>Oil</td>\n",
       "      <td>2020-03-30</td>\n",
       "      <td>10</td>\n",
       "      <td>@SamanthaLaDuc @marketminute $CVX $PSX $XOM be...</td>\n",
       "    </tr>\n",
       "    <tr>\n",
       "      <th>2</th>\n",
       "      <td>Oil</td>\n",
       "      <td>2020-03-30</td>\n",
       "      <td>10</td>\n",
       "      <td>As long as $SPX $SPY moves higher, #coronaviru...</td>\n",
       "    </tr>\n",
       "    <tr>\n",
       "      <th>3</th>\n",
       "      <td>Oil</td>\n",
       "      <td>2020-03-30</td>\n",
       "      <td>10</td>\n",
       "      <td>@dougboneparth It's almost as good as 2017's \"...</td>\n",
       "    </tr>\n",
       "    <tr>\n",
       "      <th>4</th>\n",
       "      <td>Oil</td>\n",
       "      <td>2020-03-30</td>\n",
       "      <td>10</td>\n",
       "      <td>@crispy_burger_T There is no support federally...</td>\n",
       "    </tr>\n",
       "  </tbody>\n",
       "</table>\n",
       "</div>"
      ],
      "text/plain": [
       "  category   tweetDate  count  \\\n",
       "0      Oil  2020-03-30     10   \n",
       "1      Oil  2020-03-30     10   \n",
       "2      Oil  2020-03-30     10   \n",
       "3      Oil  2020-03-30     10   \n",
       "4      Oil  2020-03-30     10   \n",
       "\n",
       "                                               tweet  \n",
       "0  @Mikes_Charts @marketminute \"national security...  \n",
       "1  @SamanthaLaDuc @marketminute $CVX $PSX $XOM be...  \n",
       "2  As long as $SPX $SPY moves higher, #coronaviru...  \n",
       "3  @dougboneparth It's almost as good as 2017's \"...  \n",
       "4  @crispy_burger_T There is no support federally...  "
      ]
     },
     "execution_count": 10,
     "metadata": {},
     "output_type": "execute_result"
    }
   ],
   "source": [
    "oil_df.head()"
   ]
  },
  {
   "cell_type": "code",
   "execution_count": 11,
   "metadata": {},
   "outputs": [
    {
     "data": {
      "text/html": [
       "<div>\n",
       "<style scoped>\n",
       "    .dataframe tbody tr th:only-of-type {\n",
       "        vertical-align: middle;\n",
       "    }\n",
       "\n",
       "    .dataframe tbody tr th {\n",
       "        vertical-align: top;\n",
       "    }\n",
       "\n",
       "    .dataframe thead th {\n",
       "        text-align: right;\n",
       "    }\n",
       "</style>\n",
       "<table border=\"1\" class=\"dataframe\">\n",
       "  <thead>\n",
       "    <tr style=\"text-align: right;\">\n",
       "      <th></th>\n",
       "      <th>category</th>\n",
       "      <th>tweetDate</th>\n",
       "      <th>count</th>\n",
       "      <th>tweet</th>\n",
       "    </tr>\n",
       "  </thead>\n",
       "  <tbody>\n",
       "    <tr>\n",
       "      <th>0</th>\n",
       "      <td>Pharma</td>\n",
       "      <td>2020-05-01</td>\n",
       "      <td>20</td>\n",
       "      <td>Inside Day 5/1: $ABMD $BA $BIG $CMCSA $EBAY $F...</td>\n",
       "    </tr>\n",
       "    <tr>\n",
       "      <th>1</th>\n",
       "      <td>Pharma</td>\n",
       "      <td>2020-05-01</td>\n",
       "      <td>10</td>\n",
       "      <td>@manal_mehta @Dereklowe @moderna_tx @AndyBiote...</td>\n",
       "    </tr>\n",
       "    <tr>\n",
       "      <th>2</th>\n",
       "      <td>Pharma</td>\n",
       "      <td>2020-05-01</td>\n",
       "      <td>10</td>\n",
       "      <td>$PFE bought January calls</td>\n",
       "    </tr>\n",
       "    <tr>\n",
       "      <th>3</th>\n",
       "      <td>Pharma</td>\n",
       "      <td>2020-05-01</td>\n",
       "      <td>10</td>\n",
       "      <td>$codx It has just been reported the Covid pand...</td>\n",
       "    </tr>\n",
       "    <tr>\n",
       "      <th>4</th>\n",
       "      <td>Pharma</td>\n",
       "      <td>2020-05-01</td>\n",
       "      <td>10</td>\n",
       "      <td>@ReformedBroker new investor, 4k BankRoll. $PF...</td>\n",
       "    </tr>\n",
       "  </tbody>\n",
       "</table>\n",
       "</div>"
      ],
      "text/plain": [
       "  category   tweetDate  count  \\\n",
       "0   Pharma  2020-05-01     20   \n",
       "1   Pharma  2020-05-01     10   \n",
       "2   Pharma  2020-05-01     10   \n",
       "3   Pharma  2020-05-01     10   \n",
       "4   Pharma  2020-05-01     10   \n",
       "\n",
       "                                               tweet  \n",
       "0  Inside Day 5/1: $ABMD $BA $BIG $CMCSA $EBAY $F...  \n",
       "1  @manal_mehta @Dereklowe @moderna_tx @AndyBiote...  \n",
       "2                          $PFE bought January calls  \n",
       "3  $codx It has just been reported the Covid pand...  \n",
       "4  @ReformedBroker new investor, 4k BankRoll. $PF...  "
      ]
     },
     "execution_count": 11,
     "metadata": {},
     "output_type": "execute_result"
    }
   ],
   "source": [
    "pharma_df.head()"
   ]
  },
  {
   "cell_type": "code",
   "execution_count": 12,
   "metadata": {},
   "outputs": [
    {
     "name": "stdout",
     "output_type": "stream",
     "text": [
      "Tech: 632181 EVs: 116355 Oil: 53253 Pharma: 313407\n"
     ]
    }
   ],
   "source": [
    "print(\"Tech:\", len(tech_df), \"EVs:\", len(ev_df), \"Oil:\", len(oil_df), \"Pharma:\", len(pharma_df))"
   ]
  },
  {
   "cell_type": "code",
   "execution_count": 13,
   "metadata": {},
   "outputs": [],
   "source": [
    "def write_to_db(con, df, table_name):\n",
    "    cursor = con.cursor()\n",
    "    \n",
    "    try:\n",
    "        insert_command = f'''CREATE TABLE IF NOT EXISTS {table_name}_tweets (\n",
    "                                category TEXT,\n",
    "                                tweetDate DATE,\n",
    "                                count INTEGER,\n",
    "                                tweet TEXT,\n",
    "                                CONSTRAINT tweet_pk PRIMARY KEY (category, tweet)\n",
    "                            );\n",
    "                        '''\n",
    "        \n",
    "        cursor.execute(insert_command)\n",
    "        con.commit()\n",
    "        \n",
    "        df.to_sql(f'{table_name}_tweets', con, if_exists='replace', index=False)\n",
    "        con.commit()\n",
    "        \n",
    "    except sqlite3.Error as error:\n",
    "        print({error})\n",
    "    \n",
    "    finally:\n",
    "        cursor.close()\n",
    "        con.close()"
   ]
  },
  {
   "cell_type": "code",
   "execution_count": 21,
   "metadata": {},
   "outputs": [],
   "source": [
    "con_raw = sqlite3.connect(os.path.join(os.getcwd(), \"../Database/fypdb-RawTweets.sqlite\"))"
   ]
  },
  {
   "cell_type": "code",
   "execution_count": 15,
   "metadata": {},
   "outputs": [],
   "source": [
    "write_to_db(con_raw, tech_df, \"tech\")"
   ]
  },
  {
   "cell_type": "code",
   "execution_count": 18,
   "metadata": {},
   "outputs": [],
   "source": [
    "write_to_db(con_raw, ev_df, \"ev\")"
   ]
  },
  {
   "cell_type": "code",
   "execution_count": 20,
   "metadata": {},
   "outputs": [],
   "source": [
    "write_to_db(con_raw, oil_df, \"oil\")"
   ]
  },
  {
   "cell_type": "code",
   "execution_count": 22,
   "metadata": {},
   "outputs": [],
   "source": [
    "write_to_db(con_raw, pharma_df, \"pharma\")"
   ]
  },
  {
   "cell_type": "markdown",
   "metadata": {},
   "source": [
    "#### Reduced DB"
   ]
  },
  {
   "cell_type": "code",
   "execution_count": 23,
   "metadata": {},
   "outputs": [],
   "source": [
    "con_pharma = sqlite3.connect(os.path.join(os.getcwd(), \"../Database/fypdb-Pharma.sqlite\"))\n",
    "con_oil = sqlite3.connect(os.path.join(os.getcwd(), \"../Database/fypdb-Oil.sqlite\"))\n",
    "con_ev = sqlite3.connect(os.path.join(os.getcwd(), \"../Database/fypdb-EVs2.sqlite\"))\n",
    "con_tech = sqlite3.connect(os.path.join(os.getcwd(), \"../Database/fypdb-Tech2.sqlite\"))\n",
    "\n",
    "\n",
    "cur_pharma = con_ev.cursor()\n",
    "cur_oil = con_ev.cursor()\n",
    "cur_ev = con_ev.cursor()\n",
    "cur_tech = con_ev.cursor()"
   ]
  },
  {
   "cell_type": "code",
   "execution_count": 24,
   "metadata": {},
   "outputs": [],
   "source": [
    "ev_df = pd.read_sql_query(\"SELECT * from reduced_tweet_counts\", con_ev)\n",
    "oil_df = pd.read_sql_query(\"SELECT * from reduced_tweet_counts\", con_oil)\n",
    "pharma_df = pd.read_sql_query(\"SELECT * from reduced_tweet_counts\", con_pharma)\n",
    "tech_df = pd.read_sql_query(\"SELECT * from reduced_tweet_counts\", con_tech)"
   ]
  },
  {
   "cell_type": "code",
   "execution_count": 25,
   "metadata": {},
   "outputs": [
    {
     "data": {
      "text/html": [
       "<div>\n",
       "<style scoped>\n",
       "    .dataframe tbody tr th:only-of-type {\n",
       "        vertical-align: middle;\n",
       "    }\n",
       "\n",
       "    .dataframe tbody tr th {\n",
       "        vertical-align: top;\n",
       "    }\n",
       "\n",
       "    .dataframe thead th {\n",
       "        text-align: right;\n",
       "    }\n",
       "</style>\n",
       "<table border=\"1\" class=\"dataframe\">\n",
       "  <thead>\n",
       "    <tr style=\"text-align: right;\">\n",
       "      <th></th>\n",
       "      <th>category</th>\n",
       "      <th>tweetDate</th>\n",
       "      <th>count</th>\n",
       "      <th>tweet</th>\n",
       "    </tr>\n",
       "  </thead>\n",
       "  <tbody>\n",
       "    <tr>\n",
       "      <th>0</th>\n",
       "      <td>Tech</td>\n",
       "      <td>2020-03-30</td>\n",
       "      <td>3</td>\n",
       "      <td>Why do you invest and what are your financial ...</td>\n",
       "    </tr>\n",
       "    <tr>\n",
       "      <th>1</th>\n",
       "      <td>Tech</td>\n",
       "      <td>2020-03-30</td>\n",
       "      <td>3</td>\n",
       "      <td>I wonder who is going to miss that $800MM in m...</td>\n",
       "    </tr>\n",
       "    <tr>\n",
       "      <th>2</th>\n",
       "      <td>Tech</td>\n",
       "      <td>2020-03-30</td>\n",
       "      <td>8</td>\n",
       "      <td>Google Traction: $GOOGL Google is currently 5 ...</td>\n",
       "    </tr>\n",
       "    <tr>\n",
       "      <th>3</th>\n",
       "      <td>Tech</td>\n",
       "      <td>2020-03-30</td>\n",
       "      <td>3</td>\n",
       "      <td>$AMZN 1963.95 (+63.85 +3.36%) $GOOGL 1146.31 (...</td>\n",
       "    </tr>\n",
       "    <tr>\n",
       "      <th>4</th>\n",
       "      <td>Tech</td>\n",
       "      <td>2020-03-30</td>\n",
       "      <td>3</td>\n",
       "      <td>@Capo94_ @Gambiste1 I'm watching $GOOGL and $A...</td>\n",
       "    </tr>\n",
       "  </tbody>\n",
       "</table>\n",
       "</div>"
      ],
      "text/plain": [
       "  category   tweetDate  count  \\\n",
       "0     Tech  2020-03-30      3   \n",
       "1     Tech  2020-03-30      3   \n",
       "2     Tech  2020-03-30      8   \n",
       "3     Tech  2020-03-30      3   \n",
       "4     Tech  2020-03-30      3   \n",
       "\n",
       "                                               tweet  \n",
       "0  Why do you invest and what are your financial ...  \n",
       "1  I wonder who is going to miss that $800MM in m...  \n",
       "2  Google Traction: $GOOGL Google is currently 5 ...  \n",
       "3  $AMZN 1963.95 (+63.85 +3.36%) $GOOGL 1146.31 (...  \n",
       "4  @Capo94_ @Gambiste1 I'm watching $GOOGL and $A...  "
      ]
     },
     "execution_count": 25,
     "metadata": {},
     "output_type": "execute_result"
    }
   ],
   "source": [
    "tech_df.head()"
   ]
  },
  {
   "cell_type": "code",
   "execution_count": 26,
   "metadata": {},
   "outputs": [
    {
     "data": {
      "text/html": [
       "<div>\n",
       "<style scoped>\n",
       "    .dataframe tbody tr th:only-of-type {\n",
       "        vertical-align: middle;\n",
       "    }\n",
       "\n",
       "    .dataframe tbody tr th {\n",
       "        vertical-align: top;\n",
       "    }\n",
       "\n",
       "    .dataframe thead th {\n",
       "        text-align: right;\n",
       "    }\n",
       "</style>\n",
       "<table border=\"1\" class=\"dataframe\">\n",
       "  <thead>\n",
       "    <tr style=\"text-align: right;\">\n",
       "      <th></th>\n",
       "      <th>category</th>\n",
       "      <th>tweetDate</th>\n",
       "      <th>count</th>\n",
       "      <th>tweet</th>\n",
       "    </tr>\n",
       "  </thead>\n",
       "  <tbody>\n",
       "    <tr>\n",
       "      <th>0</th>\n",
       "      <td>EVs</td>\n",
       "      <td>2020-03-30</td>\n",
       "      <td>20</td>\n",
       "      <td>Alameda County is not responding to public rec...</td>\n",
       "    </tr>\n",
       "    <tr>\n",
       "      <th>1</th>\n",
       "      <td>EVs</td>\n",
       "      <td>2020-03-30</td>\n",
       "      <td>5</td>\n",
       "      <td>Lemmings believe $tsla is here to save the env...</td>\n",
       "    </tr>\n",
       "    <tr>\n",
       "      <th>2</th>\n",
       "      <td>EVs</td>\n",
       "      <td>2020-03-30</td>\n",
       "      <td>20</td>\n",
       "      <td>$SPY when this virus thing is over and I lead ...</td>\n",
       "    </tr>\n",
       "    <tr>\n",
       "      <th>3</th>\n",
       "      <td>EVs</td>\n",
       "      <td>2020-03-30</td>\n",
       "      <td>7</td>\n",
       "      <td>Lets put the stimulus money in perspective. $1...</td>\n",
       "    </tr>\n",
       "    <tr>\n",
       "      <th>4</th>\n",
       "      <td>EVs</td>\n",
       "      <td>2020-03-30</td>\n",
       "      <td>20</td>\n",
       "      <td>$TSLA EMPLOYEE AT GIGAFACTORY TESTS POSITIVE F...</td>\n",
       "    </tr>\n",
       "  </tbody>\n",
       "</table>\n",
       "</div>"
      ],
      "text/plain": [
       "  category   tweetDate  count  \\\n",
       "0      EVs  2020-03-30     20   \n",
       "1      EVs  2020-03-30      5   \n",
       "2      EVs  2020-03-30     20   \n",
       "3      EVs  2020-03-30      7   \n",
       "4      EVs  2020-03-30     20   \n",
       "\n",
       "                                               tweet  \n",
       "0  Alameda County is not responding to public rec...  \n",
       "1  Lemmings believe $tsla is here to save the env...  \n",
       "2  $SPY when this virus thing is over and I lead ...  \n",
       "3  Lets put the stimulus money in perspective. $1...  \n",
       "4  $TSLA EMPLOYEE AT GIGAFACTORY TESTS POSITIVE F...  "
      ]
     },
     "execution_count": 26,
     "metadata": {},
     "output_type": "execute_result"
    }
   ],
   "source": [
    "ev_df.head()"
   ]
  },
  {
   "cell_type": "code",
   "execution_count": 27,
   "metadata": {},
   "outputs": [
    {
     "data": {
      "text/html": [
       "<div>\n",
       "<style scoped>\n",
       "    .dataframe tbody tr th:only-of-type {\n",
       "        vertical-align: middle;\n",
       "    }\n",
       "\n",
       "    .dataframe tbody tr th {\n",
       "        vertical-align: top;\n",
       "    }\n",
       "\n",
       "    .dataframe thead th {\n",
       "        text-align: right;\n",
       "    }\n",
       "</style>\n",
       "<table border=\"1\" class=\"dataframe\">\n",
       "  <thead>\n",
       "    <tr style=\"text-align: right;\">\n",
       "      <th></th>\n",
       "      <th>category</th>\n",
       "      <th>tweetDate</th>\n",
       "      <th>count</th>\n",
       "      <th>tweet</th>\n",
       "    </tr>\n",
       "  </thead>\n",
       "  <tbody>\n",
       "    <tr>\n",
       "      <th>0</th>\n",
       "      <td>Oil</td>\n",
       "      <td>2020-03-30</td>\n",
       "      <td>30</td>\n",
       "      <td>Dont get lost in the the Green Days and think ...</td>\n",
       "    </tr>\n",
       "    <tr>\n",
       "      <th>1</th>\n",
       "      <td>Oil</td>\n",
       "      <td>2020-03-30</td>\n",
       "      <td>40</td>\n",
       "      <td>Oil is at an 18 year low and $XOM is up 150 ba...</td>\n",
       "    </tr>\n",
       "    <tr>\n",
       "      <th>2</th>\n",
       "      <td>Oil</td>\n",
       "      <td>2020-03-30</td>\n",
       "      <td>20</td>\n",
       "      <td>Auto-trading subcriptions available at Profect...</td>\n",
       "    </tr>\n",
       "    <tr>\n",
       "      <th>3</th>\n",
       "      <td>Oil</td>\n",
       "      <td>2020-03-30</td>\n",
       "      <td>20</td>\n",
       "      <td>@Scelliott81 Companies with low debt going to ...</td>\n",
       "    </tr>\n",
       "    <tr>\n",
       "      <th>4</th>\n",
       "      <td>Oil</td>\n",
       "      <td>2020-03-30</td>\n",
       "      <td>20</td>\n",
       "      <td>#OIL Sentiment ($20.50) Whats next for the OIL...</td>\n",
       "    </tr>\n",
       "  </tbody>\n",
       "</table>\n",
       "</div>"
      ],
      "text/plain": [
       "  category   tweetDate  count  \\\n",
       "0      Oil  2020-03-30     30   \n",
       "1      Oil  2020-03-30     40   \n",
       "2      Oil  2020-03-30     20   \n",
       "3      Oil  2020-03-30     20   \n",
       "4      Oil  2020-03-30     20   \n",
       "\n",
       "                                               tweet  \n",
       "0  Dont get lost in the the Green Days and think ...  \n",
       "1  Oil is at an 18 year low and $XOM is up 150 ba...  \n",
       "2  Auto-trading subcriptions available at Profect...  \n",
       "3  @Scelliott81 Companies with low debt going to ...  \n",
       "4  #OIL Sentiment ($20.50) Whats next for the OIL...  "
      ]
     },
     "execution_count": 27,
     "metadata": {},
     "output_type": "execute_result"
    }
   ],
   "source": [
    "oil_df.head()"
   ]
  },
  {
   "cell_type": "code",
   "execution_count": 28,
   "metadata": {
    "scrolled": true
   },
   "outputs": [
    {
     "data": {
      "text/html": [
       "<div>\n",
       "<style scoped>\n",
       "    .dataframe tbody tr th:only-of-type {\n",
       "        vertical-align: middle;\n",
       "    }\n",
       "\n",
       "    .dataframe tbody tr th {\n",
       "        vertical-align: top;\n",
       "    }\n",
       "\n",
       "    .dataframe thead th {\n",
       "        text-align: right;\n",
       "    }\n",
       "</style>\n",
       "<table border=\"1\" class=\"dataframe\">\n",
       "  <thead>\n",
       "    <tr style=\"text-align: right;\">\n",
       "      <th></th>\n",
       "      <th>category</th>\n",
       "      <th>tweetDate</th>\n",
       "      <th>count</th>\n",
       "      <th>tweet</th>\n",
       "    </tr>\n",
       "  </thead>\n",
       "  <tbody>\n",
       "    <tr>\n",
       "      <th>0</th>\n",
       "      <td>Pharma</td>\n",
       "      <td>2020-05-01</td>\n",
       "      <td>20</td>\n",
       "      <td>Inside Day 5/1: $ABMD $BA $BIG $CMCSA $EBAY $F...</td>\n",
       "    </tr>\n",
       "    <tr>\n",
       "      <th>1</th>\n",
       "      <td>Pharma</td>\n",
       "      <td>2020-05-01</td>\n",
       "      <td>20</td>\n",
       "      <td>Alerts for the week 13 alerts 8 winners 5 lose...</td>\n",
       "    </tr>\n",
       "    <tr>\n",
       "      <th>2</th>\n",
       "      <td>Pharma</td>\n",
       "      <td>2020-05-01</td>\n",
       "      <td>20</td>\n",
       "      <td>@TopStockAlerts1 $CODX $CAPR $AYTU #CORONAVIRU...</td>\n",
       "    </tr>\n",
       "    <tr>\n",
       "      <th>3</th>\n",
       "      <td>Pharma</td>\n",
       "      <td>2020-05-01</td>\n",
       "      <td>50</td>\n",
       "      <td>#MiniPoll: Of the hundreds #Covid19 vaccines, ...</td>\n",
       "    </tr>\n",
       "    <tr>\n",
       "      <th>4</th>\n",
       "      <td>Pharma</td>\n",
       "      <td>2020-05-01</td>\n",
       "      <td>30</td>\n",
       "      <td>$LVGO $CRWD $MRNA on high tight flag watch.</td>\n",
       "    </tr>\n",
       "  </tbody>\n",
       "</table>\n",
       "</div>"
      ],
      "text/plain": [
       "  category   tweetDate  count  \\\n",
       "0   Pharma  2020-05-01     20   \n",
       "1   Pharma  2020-05-01     20   \n",
       "2   Pharma  2020-05-01     20   \n",
       "3   Pharma  2020-05-01     50   \n",
       "4   Pharma  2020-05-01     30   \n",
       "\n",
       "                                               tweet  \n",
       "0  Inside Day 5/1: $ABMD $BA $BIG $CMCSA $EBAY $F...  \n",
       "1  Alerts for the week 13 alerts 8 winners 5 lose...  \n",
       "2  @TopStockAlerts1 $CODX $CAPR $AYTU #CORONAVIRU...  \n",
       "3  #MiniPoll: Of the hundreds #Covid19 vaccines, ...  \n",
       "4        $LVGO $CRWD $MRNA on high tight flag watch.  "
      ]
     },
     "execution_count": 28,
     "metadata": {},
     "output_type": "execute_result"
    }
   ],
   "source": [
    "pharma_df.head()"
   ]
  },
  {
   "cell_type": "code",
   "execution_count": 30,
   "metadata": {},
   "outputs": [
    {
     "name": "stdout",
     "output_type": "stream",
     "text": [
      "Tech: 38846 EVs: 48095 Oil: 8698 Pharma: 52594\n"
     ]
    }
   ],
   "source": [
    "print(\"Tech:\", len(tech_df), \"EVs:\", len(ev_df), \"Oil:\", len(oil_df), \"Pharma:\", len(pharma_df))"
   ]
  },
  {
   "cell_type": "code",
   "execution_count": 39,
   "metadata": {},
   "outputs": [],
   "source": [
    "con_red = sqlite3.connect(os.path.join(os.getcwd(), \"../Database/fypdb-ReducedTweets.sqlite\"))"
   ]
  },
  {
   "cell_type": "code",
   "execution_count": 36,
   "metadata": {},
   "outputs": [],
   "source": [
    "write_to_db(con_red, tech_df, \"tech\")"
   ]
  },
  {
   "cell_type": "code",
   "execution_count": 33,
   "metadata": {},
   "outputs": [],
   "source": [
    "write_to_db(con_red, ev_df, \"ev\")"
   ]
  },
  {
   "cell_type": "code",
   "execution_count": 38,
   "metadata": {},
   "outputs": [],
   "source": [
    "write_to_db(con_red, oil_df, \"oil\")"
   ]
  },
  {
   "cell_type": "code",
   "execution_count": 40,
   "metadata": {},
   "outputs": [],
   "source": [
    "write_to_db(con_red, pharma_df, \"pharma\")"
   ]
  },
  {
   "cell_type": "markdown",
   "metadata": {},
   "source": [
    "### Stocks"
   ]
  },
  {
   "cell_type": "code",
   "execution_count": 2,
   "metadata": {},
   "outputs": [],
   "source": [
    "con_stock = sqlite3.connect(os.path.join(os.getcwd(), \"../Database/fypdb.sqlite\"))\n",
    "\n",
    "cur_stock = con_stock.cursor()"
   ]
  },
  {
   "cell_type": "code",
   "execution_count": 3,
   "metadata": {},
   "outputs": [],
   "source": [
    "tech_stock = pd.read_sql_query(\"SELECT * from stock_data WHERE category='Tech'\", con_stock)\n",
    "oil_stock = pd.read_sql_query(\"SELECT * from stock_data WHERE category='Oil'\", con_stock)\n",
    "pharma_stock = pd.read_sql_query(\"SELECT * from stock_data WHERE category='Pharma'\", con_stock)\n",
    "ev_stock = pd.read_sql_query(\"SELECT * from stock_data WHERE category='EVS'\", con_stock)"
   ]
  },
  {
   "cell_type": "code",
   "execution_count": 4,
   "metadata": {},
   "outputs": [
    {
     "data": {
      "text/html": [
       "<div>\n",
       "<style scoped>\n",
       "    .dataframe tbody tr th:only-of-type {\n",
       "        vertical-align: middle;\n",
       "    }\n",
       "\n",
       "    .dataframe tbody tr th {\n",
       "        vertical-align: top;\n",
       "    }\n",
       "\n",
       "    .dataframe thead th {\n",
       "        text-align: right;\n",
       "    }\n",
       "</style>\n",
       "<table border=\"1\" class=\"dataframe\">\n",
       "  <thead>\n",
       "    <tr style=\"text-align: right;\">\n",
       "      <th></th>\n",
       "      <th>category</th>\n",
       "      <th>ticker</th>\n",
       "      <th>stockDate</th>\n",
       "      <th>open</th>\n",
       "      <th>close</th>\n",
       "      <th>high</th>\n",
       "      <th>low</th>\n",
       "    </tr>\n",
       "  </thead>\n",
       "  <tbody>\n",
       "    <tr>\n",
       "      <th>0</th>\n",
       "      <td>Tech</td>\n",
       "      <td>GOOGL</td>\n",
       "      <td>2020-03-26</td>\n",
       "      <td>1114.7200</td>\n",
       "      <td>1162.9200</td>\n",
       "      <td>1171.4800</td>\n",
       "      <td>1092.03000</td>\n",
       "    </tr>\n",
       "    <tr>\n",
       "      <th>1</th>\n",
       "      <td>Tech</td>\n",
       "      <td>GOOGL</td>\n",
       "      <td>2020-03-27</td>\n",
       "      <td>1127.4700</td>\n",
       "      <td>1110.2600</td>\n",
       "      <td>1151.0500</td>\n",
       "      <td>1104.00270</td>\n",
       "    </tr>\n",
       "    <tr>\n",
       "      <th>2</th>\n",
       "      <td>Tech</td>\n",
       "      <td>GOOGL</td>\n",
       "      <td>2020-03-28</td>\n",
       "      <td>1130.0550</td>\n",
       "      <td>1128.2850</td>\n",
       "      <td>1151.0250</td>\n",
       "      <td>1101.24640</td>\n",
       "    </tr>\n",
       "    <tr>\n",
       "      <th>3</th>\n",
       "      <td>Tech</td>\n",
       "      <td>GOOGL</td>\n",
       "      <td>2020-03-29</td>\n",
       "      <td>1131.3475</td>\n",
       "      <td>1137.2975</td>\n",
       "      <td>1151.0125</td>\n",
       "      <td>1099.86825</td>\n",
       "    </tr>\n",
       "    <tr>\n",
       "      <th>4</th>\n",
       "      <td>Tech</td>\n",
       "      <td>GOOGL</td>\n",
       "      <td>2020-03-30</td>\n",
       "      <td>1132.6400</td>\n",
       "      <td>1146.3100</td>\n",
       "      <td>1151.0000</td>\n",
       "      <td>1098.49010</td>\n",
       "    </tr>\n",
       "  </tbody>\n",
       "</table>\n",
       "</div>"
      ],
      "text/plain": [
       "  category ticker   stockDate       open      close       high         low\n",
       "0     Tech  GOOGL  2020-03-26  1114.7200  1162.9200  1171.4800  1092.03000\n",
       "1     Tech  GOOGL  2020-03-27  1127.4700  1110.2600  1151.0500  1104.00270\n",
       "2     Tech  GOOGL  2020-03-28  1130.0550  1128.2850  1151.0250  1101.24640\n",
       "3     Tech  GOOGL  2020-03-29  1131.3475  1137.2975  1151.0125  1099.86825\n",
       "4     Tech  GOOGL  2020-03-30  1132.6400  1146.3100  1151.0000  1098.49010"
      ]
     },
     "execution_count": 4,
     "metadata": {},
     "output_type": "execute_result"
    }
   ],
   "source": [
    "tech_stock.head()"
   ]
  },
  {
   "cell_type": "code",
   "execution_count": 5,
   "metadata": {},
   "outputs": [
    {
     "data": {
      "text/html": [
       "<div>\n",
       "<style scoped>\n",
       "    .dataframe tbody tr th:only-of-type {\n",
       "        vertical-align: middle;\n",
       "    }\n",
       "\n",
       "    .dataframe tbody tr th {\n",
       "        vertical-align: top;\n",
       "    }\n",
       "\n",
       "    .dataframe thead th {\n",
       "        text-align: right;\n",
       "    }\n",
       "</style>\n",
       "<table border=\"1\" class=\"dataframe\">\n",
       "  <thead>\n",
       "    <tr style=\"text-align: right;\">\n",
       "      <th></th>\n",
       "      <th>category</th>\n",
       "      <th>ticker</th>\n",
       "      <th>stockDate</th>\n",
       "      <th>open</th>\n",
       "      <th>close</th>\n",
       "      <th>high</th>\n",
       "      <th>low</th>\n",
       "    </tr>\n",
       "  </thead>\n",
       "  <tbody>\n",
       "    <tr>\n",
       "      <th>0</th>\n",
       "      <td>Oil</td>\n",
       "      <td>CVX</td>\n",
       "      <td>2020-03-30</td>\n",
       "      <td>68.01</td>\n",
       "      <td>71.95</td>\n",
       "      <td>72.93</td>\n",
       "      <td>67.020</td>\n",
       "    </tr>\n",
       "    <tr>\n",
       "      <th>1</th>\n",
       "      <td>Oil</td>\n",
       "      <td>CVX</td>\n",
       "      <td>2020-03-31</td>\n",
       "      <td>73.27</td>\n",
       "      <td>72.46</td>\n",
       "      <td>75.04</td>\n",
       "      <td>70.810</td>\n",
       "    </tr>\n",
       "    <tr>\n",
       "      <th>2</th>\n",
       "      <td>Oil</td>\n",
       "      <td>CVX</td>\n",
       "      <td>2020-04-01</td>\n",
       "      <td>69.51</td>\n",
       "      <td>68.56</td>\n",
       "      <td>72.29</td>\n",
       "      <td>67.610</td>\n",
       "    </tr>\n",
       "    <tr>\n",
       "      <th>3</th>\n",
       "      <td>Oil</td>\n",
       "      <td>CVX</td>\n",
       "      <td>2020-04-02</td>\n",
       "      <td>71.75</td>\n",
       "      <td>76.12</td>\n",
       "      <td>78.70</td>\n",
       "      <td>69.575</td>\n",
       "    </tr>\n",
       "    <tr>\n",
       "      <th>4</th>\n",
       "      <td>Oil</td>\n",
       "      <td>CVX</td>\n",
       "      <td>2020-04-03</td>\n",
       "      <td>78.00</td>\n",
       "      <td>75.11</td>\n",
       "      <td>78.99</td>\n",
       "      <td>73.030</td>\n",
       "    </tr>\n",
       "  </tbody>\n",
       "</table>\n",
       "</div>"
      ],
      "text/plain": [
       "  category ticker   stockDate   open  close   high     low\n",
       "0      Oil    CVX  2020-03-30  68.01  71.95  72.93  67.020\n",
       "1      Oil    CVX  2020-03-31  73.27  72.46  75.04  70.810\n",
       "2      Oil    CVX  2020-04-01  69.51  68.56  72.29  67.610\n",
       "3      Oil    CVX  2020-04-02  71.75  76.12  78.70  69.575\n",
       "4      Oil    CVX  2020-04-03  78.00  75.11  78.99  73.030"
      ]
     },
     "execution_count": 5,
     "metadata": {},
     "output_type": "execute_result"
    }
   ],
   "source": [
    "oil_stock.head()"
   ]
  },
  {
   "cell_type": "code",
   "execution_count": 6,
   "metadata": {},
   "outputs": [
    {
     "data": {
      "text/html": [
       "<div>\n",
       "<style scoped>\n",
       "    .dataframe tbody tr th:only-of-type {\n",
       "        vertical-align: middle;\n",
       "    }\n",
       "\n",
       "    .dataframe tbody tr th {\n",
       "        vertical-align: top;\n",
       "    }\n",
       "\n",
       "    .dataframe thead th {\n",
       "        text-align: right;\n",
       "    }\n",
       "</style>\n",
       "<table border=\"1\" class=\"dataframe\">\n",
       "  <thead>\n",
       "    <tr style=\"text-align: right;\">\n",
       "      <th></th>\n",
       "      <th>category</th>\n",
       "      <th>ticker</th>\n",
       "      <th>stockDate</th>\n",
       "      <th>open</th>\n",
       "      <th>close</th>\n",
       "      <th>high</th>\n",
       "      <th>low</th>\n",
       "    </tr>\n",
       "  </thead>\n",
       "  <tbody>\n",
       "    <tr>\n",
       "      <th>0</th>\n",
       "      <td>Pharma</td>\n",
       "      <td>PFE</td>\n",
       "      <td>2020-05-13</td>\n",
       "      <td>37.310</td>\n",
       "      <td>37.0500</td>\n",
       "      <td>37.4250</td>\n",
       "      <td>36.58500</td>\n",
       "    </tr>\n",
       "    <tr>\n",
       "      <th>1</th>\n",
       "      <td>Pharma</td>\n",
       "      <td>PFE</td>\n",
       "      <td>2020-05-14</td>\n",
       "      <td>36.800</td>\n",
       "      <td>37.9200</td>\n",
       "      <td>37.9600</td>\n",
       "      <td>36.78000</td>\n",
       "    </tr>\n",
       "    <tr>\n",
       "      <th>2</th>\n",
       "      <td>Pharma</td>\n",
       "      <td>PFE</td>\n",
       "      <td>2020-05-15</td>\n",
       "      <td>37.960</td>\n",
       "      <td>37.7600</td>\n",
       "      <td>38.1700</td>\n",
       "      <td>37.38500</td>\n",
       "    </tr>\n",
       "    <tr>\n",
       "      <th>3</th>\n",
       "      <td>Pharma</td>\n",
       "      <td>PFE</td>\n",
       "      <td>2020-05-16</td>\n",
       "      <td>38.150</td>\n",
       "      <td>37.9150</td>\n",
       "      <td>38.3150</td>\n",
       "      <td>37.50750</td>\n",
       "    </tr>\n",
       "    <tr>\n",
       "      <th>4</th>\n",
       "      <td>Pharma</td>\n",
       "      <td>PFE</td>\n",
       "      <td>2020-05-17</td>\n",
       "      <td>38.245</td>\n",
       "      <td>37.9925</td>\n",
       "      <td>38.3875</td>\n",
       "      <td>37.56875</td>\n",
       "    </tr>\n",
       "  </tbody>\n",
       "</table>\n",
       "</div>"
      ],
      "text/plain": [
       "  category ticker   stockDate    open    close     high       low\n",
       "0   Pharma    PFE  2020-05-13  37.310  37.0500  37.4250  36.58500\n",
       "1   Pharma    PFE  2020-05-14  36.800  37.9200  37.9600  36.78000\n",
       "2   Pharma    PFE  2020-05-15  37.960  37.7600  38.1700  37.38500\n",
       "3   Pharma    PFE  2020-05-16  38.150  37.9150  38.3150  37.50750\n",
       "4   Pharma    PFE  2020-05-17  38.245  37.9925  38.3875  37.56875"
      ]
     },
     "execution_count": 6,
     "metadata": {},
     "output_type": "execute_result"
    }
   ],
   "source": [
    "pharma_stock.head()"
   ]
  },
  {
   "cell_type": "code",
   "execution_count": 7,
   "metadata": {},
   "outputs": [
    {
     "data": {
      "text/html": [
       "<div>\n",
       "<style scoped>\n",
       "    .dataframe tbody tr th:only-of-type {\n",
       "        vertical-align: middle;\n",
       "    }\n",
       "\n",
       "    .dataframe tbody tr th {\n",
       "        vertical-align: top;\n",
       "    }\n",
       "\n",
       "    .dataframe thead th {\n",
       "        text-align: right;\n",
       "    }\n",
       "</style>\n",
       "<table border=\"1\" class=\"dataframe\">\n",
       "  <thead>\n",
       "    <tr style=\"text-align: right;\">\n",
       "      <th></th>\n",
       "      <th>category</th>\n",
       "      <th>ticker</th>\n",
       "      <th>stockDate</th>\n",
       "      <th>open</th>\n",
       "      <th>close</th>\n",
       "      <th>high</th>\n",
       "      <th>low</th>\n",
       "    </tr>\n",
       "  </thead>\n",
       "  <tbody>\n",
       "    <tr>\n",
       "      <th>0</th>\n",
       "      <td>EVS</td>\n",
       "      <td>TSLA</td>\n",
       "      <td>2020-03-30</td>\n",
       "      <td>102.052</td>\n",
       "      <td>100.426</td>\n",
       "      <td>103.3294</td>\n",
       "      <td>98.246</td>\n",
       "    </tr>\n",
       "    <tr>\n",
       "      <th>1</th>\n",
       "      <td>EVS</td>\n",
       "      <td>TSLA</td>\n",
       "      <td>2020-03-31</td>\n",
       "      <td>100.250</td>\n",
       "      <td>104.800</td>\n",
       "      <td>108.5920</td>\n",
       "      <td>99.400</td>\n",
       "    </tr>\n",
       "    <tr>\n",
       "      <th>2</th>\n",
       "      <td>EVS</td>\n",
       "      <td>TSLA</td>\n",
       "      <td>2020-04-01</td>\n",
       "      <td>100.800</td>\n",
       "      <td>96.312</td>\n",
       "      <td>102.7910</td>\n",
       "      <td>95.020</td>\n",
       "    </tr>\n",
       "    <tr>\n",
       "      <th>3</th>\n",
       "      <td>EVS</td>\n",
       "      <td>TSLA</td>\n",
       "      <td>2020-04-02</td>\n",
       "      <td>96.206</td>\n",
       "      <td>90.894</td>\n",
       "      <td>98.8520</td>\n",
       "      <td>89.280</td>\n",
       "    </tr>\n",
       "    <tr>\n",
       "      <th>4</th>\n",
       "      <td>EVS</td>\n",
       "      <td>TSLA</td>\n",
       "      <td>2020-04-03</td>\n",
       "      <td>101.900</td>\n",
       "      <td>96.002</td>\n",
       "      <td>103.0980</td>\n",
       "      <td>93.678</td>\n",
       "    </tr>\n",
       "  </tbody>\n",
       "</table>\n",
       "</div>"
      ],
      "text/plain": [
       "  category ticker   stockDate     open    close      high     low\n",
       "0      EVS   TSLA  2020-03-30  102.052  100.426  103.3294  98.246\n",
       "1      EVS   TSLA  2020-03-31  100.250  104.800  108.5920  99.400\n",
       "2      EVS   TSLA  2020-04-01  100.800   96.312  102.7910  95.020\n",
       "3      EVS   TSLA  2020-04-02   96.206   90.894   98.8520  89.280\n",
       "4      EVS   TSLA  2020-04-03  101.900   96.002  103.0980  93.678"
      ]
     },
     "execution_count": 7,
     "metadata": {},
     "output_type": "execute_result"
    }
   ],
   "source": [
    "ev_stock.head()"
   ]
  },
  {
   "cell_type": "code",
   "execution_count": 8,
   "metadata": {},
   "outputs": [
    {
     "name": "stdout",
     "output_type": "stream",
     "text": [
      "Tech: 3632 EVs: 967 Oil: 2175 Pharma: 2190\n"
     ]
    }
   ],
   "source": [
    "print(\"Tech:\", len(tech_stock), \"EVs:\", len(ev_stock), \"Oil:\", len(oil_stock), \"Pharma:\", len(pharma_stock))"
   ]
  },
  {
   "cell_type": "code",
   "execution_count": 9,
   "metadata": {},
   "outputs": [],
   "source": [
    "def write_to_db(con, df, table_name):\n",
    "    cursor = con.cursor()\n",
    "    \n",
    "    try:\n",
    "        insert_command = f'''CREATE TABLE IF NOT EXISTS {table_name}_stocks (\n",
    "                                category TEXT,\n",
    "                                ticker TEXT,\n",
    "                                stockDate DATE,\n",
    "                                open NUMERIC,\n",
    "                                close NUMERIC,\n",
    "                                high NUMERIC,\n",
    "                                low NUMERIC\n",
    "                            );\n",
    "                        '''\n",
    "        \n",
    "        cursor.execute(insert_command)\n",
    "        con.commit()\n",
    "        \n",
    "        df.to_sql(f'{table_name}_stocks', con, if_exists='replace', index=False)\n",
    "        con.commit()\n",
    "        \n",
    "    except sqlite3.Error as error:\n",
    "        print({error})\n",
    "    \n",
    "    finally:\n",
    "        cursor.close()\n",
    "        con.close()"
   ]
  },
  {
   "cell_type": "code",
   "execution_count": 16,
   "metadata": {},
   "outputs": [],
   "source": [
    "con_stock = sqlite3.connect(os.path.join(os.getcwd(), \"../Database/fypdb-StockData.sqlite\"))"
   ]
  },
  {
   "cell_type": "code",
   "execution_count": 11,
   "metadata": {},
   "outputs": [],
   "source": [
    "write_to_db(con_stock, tech_stock, \"tech\")"
   ]
  },
  {
   "cell_type": "code",
   "execution_count": 13,
   "metadata": {},
   "outputs": [],
   "source": [
    "write_to_db(con_stock, ev_stock, \"ev\")"
   ]
  },
  {
   "cell_type": "code",
   "execution_count": 15,
   "metadata": {},
   "outputs": [],
   "source": [
    "write_to_db(con_stock, oil_stock, \"oil\")"
   ]
  },
  {
   "cell_type": "code",
   "execution_count": 17,
   "metadata": {},
   "outputs": [],
   "source": [
    "write_to_db(con_stock, pharma_stock, \"pharma\")"
   ]
  }
 ],
 "metadata": {
  "kernelspec": {
   "display_name": "Python 3",
   "language": "python",
   "name": "python3"
  },
  "language_info": {
   "codemirror_mode": {
    "name": "ipython",
    "version": 3
   },
   "file_extension": ".py",
   "mimetype": "text/x-python",
   "name": "python",
   "nbconvert_exporter": "python",
   "pygments_lexer": "ipython3",
   "version": "3.8.5"
  }
 },
 "nbformat": 4,
 "nbformat_minor": 4
}
